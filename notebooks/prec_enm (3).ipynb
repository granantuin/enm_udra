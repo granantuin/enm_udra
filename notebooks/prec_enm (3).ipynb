{
 "cells": [
  {
   "cell_type": "code",
   "execution_count": 50,
   "metadata": {
    "colab": {
     "base_uri": "https://localhost:8080/",
     "height": 542
    },
    "id": "L5ZGyKtdklV4",
    "outputId": "c389535c-5ddc-4c32-e9f1-4509d4b4c58b"
   },
   "outputs": [
    {
     "data": {
      "application/vnd.plotly.v1+json": {
       "config": {
        "plotlyServerURL": "https://plot.ly"
       },
       "data": [
        {
         "customdata": [
          [
           1.95
          ],
          [
           2.39
          ],
          [
           3.62
          ],
          [
           3.87
          ]
         ],
         "hovertemplate": "lat=%{lat}<br>lon=%{lon}<br>distance=%{marker.color}<extra></extra>",
         "lat": [
          42.38849926509398,
          42.39081089741587,
          42.42439384094166,
          42.42670682621922
         ],
         "legendgroup": "",
         "lon": [
          -8.672854022168282,
          -8.721454475293664,
          -8.669708357949443,
          -8.718336825753484
         ],
         "marker": {
          "color": [
           1.95,
           2.39,
           3.62,
           3.87
          ],
          "coloraxis": "coloraxis"
         },
         "mode": "markers",
         "name": "",
         "showlegend": false,
         "subplot": "mapbox",
         "type": "scattermapbox"
        }
       ],
       "layout": {
        "coloraxis": {
         "colorbar": {
          "title": {
           "text": "distance"
          }
         },
         "colorscale": [
          [
           0,
           "#000000"
          ],
          [
           0.0625,
           "#001f4d"
          ],
          [
           0.125,
           "#003786"
          ],
          [
           0.1875,
           "#0e58a8"
          ],
          [
           0.25,
           "#217eb8"
          ],
          [
           0.3125,
           "#30a4ca"
          ],
          [
           0.375,
           "#54c8df"
          ],
          [
           0.4375,
           "#9be4ef"
          ],
          [
           0.5,
           "#e1e9d1"
          ],
          [
           0.5625,
           "#f3d573"
          ],
          [
           0.625,
           "#e7b000"
          ],
          [
           0.6875,
           "#da8200"
          ],
          [
           0.75,
           "#c65400"
          ],
          [
           0.8125,
           "#ac2301"
          ],
          [
           0.875,
           "#820000"
          ],
          [
           0.9375,
           "#4c0000"
          ],
          [
           1,
           "#000000"
          ]
         ]
        },
        "legend": {
         "tracegroupgap": 0
        },
        "mapbox": {
         "accesstoken": "pk.eyJ1IjoiZ3JhbmFudHVpbiIsImEiOiJja3B4dGU4OTkwMTFmMm9ycnNhMjJvaGJqIn0.VWzx_PkD9A5cSUVsn_ijCA",
         "center": {
          "lat": 42.40760270741768,
          "lon": -8.695588420291218
         },
         "domain": {
          "x": [
           0,
           1
          ],
          "y": [
           0,
           1
          ]
         },
         "zoom": 8
        },
        "template": {
         "data": {
          "bar": [
           {
            "error_x": {
             "color": "#2a3f5f"
            },
            "error_y": {
             "color": "#2a3f5f"
            },
            "marker": {
             "line": {
              "color": "#E5ECF6",
              "width": 0.5
             },
             "pattern": {
              "fillmode": "overlay",
              "size": 10,
              "solidity": 0.2
             }
            },
            "type": "bar"
           }
          ],
          "barpolar": [
           {
            "marker": {
             "line": {
              "color": "#E5ECF6",
              "width": 0.5
             },
             "pattern": {
              "fillmode": "overlay",
              "size": 10,
              "solidity": 0.2
             }
            },
            "type": "barpolar"
           }
          ],
          "carpet": [
           {
            "aaxis": {
             "endlinecolor": "#2a3f5f",
             "gridcolor": "white",
             "linecolor": "white",
             "minorgridcolor": "white",
             "startlinecolor": "#2a3f5f"
            },
            "baxis": {
             "endlinecolor": "#2a3f5f",
             "gridcolor": "white",
             "linecolor": "white",
             "minorgridcolor": "white",
             "startlinecolor": "#2a3f5f"
            },
            "type": "carpet"
           }
          ],
          "choropleth": [
           {
            "colorbar": {
             "outlinewidth": 0,
             "ticks": ""
            },
            "type": "choropleth"
           }
          ],
          "contour": [
           {
            "colorbar": {
             "outlinewidth": 0,
             "ticks": ""
            },
            "colorscale": [
             [
              0,
              "#0d0887"
             ],
             [
              0.1111111111111111,
              "#46039f"
             ],
             [
              0.2222222222222222,
              "#7201a8"
             ],
             [
              0.3333333333333333,
              "#9c179e"
             ],
             [
              0.4444444444444444,
              "#bd3786"
             ],
             [
              0.5555555555555556,
              "#d8576b"
             ],
             [
              0.6666666666666666,
              "#ed7953"
             ],
             [
              0.7777777777777778,
              "#fb9f3a"
             ],
             [
              0.8888888888888888,
              "#fdca26"
             ],
             [
              1,
              "#f0f921"
             ]
            ],
            "type": "contour"
           }
          ],
          "contourcarpet": [
           {
            "colorbar": {
             "outlinewidth": 0,
             "ticks": ""
            },
            "type": "contourcarpet"
           }
          ],
          "heatmap": [
           {
            "colorbar": {
             "outlinewidth": 0,
             "ticks": ""
            },
            "colorscale": [
             [
              0,
              "#0d0887"
             ],
             [
              0.1111111111111111,
              "#46039f"
             ],
             [
              0.2222222222222222,
              "#7201a8"
             ],
             [
              0.3333333333333333,
              "#9c179e"
             ],
             [
              0.4444444444444444,
              "#bd3786"
             ],
             [
              0.5555555555555556,
              "#d8576b"
             ],
             [
              0.6666666666666666,
              "#ed7953"
             ],
             [
              0.7777777777777778,
              "#fb9f3a"
             ],
             [
              0.8888888888888888,
              "#fdca26"
             ],
             [
              1,
              "#f0f921"
             ]
            ],
            "type": "heatmap"
           }
          ],
          "heatmapgl": [
           {
            "colorbar": {
             "outlinewidth": 0,
             "ticks": ""
            },
            "colorscale": [
             [
              0,
              "#0d0887"
             ],
             [
              0.1111111111111111,
              "#46039f"
             ],
             [
              0.2222222222222222,
              "#7201a8"
             ],
             [
              0.3333333333333333,
              "#9c179e"
             ],
             [
              0.4444444444444444,
              "#bd3786"
             ],
             [
              0.5555555555555556,
              "#d8576b"
             ],
             [
              0.6666666666666666,
              "#ed7953"
             ],
             [
              0.7777777777777778,
              "#fb9f3a"
             ],
             [
              0.8888888888888888,
              "#fdca26"
             ],
             [
              1,
              "#f0f921"
             ]
            ],
            "type": "heatmapgl"
           }
          ],
          "histogram": [
           {
            "marker": {
             "pattern": {
              "fillmode": "overlay",
              "size": 10,
              "solidity": 0.2
             }
            },
            "type": "histogram"
           }
          ],
          "histogram2d": [
           {
            "colorbar": {
             "outlinewidth": 0,
             "ticks": ""
            },
            "colorscale": [
             [
              0,
              "#0d0887"
             ],
             [
              0.1111111111111111,
              "#46039f"
             ],
             [
              0.2222222222222222,
              "#7201a8"
             ],
             [
              0.3333333333333333,
              "#9c179e"
             ],
             [
              0.4444444444444444,
              "#bd3786"
             ],
             [
              0.5555555555555556,
              "#d8576b"
             ],
             [
              0.6666666666666666,
              "#ed7953"
             ],
             [
              0.7777777777777778,
              "#fb9f3a"
             ],
             [
              0.8888888888888888,
              "#fdca26"
             ],
             [
              1,
              "#f0f921"
             ]
            ],
            "type": "histogram2d"
           }
          ],
          "histogram2dcontour": [
           {
            "colorbar": {
             "outlinewidth": 0,
             "ticks": ""
            },
            "colorscale": [
             [
              0,
              "#0d0887"
             ],
             [
              0.1111111111111111,
              "#46039f"
             ],
             [
              0.2222222222222222,
              "#7201a8"
             ],
             [
              0.3333333333333333,
              "#9c179e"
             ],
             [
              0.4444444444444444,
              "#bd3786"
             ],
             [
              0.5555555555555556,
              "#d8576b"
             ],
             [
              0.6666666666666666,
              "#ed7953"
             ],
             [
              0.7777777777777778,
              "#fb9f3a"
             ],
             [
              0.8888888888888888,
              "#fdca26"
             ],
             [
              1,
              "#f0f921"
             ]
            ],
            "type": "histogram2dcontour"
           }
          ],
          "mesh3d": [
           {
            "colorbar": {
             "outlinewidth": 0,
             "ticks": ""
            },
            "type": "mesh3d"
           }
          ],
          "parcoords": [
           {
            "line": {
             "colorbar": {
              "outlinewidth": 0,
              "ticks": ""
             }
            },
            "type": "parcoords"
           }
          ],
          "pie": [
           {
            "automargin": true,
            "type": "pie"
           }
          ],
          "scatter": [
           {
            "fillpattern": {
             "fillmode": "overlay",
             "size": 10,
             "solidity": 0.2
            },
            "type": "scatter"
           }
          ],
          "scatter3d": [
           {
            "line": {
             "colorbar": {
              "outlinewidth": 0,
              "ticks": ""
             }
            },
            "marker": {
             "colorbar": {
              "outlinewidth": 0,
              "ticks": ""
             }
            },
            "type": "scatter3d"
           }
          ],
          "scattercarpet": [
           {
            "marker": {
             "colorbar": {
              "outlinewidth": 0,
              "ticks": ""
             }
            },
            "type": "scattercarpet"
           }
          ],
          "scattergeo": [
           {
            "marker": {
             "colorbar": {
              "outlinewidth": 0,
              "ticks": ""
             }
            },
            "type": "scattergeo"
           }
          ],
          "scattergl": [
           {
            "marker": {
             "colorbar": {
              "outlinewidth": 0,
              "ticks": ""
             }
            },
            "type": "scattergl"
           }
          ],
          "scattermapbox": [
           {
            "marker": {
             "colorbar": {
              "outlinewidth": 0,
              "ticks": ""
             }
            },
            "type": "scattermapbox"
           }
          ],
          "scatterpolar": [
           {
            "marker": {
             "colorbar": {
              "outlinewidth": 0,
              "ticks": ""
             }
            },
            "type": "scatterpolar"
           }
          ],
          "scatterpolargl": [
           {
            "marker": {
             "colorbar": {
              "outlinewidth": 0,
              "ticks": ""
             }
            },
            "type": "scatterpolargl"
           }
          ],
          "scatterternary": [
           {
            "marker": {
             "colorbar": {
              "outlinewidth": 0,
              "ticks": ""
             }
            },
            "type": "scatterternary"
           }
          ],
          "surface": [
           {
            "colorbar": {
             "outlinewidth": 0,
             "ticks": ""
            },
            "colorscale": [
             [
              0,
              "#0d0887"
             ],
             [
              0.1111111111111111,
              "#46039f"
             ],
             [
              0.2222222222222222,
              "#7201a8"
             ],
             [
              0.3333333333333333,
              "#9c179e"
             ],
             [
              0.4444444444444444,
              "#bd3786"
             ],
             [
              0.5555555555555556,
              "#d8576b"
             ],
             [
              0.6666666666666666,
              "#ed7953"
             ],
             [
              0.7777777777777778,
              "#fb9f3a"
             ],
             [
              0.8888888888888888,
              "#fdca26"
             ],
             [
              1,
              "#f0f921"
             ]
            ],
            "type": "surface"
           }
          ],
          "table": [
           {
            "cells": {
             "fill": {
              "color": "#EBF0F8"
             },
             "line": {
              "color": "white"
             }
            },
            "header": {
             "fill": {
              "color": "#C8D4E3"
             },
             "line": {
              "color": "white"
             }
            },
            "type": "table"
           }
          ]
         },
         "layout": {
          "annotationdefaults": {
           "arrowcolor": "#2a3f5f",
           "arrowhead": 0,
           "arrowwidth": 1
          },
          "autotypenumbers": "strict",
          "coloraxis": {
           "colorbar": {
            "outlinewidth": 0,
            "ticks": ""
           }
          },
          "colorscale": {
           "diverging": [
            [
             0,
             "#8e0152"
            ],
            [
             0.1,
             "#c51b7d"
            ],
            [
             0.2,
             "#de77ae"
            ],
            [
             0.3,
             "#f1b6da"
            ],
            [
             0.4,
             "#fde0ef"
            ],
            [
             0.5,
             "#f7f7f7"
            ],
            [
             0.6,
             "#e6f5d0"
            ],
            [
             0.7,
             "#b8e186"
            ],
            [
             0.8,
             "#7fbc41"
            ],
            [
             0.9,
             "#4d9221"
            ],
            [
             1,
             "#276419"
            ]
           ],
           "sequential": [
            [
             0,
             "#0d0887"
            ],
            [
             0.1111111111111111,
             "#46039f"
            ],
            [
             0.2222222222222222,
             "#7201a8"
            ],
            [
             0.3333333333333333,
             "#9c179e"
            ],
            [
             0.4444444444444444,
             "#bd3786"
            ],
            [
             0.5555555555555556,
             "#d8576b"
            ],
            [
             0.6666666666666666,
             "#ed7953"
            ],
            [
             0.7777777777777778,
             "#fb9f3a"
            ],
            [
             0.8888888888888888,
             "#fdca26"
            ],
            [
             1,
             "#f0f921"
            ]
           ],
           "sequentialminus": [
            [
             0,
             "#0d0887"
            ],
            [
             0.1111111111111111,
             "#46039f"
            ],
            [
             0.2222222222222222,
             "#7201a8"
            ],
            [
             0.3333333333333333,
             "#9c179e"
            ],
            [
             0.4444444444444444,
             "#bd3786"
            ],
            [
             0.5555555555555556,
             "#d8576b"
            ],
            [
             0.6666666666666666,
             "#ed7953"
            ],
            [
             0.7777777777777778,
             "#fb9f3a"
            ],
            [
             0.8888888888888888,
             "#fdca26"
            ],
            [
             1,
             "#f0f921"
            ]
           ]
          },
          "colorway": [
           "#636efa",
           "#EF553B",
           "#00cc96",
           "#ab63fa",
           "#FFA15A",
           "#19d3f3",
           "#FF6692",
           "#B6E880",
           "#FF97FF",
           "#FECB52"
          ],
          "font": {
           "color": "#2a3f5f"
          },
          "geo": {
           "bgcolor": "white",
           "lakecolor": "white",
           "landcolor": "#E5ECF6",
           "showlakes": true,
           "showland": true,
           "subunitcolor": "white"
          },
          "hoverlabel": {
           "align": "left"
          },
          "hovermode": "closest",
          "mapbox": {
           "style": "light"
          },
          "paper_bgcolor": "white",
          "plot_bgcolor": "#E5ECF6",
          "polar": {
           "angularaxis": {
            "gridcolor": "white",
            "linecolor": "white",
            "ticks": ""
           },
           "bgcolor": "#E5ECF6",
           "radialaxis": {
            "gridcolor": "white",
            "linecolor": "white",
            "ticks": ""
           }
          },
          "scene": {
           "xaxis": {
            "backgroundcolor": "#E5ECF6",
            "gridcolor": "white",
            "gridwidth": 2,
            "linecolor": "white",
            "showbackground": true,
            "ticks": "",
            "zerolinecolor": "white"
           },
           "yaxis": {
            "backgroundcolor": "#E5ECF6",
            "gridcolor": "white",
            "gridwidth": 2,
            "linecolor": "white",
            "showbackground": true,
            "ticks": "",
            "zerolinecolor": "white"
           },
           "zaxis": {
            "backgroundcolor": "#E5ECF6",
            "gridcolor": "white",
            "gridwidth": 2,
            "linecolor": "white",
            "showbackground": true,
            "ticks": "",
            "zerolinecolor": "white"
           }
          },
          "shapedefaults": {
           "line": {
            "color": "#2a3f5f"
           }
          },
          "ternary": {
           "aaxis": {
            "gridcolor": "white",
            "linecolor": "white",
            "ticks": ""
           },
           "baxis": {
            "gridcolor": "white",
            "linecolor": "white",
            "ticks": ""
           },
           "bgcolor": "#E5ECF6",
           "caxis": {
            "gridcolor": "white",
            "linecolor": "white",
            "ticks": ""
           }
          },
          "title": {
           "x": 0.05
          },
          "xaxis": {
           "automargin": true,
           "gridcolor": "white",
           "linecolor": "white",
           "ticks": "",
           "title": {
            "standoff": 15
           },
           "zerolinecolor": "white",
           "zerolinewidth": 2
          },
          "yaxis": {
           "automargin": true,
           "gridcolor": "white",
           "linecolor": "white",
           "ticks": "",
           "title": {
            "standoff": 15
           },
           "zerolinecolor": "white",
           "zerolinewidth": 2
          }
         }
        },
        "title": {
         "text": "Nearest points"
        }
       }
      },
      "text/html": [
       "<div>                            <div id=\"48af2365-8608-451f-bc8b-104d1c824655\" class=\"plotly-graph-div\" style=\"height:525px; width:100%;\"></div>            <script type=\"text/javascript\">                require([\"plotly\"], function(Plotly) {                    window.PLOTLYENV=window.PLOTLYENV || {};                                    if (document.getElementById(\"48af2365-8608-451f-bc8b-104d1c824655\")) {                    Plotly.newPlot(                        \"48af2365-8608-451f-bc8b-104d1c824655\",                        [{\"customdata\":[[1.95],[2.39],[3.62],[3.87]],\"hovertemplate\":\"lat=%{lat}<br>lon=%{lon}<br>distance=%{marker.color}<extra></extra>\",\"lat\":[42.38849926509398,42.39081089741587,42.42439384094166,42.42670682621922],\"legendgroup\":\"\",\"lon\":[-8.672854022168282,-8.721454475293664,-8.669708357949443,-8.718336825753484],\"marker\":{\"color\":[1.95,2.39,3.62,3.87],\"coloraxis\":\"coloraxis\"},\"mode\":\"markers\",\"name\":\"\",\"showlegend\":false,\"subplot\":\"mapbox\",\"type\":\"scattermapbox\"}],                        {\"template\":{\"data\":{\"histogram2dcontour\":[{\"type\":\"histogram2dcontour\",\"colorbar\":{\"outlinewidth\":0,\"ticks\":\"\"},\"colorscale\":[[0.0,\"#0d0887\"],[0.1111111111111111,\"#46039f\"],[0.2222222222222222,\"#7201a8\"],[0.3333333333333333,\"#9c179e\"],[0.4444444444444444,\"#bd3786\"],[0.5555555555555556,\"#d8576b\"],[0.6666666666666666,\"#ed7953\"],[0.7777777777777778,\"#fb9f3a\"],[0.8888888888888888,\"#fdca26\"],[1.0,\"#f0f921\"]]}],\"choropleth\":[{\"type\":\"choropleth\",\"colorbar\":{\"outlinewidth\":0,\"ticks\":\"\"}}],\"histogram2d\":[{\"type\":\"histogram2d\",\"colorbar\":{\"outlinewidth\":0,\"ticks\":\"\"},\"colorscale\":[[0.0,\"#0d0887\"],[0.1111111111111111,\"#46039f\"],[0.2222222222222222,\"#7201a8\"],[0.3333333333333333,\"#9c179e\"],[0.4444444444444444,\"#bd3786\"],[0.5555555555555556,\"#d8576b\"],[0.6666666666666666,\"#ed7953\"],[0.7777777777777778,\"#fb9f3a\"],[0.8888888888888888,\"#fdca26\"],[1.0,\"#f0f921\"]]}],\"heatmap\":[{\"type\":\"heatmap\",\"colorbar\":{\"outlinewidth\":0,\"ticks\":\"\"},\"colorscale\":[[0.0,\"#0d0887\"],[0.1111111111111111,\"#46039f\"],[0.2222222222222222,\"#7201a8\"],[0.3333333333333333,\"#9c179e\"],[0.4444444444444444,\"#bd3786\"],[0.5555555555555556,\"#d8576b\"],[0.6666666666666666,\"#ed7953\"],[0.7777777777777778,\"#fb9f3a\"],[0.8888888888888888,\"#fdca26\"],[1.0,\"#f0f921\"]]}],\"heatmapgl\":[{\"type\":\"heatmapgl\",\"colorbar\":{\"outlinewidth\":0,\"ticks\":\"\"},\"colorscale\":[[0.0,\"#0d0887\"],[0.1111111111111111,\"#46039f\"],[0.2222222222222222,\"#7201a8\"],[0.3333333333333333,\"#9c179e\"],[0.4444444444444444,\"#bd3786\"],[0.5555555555555556,\"#d8576b\"],[0.6666666666666666,\"#ed7953\"],[0.7777777777777778,\"#fb9f3a\"],[0.8888888888888888,\"#fdca26\"],[1.0,\"#f0f921\"]]}],\"contourcarpet\":[{\"type\":\"contourcarpet\",\"colorbar\":{\"outlinewidth\":0,\"ticks\":\"\"}}],\"contour\":[{\"type\":\"contour\",\"colorbar\":{\"outlinewidth\":0,\"ticks\":\"\"},\"colorscale\":[[0.0,\"#0d0887\"],[0.1111111111111111,\"#46039f\"],[0.2222222222222222,\"#7201a8\"],[0.3333333333333333,\"#9c179e\"],[0.4444444444444444,\"#bd3786\"],[0.5555555555555556,\"#d8576b\"],[0.6666666666666666,\"#ed7953\"],[0.7777777777777778,\"#fb9f3a\"],[0.8888888888888888,\"#fdca26\"],[1.0,\"#f0f921\"]]}],\"surface\":[{\"type\":\"surface\",\"colorbar\":{\"outlinewidth\":0,\"ticks\":\"\"},\"colorscale\":[[0.0,\"#0d0887\"],[0.1111111111111111,\"#46039f\"],[0.2222222222222222,\"#7201a8\"],[0.3333333333333333,\"#9c179e\"],[0.4444444444444444,\"#bd3786\"],[0.5555555555555556,\"#d8576b\"],[0.6666666666666666,\"#ed7953\"],[0.7777777777777778,\"#fb9f3a\"],[0.8888888888888888,\"#fdca26\"],[1.0,\"#f0f921\"]]}],\"mesh3d\":[{\"type\":\"mesh3d\",\"colorbar\":{\"outlinewidth\":0,\"ticks\":\"\"}}],\"scatter\":[{\"fillpattern\":{\"fillmode\":\"overlay\",\"size\":10,\"solidity\":0.2},\"type\":\"scatter\"}],\"parcoords\":[{\"type\":\"parcoords\",\"line\":{\"colorbar\":{\"outlinewidth\":0,\"ticks\":\"\"}}}],\"scatterpolargl\":[{\"type\":\"scatterpolargl\",\"marker\":{\"colorbar\":{\"outlinewidth\":0,\"ticks\":\"\"}}}],\"bar\":[{\"error_x\":{\"color\":\"#2a3f5f\"},\"error_y\":{\"color\":\"#2a3f5f\"},\"marker\":{\"line\":{\"color\":\"#E5ECF6\",\"width\":0.5},\"pattern\":{\"fillmode\":\"overlay\",\"size\":10,\"solidity\":0.2}},\"type\":\"bar\"}],\"scattergeo\":[{\"type\":\"scattergeo\",\"marker\":{\"colorbar\":{\"outlinewidth\":0,\"ticks\":\"\"}}}],\"scatterpolar\":[{\"type\":\"scatterpolar\",\"marker\":{\"colorbar\":{\"outlinewidth\":0,\"ticks\":\"\"}}}],\"histogram\":[{\"marker\":{\"pattern\":{\"fillmode\":\"overlay\",\"size\":10,\"solidity\":0.2}},\"type\":\"histogram\"}],\"scattergl\":[{\"type\":\"scattergl\",\"marker\":{\"colorbar\":{\"outlinewidth\":0,\"ticks\":\"\"}}}],\"scatter3d\":[{\"type\":\"scatter3d\",\"line\":{\"colorbar\":{\"outlinewidth\":0,\"ticks\":\"\"}},\"marker\":{\"colorbar\":{\"outlinewidth\":0,\"ticks\":\"\"}}}],\"scattermapbox\":[{\"type\":\"scattermapbox\",\"marker\":{\"colorbar\":{\"outlinewidth\":0,\"ticks\":\"\"}}}],\"scatterternary\":[{\"type\":\"scatterternary\",\"marker\":{\"colorbar\":{\"outlinewidth\":0,\"ticks\":\"\"}}}],\"scattercarpet\":[{\"type\":\"scattercarpet\",\"marker\":{\"colorbar\":{\"outlinewidth\":0,\"ticks\":\"\"}}}],\"carpet\":[{\"aaxis\":{\"endlinecolor\":\"#2a3f5f\",\"gridcolor\":\"white\",\"linecolor\":\"white\",\"minorgridcolor\":\"white\",\"startlinecolor\":\"#2a3f5f\"},\"baxis\":{\"endlinecolor\":\"#2a3f5f\",\"gridcolor\":\"white\",\"linecolor\":\"white\",\"minorgridcolor\":\"white\",\"startlinecolor\":\"#2a3f5f\"},\"type\":\"carpet\"}],\"table\":[{\"cells\":{\"fill\":{\"color\":\"#EBF0F8\"},\"line\":{\"color\":\"white\"}},\"header\":{\"fill\":{\"color\":\"#C8D4E3\"},\"line\":{\"color\":\"white\"}},\"type\":\"table\"}],\"barpolar\":[{\"marker\":{\"line\":{\"color\":\"#E5ECF6\",\"width\":0.5},\"pattern\":{\"fillmode\":\"overlay\",\"size\":10,\"solidity\":0.2}},\"type\":\"barpolar\"}],\"pie\":[{\"automargin\":true,\"type\":\"pie\"}]},\"layout\":{\"autotypenumbers\":\"strict\",\"colorway\":[\"#636efa\",\"#EF553B\",\"#00cc96\",\"#ab63fa\",\"#FFA15A\",\"#19d3f3\",\"#FF6692\",\"#B6E880\",\"#FF97FF\",\"#FECB52\"],\"font\":{\"color\":\"#2a3f5f\"},\"hovermode\":\"closest\",\"hoverlabel\":{\"align\":\"left\"},\"paper_bgcolor\":\"white\",\"plot_bgcolor\":\"#E5ECF6\",\"polar\":{\"bgcolor\":\"#E5ECF6\",\"angularaxis\":{\"gridcolor\":\"white\",\"linecolor\":\"white\",\"ticks\":\"\"},\"radialaxis\":{\"gridcolor\":\"white\",\"linecolor\":\"white\",\"ticks\":\"\"}},\"ternary\":{\"bgcolor\":\"#E5ECF6\",\"aaxis\":{\"gridcolor\":\"white\",\"linecolor\":\"white\",\"ticks\":\"\"},\"baxis\":{\"gridcolor\":\"white\",\"linecolor\":\"white\",\"ticks\":\"\"},\"caxis\":{\"gridcolor\":\"white\",\"linecolor\":\"white\",\"ticks\":\"\"}},\"coloraxis\":{\"colorbar\":{\"outlinewidth\":0,\"ticks\":\"\"}},\"colorscale\":{\"sequential\":[[0.0,\"#0d0887\"],[0.1111111111111111,\"#46039f\"],[0.2222222222222222,\"#7201a8\"],[0.3333333333333333,\"#9c179e\"],[0.4444444444444444,\"#bd3786\"],[0.5555555555555556,\"#d8576b\"],[0.6666666666666666,\"#ed7953\"],[0.7777777777777778,\"#fb9f3a\"],[0.8888888888888888,\"#fdca26\"],[1.0,\"#f0f921\"]],\"sequentialminus\":[[0.0,\"#0d0887\"],[0.1111111111111111,\"#46039f\"],[0.2222222222222222,\"#7201a8\"],[0.3333333333333333,\"#9c179e\"],[0.4444444444444444,\"#bd3786\"],[0.5555555555555556,\"#d8576b\"],[0.6666666666666666,\"#ed7953\"],[0.7777777777777778,\"#fb9f3a\"],[0.8888888888888888,\"#fdca26\"],[1.0,\"#f0f921\"]],\"diverging\":[[0,\"#8e0152\"],[0.1,\"#c51b7d\"],[0.2,\"#de77ae\"],[0.3,\"#f1b6da\"],[0.4,\"#fde0ef\"],[0.5,\"#f7f7f7\"],[0.6,\"#e6f5d0\"],[0.7,\"#b8e186\"],[0.8,\"#7fbc41\"],[0.9,\"#4d9221\"],[1,\"#276419\"]]},\"xaxis\":{\"gridcolor\":\"white\",\"linecolor\":\"white\",\"ticks\":\"\",\"title\":{\"standoff\":15},\"zerolinecolor\":\"white\",\"automargin\":true,\"zerolinewidth\":2},\"yaxis\":{\"gridcolor\":\"white\",\"linecolor\":\"white\",\"ticks\":\"\",\"title\":{\"standoff\":15},\"zerolinecolor\":\"white\",\"automargin\":true,\"zerolinewidth\":2},\"scene\":{\"xaxis\":{\"backgroundcolor\":\"#E5ECF6\",\"gridcolor\":\"white\",\"linecolor\":\"white\",\"showbackground\":true,\"ticks\":\"\",\"zerolinecolor\":\"white\",\"gridwidth\":2},\"yaxis\":{\"backgroundcolor\":\"#E5ECF6\",\"gridcolor\":\"white\",\"linecolor\":\"white\",\"showbackground\":true,\"ticks\":\"\",\"zerolinecolor\":\"white\",\"gridwidth\":2},\"zaxis\":{\"backgroundcolor\":\"#E5ECF6\",\"gridcolor\":\"white\",\"linecolor\":\"white\",\"showbackground\":true,\"ticks\":\"\",\"zerolinecolor\":\"white\",\"gridwidth\":2}},\"shapedefaults\":{\"line\":{\"color\":\"#2a3f5f\"}},\"annotationdefaults\":{\"arrowcolor\":\"#2a3f5f\",\"arrowhead\":0,\"arrowwidth\":1},\"geo\":{\"bgcolor\":\"white\",\"landcolor\":\"#E5ECF6\",\"subunitcolor\":\"white\",\"showland\":true,\"showlakes\":true,\"lakecolor\":\"white\"},\"title\":{\"x\":0.05},\"mapbox\":{\"style\":\"light\"}}},\"mapbox\":{\"domain\":{\"x\":[0.0,1.0],\"y\":[0.0,1.0]},\"center\":{\"lat\":42.40760270741768,\"lon\":-8.695588420291218},\"accesstoken\":\"pk.eyJ1IjoiZ3JhbmFudHVpbiIsImEiOiJja3B4dGU4OTkwMTFmMm9ycnNhMjJvaGJqIn0.VWzx_PkD9A5cSUVsn_ijCA\",\"zoom\":8},\"coloraxis\":{\"colorbar\":{\"title\":{\"text\":\"distance\"}},\"colorscale\":[[0.0,\"#000000\"],[0.0625,\"#001f4d\"],[0.125,\"#003786\"],[0.1875,\"#0e58a8\"],[0.25,\"#217eb8\"],[0.3125,\"#30a4ca\"],[0.375,\"#54c8df\"],[0.4375,\"#9be4ef\"],[0.5,\"#e1e9d1\"],[0.5625,\"#f3d573\"],[0.625,\"#e7b000\"],[0.6875,\"#da8200\"],[0.75,\"#c65400\"],[0.8125,\"#ac2301\"],[0.875,\"#820000\"],[0.9375,\"#4c0000\"],[1.0,\"#000000\"]]},\"legend\":{\"tracegroupgap\":0},\"title\":{\"text\":\"Nearest points\"}},                        {\"responsive\": true}                    ).then(function(){\n",
       "                            \n",
       "var gd = document.getElementById('48af2365-8608-451f-bc8b-104d1c824655');\n",
       "var x = new MutationObserver(function (mutations, observer) {{\n",
       "        var display = window.getComputedStyle(gd).display;\n",
       "        if (!display || display === 'none') {{\n",
       "            console.log([gd, 'removed!']);\n",
       "            Plotly.purge(gd);\n",
       "            observer.disconnect();\n",
       "        }}\n",
       "}});\n",
       "\n",
       "// Listen for the removal of the full notebook cells\n",
       "var notebookContainer = gd.closest('#notebook-container');\n",
       "if (notebookContainer) {{\n",
       "    x.observe(notebookContainer, {childList: true});\n",
       "}}\n",
       "\n",
       "// Listen for the clearing of the current output cell\n",
       "var outputEl = gd.closest('.output');\n",
       "if (outputEl) {{\n",
       "    x.observe(outputEl, {childList: true});\n",
       "}}\n",
       "\n",
       "                        })                };                });            </script>        </div>"
      ]
     },
     "metadata": {},
     "output_type": "display_data"
    }
   ],
   "source": [
    "import plotly.express as px\n",
    "import pandas as pd\n",
    "import numpy as np\n",
    "coor=pd.read_csv(\"C:\\\\Users\\AEMet\\Desktop\\st_projets\\enm_udra-main\\meteorological_models\\\\distan_lat42.39707lon-8.69362p4R4Km.csv\")\n",
    "px.set_mapbox_access_token(\"pk.eyJ1IjoiZ3JhbmFudHVpbiIsImEiOiJja3B4dGU4OTkwMTFmMm9ycnNhMjJvaGJqIn0.VWzx_PkD9A5cSUVsn_ijCA\")\n",
    "px.scatter_mapbox(coor, hover_data=['distance'],lat='lat', lon='lon',color='distance', title=\"Nearest points\",\n",
    "                           color_continuous_scale=px.colors.cyclical.IceFire,)"
   ]
  },
  {
   "cell_type": "code",
   "execution_count": 54,
   "metadata": {
    "colab": {
     "base_uri": "https://localhost:8080/",
     "height": 1000
    },
    "id": "OEX1x76AU35s",
    "outputId": "dd852763-4d43-4e64-e440-fb25a5d06f63"
   },
   "outputs": [
    {
     "name": "stdout",
     "output_type": "stream",
     "text": [
      "                     prec  prec_1hour_b  prec_1hour_f\n",
      "time                                                 \n",
      "2021-03-11 00:10:00   0.0           NaN           NaN\n",
      "2021-03-11 00:20:00   0.1           NaN           NaN\n",
      "2021-03-11 00:30:00   0.0           NaN           NaN\n",
      "2021-03-11 00:40:00   0.0           NaN           NaN\n",
      "2021-03-11 00:50:00   0.1           NaN           NaN\n",
      "2021-03-11 01:00:00   0.1           0.3           1.8\n",
      "2021-03-11 01:10:00   0.2           NaN           NaN\n",
      "2021-03-11 01:20:00   0.1           NaN           NaN\n",
      "2021-03-11 01:30:00   0.4           NaN           NaN\n",
      "2021-03-11 01:40:00   0.3           NaN           NaN\n",
      "2021-03-11 01:50:00   0.4           NaN           NaN\n",
      "2021-03-11 02:00:00   0.4           1.8           0.1\n",
      "2021-03-11 02:10:00   0.1           NaN           NaN\n",
      "2021-03-11 02:20:00   0.0           NaN           NaN\n",
      "2021-03-11 02:30:00   0.0           NaN           NaN\n",
      "2021-03-11 02:40:00   0.0           NaN           NaN\n",
      "2021-03-11 02:50:00   0.0           NaN           NaN\n",
      "2021-03-11 03:00:00   0.0           0.1           0.0\n",
      "2021-03-11 03:10:00   0.0           NaN           NaN\n",
      "2021-03-11 03:20:00   0.0           NaN           NaN\n",
      "2021-03-11 03:30:00   0.0           NaN           NaN\n",
      "2021-03-11 03:40:00   0.0           NaN           NaN\n",
      "2021-03-11 03:50:00   0.0           NaN           NaN\n",
      "2021-03-11 04:00:00   0.0           0.0           0.0\n",
      "2021-03-11 04:10:00   0.0           NaN           NaN\n",
      "\n",
      "Observed labeled variable results\n"
     ]
    },
    {
     "data": {
      "text/html": [
       "<div>\n",
       "<style scoped>\n",
       "    .dataframe tbody tr th:only-of-type {\n",
       "        vertical-align: middle;\n",
       "    }\n",
       "\n",
       "    .dataframe tbody tr th {\n",
       "        vertical-align: top;\n",
       "    }\n",
       "\n",
       "    .dataframe thead th {\n",
       "        text-align: right;\n",
       "    }\n",
       "</style>\n",
       "<table border=\"1\" class=\"dataframe\">\n",
       "  <thead>\n",
       "    <tr style=\"text-align: right;\">\n",
       "      <th></th>\n",
       "      <th>Total</th>\n",
       "      <th>Percentage</th>\n",
       "    </tr>\n",
       "  </thead>\n",
       "  <tbody>\n",
       "    <tr>\n",
       "      <th>0.0</th>\n",
       "      <td>7439</td>\n",
       "      <td>89.8%</td>\n",
       "    </tr>\n",
       "    <tr>\n",
       "      <th>0.1</th>\n",
       "      <td>168</td>\n",
       "      <td>2.0%</td>\n",
       "    </tr>\n",
       "    <tr>\n",
       "      <th>0.2</th>\n",
       "      <td>89</td>\n",
       "      <td>1.1%</td>\n",
       "    </tr>\n",
       "    <tr>\n",
       "      <th>0.3</th>\n",
       "      <td>63</td>\n",
       "      <td>0.8%</td>\n",
       "    </tr>\n",
       "    <tr>\n",
       "      <th>0.4</th>\n",
       "      <td>56</td>\n",
       "      <td>0.7%</td>\n",
       "    </tr>\n",
       "    <tr>\n",
       "      <th>0.5</th>\n",
       "      <td>54</td>\n",
       "      <td>0.7%</td>\n",
       "    </tr>\n",
       "    <tr>\n",
       "      <th>0.6</th>\n",
       "      <td>28</td>\n",
       "      <td>0.3%</td>\n",
       "    </tr>\n",
       "    <tr>\n",
       "      <th>0.7</th>\n",
       "      <td>27</td>\n",
       "      <td>0.3%</td>\n",
       "    </tr>\n",
       "    <tr>\n",
       "      <th>1.0</th>\n",
       "      <td>16</td>\n",
       "      <td>0.2%</td>\n",
       "    </tr>\n",
       "    <tr>\n",
       "      <th>1.3</th>\n",
       "      <td>14</td>\n",
       "      <td>0.2%</td>\n",
       "    </tr>\n",
       "    <tr>\n",
       "      <th>0.8</th>\n",
       "      <td>14</td>\n",
       "      <td>0.2%</td>\n",
       "    </tr>\n",
       "    <tr>\n",
       "      <th>1.8</th>\n",
       "      <td>13</td>\n",
       "      <td>0.2%</td>\n",
       "    </tr>\n",
       "    <tr>\n",
       "      <th>1.1</th>\n",
       "      <td>13</td>\n",
       "      <td>0.2%</td>\n",
       "    </tr>\n",
       "    <tr>\n",
       "      <th>0.6</th>\n",
       "      <td>13</td>\n",
       "      <td>0.2%</td>\n",
       "    </tr>\n",
       "    <tr>\n",
       "      <th>1.2</th>\n",
       "      <td>12</td>\n",
       "      <td>0.1%</td>\n",
       "    </tr>\n",
       "  </tbody>\n",
       "</table>\n",
       "</div>"
      ],
      "text/plain": [
       "     Total Percentage\n",
       "0.0   7439      89.8%\n",
       "0.1    168       2.0%\n",
       "0.2     89       1.1%\n",
       "0.3     63       0.8%\n",
       "0.4     56       0.7%\n",
       "0.5     54       0.7%\n",
       "0.6     28       0.3%\n",
       "0.7     27       0.3%\n",
       "1.0     16       0.2%\n",
       "1.3     14       0.2%\n",
       "0.8     14       0.2%\n",
       "1.8     13       0.2%\n",
       "1.1     13       0.2%\n",
       "0.6     13       0.2%\n",
       "1.2     12       0.1%"
      ]
     },
     "execution_count": 54,
     "metadata": {},
     "output_type": "execute_result"
    }
   ],
   "source": [
    "import pandas as pd\n",
    "station = pd.read_csv(\"C:\\\\Users\\\\AEMet\\\\Desktop\\\\st_projets\\\\enm_udra-main\\\\meteorological_stations\\\\marin.csv\",\n",
    "                      parse_dates=[\"time\"]).drop(columns=[\"Unnamed: 0\"]).set_index(\"time\")\n",
    "\n",
    "#drop duplicate index\n",
    "station = station[~station.index.duplicated()]\n",
    "\n",
    "#resample prec accumulated hour before and forward\n",
    "station[\"prec_1hour_b\"] = station.resample(\"H\",label=\"right\",closed=\"right\").sum()\n",
    "station[\"prec_1hour_f\"] = station[\"prec\"].resample(\"H\",label=\"left\",closed=\"right\").sum()\n",
    "\n",
    "print(station.head(25))\n",
    "\n",
    "print(\"\\nObserved labeled variable results\")\n",
    "obv_r = pd.concat([station[\"prec_1hour_b\"].value_counts().rename(\"Total\"),\n",
    "           station[\"prec_1hour_b\"].value_counts(normalize=True).rename(\"Percentage\").map(lambda n: '{:.1%}'.format(n))],axis=1)\n",
    "obv_r.head(15)"
   ]
  },
  {
   "cell_type": "markdown",
   "metadata": {
    "id": "L0F28AP2CF34"
   },
   "source": [
    "**Precipitation hour before**"
   ]
  },
  {
   "cell_type": "code",
   "execution_count": 55,
   "metadata": {
    "colab": {
     "base_uri": "https://localhost:8080/",
     "height": 112
    },
    "id": "600IehRqYmfK",
    "outputId": "3582da14-f3c2-4e34-be31-4d508c4bb7ff"
   },
   "outputs": [
    {
     "data": {
      "text/html": [
       "<div>\n",
       "<style scoped>\n",
       "    .dataframe tbody tr th:only-of-type {\n",
       "        vertical-align: middle;\n",
       "    }\n",
       "\n",
       "    .dataframe tbody tr th {\n",
       "        vertical-align: top;\n",
       "    }\n",
       "\n",
       "    .dataframe thead th {\n",
       "        text-align: right;\n",
       "    }\n",
       "</style>\n",
       "<table border=\"1\" class=\"dataframe\">\n",
       "  <thead>\n",
       "    <tr style=\"text-align: right;\">\n",
       "      <th></th>\n",
       "      <th>Total</th>\n",
       "      <th>Percentage</th>\n",
       "    </tr>\n",
       "  </thead>\n",
       "  <tbody>\n",
       "    <tr>\n",
       "      <th>no precipitación</th>\n",
       "      <td>7607</td>\n",
       "      <td>91.8%</td>\n",
       "    </tr>\n",
       "    <tr>\n",
       "      <th>precipitación</th>\n",
       "      <td>681</td>\n",
       "      <td>8.2%</td>\n",
       "    </tr>\n",
       "  </tbody>\n",
       "</table>\n",
       "</div>"
      ],
      "text/plain": [
       "                  Total Percentage\n",
       "no precipitación   7607      91.8%\n",
       "precipitación       681       8.2%"
      ]
     },
     "execution_count": 55,
     "metadata": {},
     "output_type": "execute_result"
    }
   ],
   "source": [
    "#prec to interval\n",
    "interval=pd.IntervalIndex.from_tuples([(-0.1,0.1), (0.1, 400)])\n",
    "labels=['no precipitación', 'precipitación']\n",
    "\n",
    "#drop precipitation evert 10 minutes and drop nan\n",
    "station = station.drop(columns=[\"prec\"]).dropna()\n",
    "\n",
    "station[\"prec_lb\"]=pd.cut(station[\"prec_1hour_b\"], bins=interval,retbins=False,labels=labels).map({a:b for a,b in zip(interval,labels)}).astype(str)\n",
    "\n",
    "pd.concat([station[\"prec_lb\"].value_counts().rename(\"Total\"),\n",
    "           station[\"prec_lb\"].value_counts(normalize=True).rename(\"Percentage\").map(lambda n: '{:.1%}'.format(n))],axis=1)"
   ]
  },
  {
   "cell_type": "markdown",
   "metadata": {
    "id": "eXs3F5ZTnQ8M"
   },
   "source": [
    "Forecast D2"
   ]
  },
  {
   "cell_type": "code",
   "execution_count": 56,
   "metadata": {
    "colab": {
     "base_uri": "https://localhost:8080/",
     "height": 866
    },
    "id": "o5ZTRduTZ36H",
    "outputId": "87c62c9d-5cf2-455a-aa1a-35e5f204fa90"
   },
   "outputs": [
    {
     "data": {
      "text/html": [
       "<div>\n",
       "<style scoped>\n",
       "    .dataframe tbody tr th:only-of-type {\n",
       "        vertical-align: middle;\n",
       "    }\n",
       "\n",
       "    .dataframe tbody tr th {\n",
       "        vertical-align: top;\n",
       "    }\n",
       "\n",
       "    .dataframe thead th {\n",
       "        text-align: right;\n",
       "    }\n",
       "</style>\n",
       "<table border=\"1\" class=\"dataframe\">\n",
       "  <thead>\n",
       "    <tr style=\"text-align: right;\">\n",
       "      <th></th>\n",
       "      <th>dir0</th>\n",
       "      <th>snow_prec0</th>\n",
       "      <th>snowlevel0</th>\n",
       "      <th>mod0</th>\n",
       "      <th>wind_gust0</th>\n",
       "      <th>mslp0</th>\n",
       "      <th>temp0</th>\n",
       "      <th>rh0</th>\n",
       "      <th>visibility0</th>\n",
       "      <th>lhflx0</th>\n",
       "      <th>...</th>\n",
       "      <th>cape3</th>\n",
       "      <th>cin3</th>\n",
       "      <th>cfh3</th>\n",
       "      <th>cfl3</th>\n",
       "      <th>cfm3</th>\n",
       "      <th>cft3</th>\n",
       "      <th>HGT5003</th>\n",
       "      <th>HGT8503</th>\n",
       "      <th>T5003</th>\n",
       "      <th>T8503</th>\n",
       "    </tr>\n",
       "    <tr>\n",
       "      <th>time</th>\n",
       "      <th></th>\n",
       "      <th></th>\n",
       "      <th></th>\n",
       "      <th></th>\n",
       "      <th></th>\n",
       "      <th></th>\n",
       "      <th></th>\n",
       "      <th></th>\n",
       "      <th></th>\n",
       "      <th></th>\n",
       "      <th></th>\n",
       "      <th></th>\n",
       "      <th></th>\n",
       "      <th></th>\n",
       "      <th></th>\n",
       "      <th></th>\n",
       "      <th></th>\n",
       "      <th></th>\n",
       "      <th></th>\n",
       "      <th></th>\n",
       "      <th></th>\n",
       "    </tr>\n",
       "  </thead>\n",
       "  <tbody>\n",
       "    <tr>\n",
       "      <th>2021-03-13 00:00:00</th>\n",
       "      <td>214.545364</td>\n",
       "      <td>0.0</td>\n",
       "      <td>1166.868286</td>\n",
       "      <td>3.140418</td>\n",
       "      <td>4.824757</td>\n",
       "      <td>102560.140625</td>\n",
       "      <td>281.254181</td>\n",
       "      <td>0.952518</td>\n",
       "      <td>24049.062500</td>\n",
       "      <td>0.164406</td>\n",
       "      <td>...</td>\n",
       "      <td>51.520000</td>\n",
       "      <td>-1.374254</td>\n",
       "      <td>0.0</td>\n",
       "      <td>0.194357</td>\n",
       "      <td>0.0</td>\n",
       "      <td>0.194357</td>\n",
       "      <td>5580.275879</td>\n",
       "      <td>1518.526978</td>\n",
       "      <td>250.875244</td>\n",
       "      <td>273.314484</td>\n",
       "    </tr>\n",
       "    <tr>\n",
       "      <th>2021-03-13 01:00:00</th>\n",
       "      <td>225.678787</td>\n",
       "      <td>0.0</td>\n",
       "      <td>1128.045166</td>\n",
       "      <td>4.475591</td>\n",
       "      <td>6.153662</td>\n",
       "      <td>102533.843750</td>\n",
       "      <td>281.739441</td>\n",
       "      <td>0.926475</td>\n",
       "      <td>24042.150391</td>\n",
       "      <td>5.010872</td>\n",
       "      <td>...</td>\n",
       "      <td>55.029999</td>\n",
       "      <td>-2.741293</td>\n",
       "      <td>0.0</td>\n",
       "      <td>0.533955</td>\n",
       "      <td>0.0</td>\n",
       "      <td>0.533955</td>\n",
       "      <td>5574.872070</td>\n",
       "      <td>1515.244019</td>\n",
       "      <td>251.213806</td>\n",
       "      <td>272.804291</td>\n",
       "    </tr>\n",
       "    <tr>\n",
       "      <th>2021-03-13 02:00:00</th>\n",
       "      <td>239.999359</td>\n",
       "      <td>0.0</td>\n",
       "      <td>1116.512085</td>\n",
       "      <td>5.076742</td>\n",
       "      <td>7.992311</td>\n",
       "      <td>102479.242188</td>\n",
       "      <td>281.989441</td>\n",
       "      <td>0.935685</td>\n",
       "      <td>16835.328125</td>\n",
       "      <td>5.006819</td>\n",
       "      <td>...</td>\n",
       "      <td>67.059998</td>\n",
       "      <td>-2.830637</td>\n",
       "      <td>0.0</td>\n",
       "      <td>0.600000</td>\n",
       "      <td>0.0</td>\n",
       "      <td>0.600000</td>\n",
       "      <td>5568.991211</td>\n",
       "      <td>1513.017944</td>\n",
       "      <td>251.418686</td>\n",
       "      <td>272.579834</td>\n",
       "    </tr>\n",
       "    <tr>\n",
       "      <th>2021-03-13 03:00:00</th>\n",
       "      <td>239.184814</td>\n",
       "      <td>0.0</td>\n",
       "      <td>1117.297363</td>\n",
       "      <td>5.250713</td>\n",
       "      <td>8.446166</td>\n",
       "      <td>102396.609375</td>\n",
       "      <td>282.385498</td>\n",
       "      <td>0.914196</td>\n",
       "      <td>24234.072266</td>\n",
       "      <td>13.602778</td>\n",
       "      <td>...</td>\n",
       "      <td>65.680000</td>\n",
       "      <td>-2.403894</td>\n",
       "      <td>0.0</td>\n",
       "      <td>0.152376</td>\n",
       "      <td>0.0</td>\n",
       "      <td>0.152376</td>\n",
       "      <td>5560.987793</td>\n",
       "      <td>1504.526001</td>\n",
       "      <td>251.836380</td>\n",
       "      <td>272.713043</td>\n",
       "    </tr>\n",
       "    <tr>\n",
       "      <th>2021-03-13 04:00:00</th>\n",
       "      <td>246.586426</td>\n",
       "      <td>0.0</td>\n",
       "      <td>1163.626709</td>\n",
       "      <td>5.125148</td>\n",
       "      <td>8.151620</td>\n",
       "      <td>102331.562500</td>\n",
       "      <td>282.544067</td>\n",
       "      <td>0.917266</td>\n",
       "      <td>24038.500000</td>\n",
       "      <td>14.297740</td>\n",
       "      <td>...</td>\n",
       "      <td>58.830002</td>\n",
       "      <td>-1.887336</td>\n",
       "      <td>0.0</td>\n",
       "      <td>0.454938</td>\n",
       "      <td>0.0</td>\n",
       "      <td>0.454938</td>\n",
       "      <td>5555.812012</td>\n",
       "      <td>1499.142944</td>\n",
       "      <td>252.413376</td>\n",
       "      <td>272.892181</td>\n",
       "    </tr>\n",
       "    <tr>\n",
       "      <th>...</th>\n",
       "      <td>...</td>\n",
       "      <td>...</td>\n",
       "      <td>...</td>\n",
       "      <td>...</td>\n",
       "      <td>...</td>\n",
       "      <td>...</td>\n",
       "      <td>...</td>\n",
       "      <td>...</td>\n",
       "      <td>...</td>\n",
       "      <td>...</td>\n",
       "      <td>...</td>\n",
       "      <td>...</td>\n",
       "      <td>...</td>\n",
       "      <td>...</td>\n",
       "      <td>...</td>\n",
       "      <td>...</td>\n",
       "      <td>...</td>\n",
       "      <td>...</td>\n",
       "      <td>...</td>\n",
       "      <td>...</td>\n",
       "      <td>...</td>\n",
       "    </tr>\n",
       "    <tr>\n",
       "      <th>2022-02-21 19:00:00</th>\n",
       "      <td>355.647461</td>\n",
       "      <td>0.0</td>\n",
       "      <td>2032.414062</td>\n",
       "      <td>1.049479</td>\n",
       "      <td>3.642752</td>\n",
       "      <td>103183.070312</td>\n",
       "      <td>284.074738</td>\n",
       "      <td>0.992159</td>\n",
       "      <td>24043.919922</td>\n",
       "      <td>-0.246143</td>\n",
       "      <td>...</td>\n",
       "      <td>0.000000</td>\n",
       "      <td>0.000488</td>\n",
       "      <td>0.0</td>\n",
       "      <td>0.000000</td>\n",
       "      <td>0.0</td>\n",
       "      <td>0.000000</td>\n",
       "      <td>5754.759766</td>\n",
       "      <td>1597.805542</td>\n",
       "      <td>258.269867</td>\n",
       "      <td>280.105377</td>\n",
       "    </tr>\n",
       "    <tr>\n",
       "      <th>2022-02-21 20:00:00</th>\n",
       "      <td>14.205400</td>\n",
       "      <td>0.0</td>\n",
       "      <td>2068.030029</td>\n",
       "      <td>1.789081</td>\n",
       "      <td>5.230898</td>\n",
       "      <td>103210.468750</td>\n",
       "      <td>283.419312</td>\n",
       "      <td>0.990247</td>\n",
       "      <td>24043.736328</td>\n",
       "      <td>-0.776044</td>\n",
       "      <td>...</td>\n",
       "      <td>0.000000</td>\n",
       "      <td>-0.000238</td>\n",
       "      <td>0.0</td>\n",
       "      <td>0.000000</td>\n",
       "      <td>0.0</td>\n",
       "      <td>0.000000</td>\n",
       "      <td>5761.044922</td>\n",
       "      <td>1600.918213</td>\n",
       "      <td>258.776062</td>\n",
       "      <td>280.371124</td>\n",
       "    </tr>\n",
       "    <tr>\n",
       "      <th>2022-02-21 21:00:00</th>\n",
       "      <td>29.933767</td>\n",
       "      <td>0.0</td>\n",
       "      <td>2066.399414</td>\n",
       "      <td>1.791273</td>\n",
       "      <td>3.336884</td>\n",
       "      <td>103265.210938</td>\n",
       "      <td>282.753876</td>\n",
       "      <td>0.977224</td>\n",
       "      <td>24035.980469</td>\n",
       "      <td>0.002071</td>\n",
       "      <td>...</td>\n",
       "      <td>0.000000</td>\n",
       "      <td>0.000262</td>\n",
       "      <td>0.0</td>\n",
       "      <td>0.000000</td>\n",
       "      <td>0.0</td>\n",
       "      <td>0.000000</td>\n",
       "      <td>5766.887207</td>\n",
       "      <td>1605.219849</td>\n",
       "      <td>258.889862</td>\n",
       "      <td>280.220367</td>\n",
       "    </tr>\n",
       "    <tr>\n",
       "      <th>2022-02-21 22:00:00</th>\n",
       "      <td>23.986012</td>\n",
       "      <td>0.0</td>\n",
       "      <td>2106.057861</td>\n",
       "      <td>1.963240</td>\n",
       "      <td>3.522523</td>\n",
       "      <td>103271.390625</td>\n",
       "      <td>282.158569</td>\n",
       "      <td>0.960539</td>\n",
       "      <td>24233.369141</td>\n",
       "      <td>0.865154</td>\n",
       "      <td>...</td>\n",
       "      <td>0.000000</td>\n",
       "      <td>-0.000024</td>\n",
       "      <td>0.0</td>\n",
       "      <td>0.000000</td>\n",
       "      <td>0.0</td>\n",
       "      <td>0.000000</td>\n",
       "      <td>5770.096191</td>\n",
       "      <td>1605.682739</td>\n",
       "      <td>259.072327</td>\n",
       "      <td>280.553864</td>\n",
       "    </tr>\n",
       "    <tr>\n",
       "      <th>2022-02-21 23:00:00</th>\n",
       "      <td>16.147469</td>\n",
       "      <td>0.0</td>\n",
       "      <td>2174.024902</td>\n",
       "      <td>1.833531</td>\n",
       "      <td>3.410352</td>\n",
       "      <td>103224.921875</td>\n",
       "      <td>281.599701</td>\n",
       "      <td>0.962290</td>\n",
       "      <td>24035.462891</td>\n",
       "      <td>0.643971</td>\n",
       "      <td>...</td>\n",
       "      <td>0.000000</td>\n",
       "      <td>0.000008</td>\n",
       "      <td>0.0</td>\n",
       "      <td>0.000000</td>\n",
       "      <td>0.0</td>\n",
       "      <td>0.000000</td>\n",
       "      <td>5769.009766</td>\n",
       "      <td>1602.193848</td>\n",
       "      <td>259.217133</td>\n",
       "      <td>281.040558</td>\n",
       "    </tr>\n",
       "  </tbody>\n",
       "</table>\n",
       "<p>8304 rows × 100 columns</p>\n",
       "</div>"
      ],
      "text/plain": [
       "                           dir0  snow_prec0   snowlevel0      mod0  \\\n",
       "time                                                                 \n",
       "2021-03-13 00:00:00  214.545364         0.0  1166.868286  3.140418   \n",
       "2021-03-13 01:00:00  225.678787         0.0  1128.045166  4.475591   \n",
       "2021-03-13 02:00:00  239.999359         0.0  1116.512085  5.076742   \n",
       "2021-03-13 03:00:00  239.184814         0.0  1117.297363  5.250713   \n",
       "2021-03-13 04:00:00  246.586426         0.0  1163.626709  5.125148   \n",
       "...                         ...         ...          ...       ...   \n",
       "2022-02-21 19:00:00  355.647461         0.0  2032.414062  1.049479   \n",
       "2022-02-21 20:00:00   14.205400         0.0  2068.030029  1.789081   \n",
       "2022-02-21 21:00:00   29.933767         0.0  2066.399414  1.791273   \n",
       "2022-02-21 22:00:00   23.986012         0.0  2106.057861  1.963240   \n",
       "2022-02-21 23:00:00   16.147469         0.0  2174.024902  1.833531   \n",
       "\n",
       "                     wind_gust0          mslp0       temp0       rh0  \\\n",
       "time                                                                   \n",
       "2021-03-13 00:00:00    4.824757  102560.140625  281.254181  0.952518   \n",
       "2021-03-13 01:00:00    6.153662  102533.843750  281.739441  0.926475   \n",
       "2021-03-13 02:00:00    7.992311  102479.242188  281.989441  0.935685   \n",
       "2021-03-13 03:00:00    8.446166  102396.609375  282.385498  0.914196   \n",
       "2021-03-13 04:00:00    8.151620  102331.562500  282.544067  0.917266   \n",
       "...                         ...            ...         ...       ...   \n",
       "2022-02-21 19:00:00    3.642752  103183.070312  284.074738  0.992159   \n",
       "2022-02-21 20:00:00    5.230898  103210.468750  283.419312  0.990247   \n",
       "2022-02-21 21:00:00    3.336884  103265.210938  282.753876  0.977224   \n",
       "2022-02-21 22:00:00    3.522523  103271.390625  282.158569  0.960539   \n",
       "2022-02-21 23:00:00    3.410352  103224.921875  281.599701  0.962290   \n",
       "\n",
       "                      visibility0     lhflx0  ...      cape3      cin3  cfh3  \\\n",
       "time                                          ...                              \n",
       "2021-03-13 00:00:00  24049.062500   0.164406  ...  51.520000 -1.374254   0.0   \n",
       "2021-03-13 01:00:00  24042.150391   5.010872  ...  55.029999 -2.741293   0.0   \n",
       "2021-03-13 02:00:00  16835.328125   5.006819  ...  67.059998 -2.830637   0.0   \n",
       "2021-03-13 03:00:00  24234.072266  13.602778  ...  65.680000 -2.403894   0.0   \n",
       "2021-03-13 04:00:00  24038.500000  14.297740  ...  58.830002 -1.887336   0.0   \n",
       "...                           ...        ...  ...        ...       ...   ...   \n",
       "2022-02-21 19:00:00  24043.919922  -0.246143  ...   0.000000  0.000488   0.0   \n",
       "2022-02-21 20:00:00  24043.736328  -0.776044  ...   0.000000 -0.000238   0.0   \n",
       "2022-02-21 21:00:00  24035.980469   0.002071  ...   0.000000  0.000262   0.0   \n",
       "2022-02-21 22:00:00  24233.369141   0.865154  ...   0.000000 -0.000024   0.0   \n",
       "2022-02-21 23:00:00  24035.462891   0.643971  ...   0.000000  0.000008   0.0   \n",
       "\n",
       "                         cfl3  cfm3      cft3      HGT5003      HGT8503  \\\n",
       "time                                                                      \n",
       "2021-03-13 00:00:00  0.194357   0.0  0.194357  5580.275879  1518.526978   \n",
       "2021-03-13 01:00:00  0.533955   0.0  0.533955  5574.872070  1515.244019   \n",
       "2021-03-13 02:00:00  0.600000   0.0  0.600000  5568.991211  1513.017944   \n",
       "2021-03-13 03:00:00  0.152376   0.0  0.152376  5560.987793  1504.526001   \n",
       "2021-03-13 04:00:00  0.454938   0.0  0.454938  5555.812012  1499.142944   \n",
       "...                       ...   ...       ...          ...          ...   \n",
       "2022-02-21 19:00:00  0.000000   0.0  0.000000  5754.759766  1597.805542   \n",
       "2022-02-21 20:00:00  0.000000   0.0  0.000000  5761.044922  1600.918213   \n",
       "2022-02-21 21:00:00  0.000000   0.0  0.000000  5766.887207  1605.219849   \n",
       "2022-02-21 22:00:00  0.000000   0.0  0.000000  5770.096191  1605.682739   \n",
       "2022-02-21 23:00:00  0.000000   0.0  0.000000  5769.009766  1602.193848   \n",
       "\n",
       "                          T5003       T8503  \n",
       "time                                         \n",
       "2021-03-13 00:00:00  250.875244  273.314484  \n",
       "2021-03-13 01:00:00  251.213806  272.804291  \n",
       "2021-03-13 02:00:00  251.418686  272.579834  \n",
       "2021-03-13 03:00:00  251.836380  272.713043  \n",
       "2021-03-13 04:00:00  252.413376  272.892181  \n",
       "...                         ...         ...  \n",
       "2022-02-21 19:00:00  258.269867  280.105377  \n",
       "2022-02-21 20:00:00  258.776062  280.371124  \n",
       "2022-02-21 21:00:00  258.889862  280.220367  \n",
       "2022-02-21 22:00:00  259.072327  280.553864  \n",
       "2022-02-21 23:00:00  259.217133  281.040558  \n",
       "\n",
       "[8304 rows x 100 columns]"
      ]
     },
     "execution_count": 56,
     "metadata": {},
     "output_type": "execute_result"
    }
   ],
   "source": [
    "#ria forecast d2\n",
    "ria_model4k=pd.read_csv(\"C:\\\\Users\\AEMet\\Desktop\\st_projets\\enm_udra-main\\meteorological_models\\\\lat42.39707lon-8.69362p4R4KmD2.csv\",parse_dates=[\"time\"]).drop(columns=[\"Unnamed: 0\"]).set_index(\"time\")\n",
    "ria_model4k"
   ]
  },
  {
   "cell_type": "code",
   "execution_count": 57,
   "metadata": {
    "colab": {
     "base_uri": "https://localhost:8080/"
    },
    "id": "HWMVJxGdhe9B",
    "outputId": "e82763a2-4fb1-465f-ef1c-32d5f16c0270"
   },
   "outputs": [
    {
     "name": "stdout",
     "output_type": "stream",
     "text": [
      "prec_lb\n",
      "                  Total Porcentaje\n",
      "no precipitación   7569      91.8%\n",
      "precipitación       672       8.2%\n",
      "\n",
      "\n",
      "prec0_l\n",
      "                  Total Porcentaje\n",
      "no precipitación   7111      86.3%\n",
      "precipitación      1130      13.7%\n",
      "\n",
      "\n",
      "prec1_l\n",
      "                  Total Porcentaje\n",
      "no precipitación   7014      85.1%\n",
      "precipitación      1227      14.9%\n",
      "\n",
      "\n",
      "prec2_l\n",
      "                  Total Porcentaje\n",
      "no precipitación   7014      85.1%\n",
      "precipitación      1227      14.9%\n",
      "\n",
      "\n",
      "prec3_l\n",
      "                  Total Porcentaje\n",
      "no precipitación   6907      83.8%\n",
      "precipitación      1334      16.2%\n",
      "\n",
      "\n"
     ]
    }
   ],
   "source": [
    "#label meteorological model prec points 0 , 1, 2 and 3\n",
    "ria_model4k[\"prec0_l\"]=pd.cut(ria_model4k[\"prec0\"], bins=interval,retbins=False,labels=labels).map({a:b for a,b in zip(interval,labels)}).astype(str)\n",
    "ria_model4k[\"prec1_l\"]=pd.cut(ria_model4k[\"prec1\"], bins=interval,retbins=False,labels=labels).map({a:b for a,b in zip(interval,labels)}).astype(str)\n",
    "ria_model4k[\"prec2_l\"]=pd.cut(ria_model4k[\"prec2\"], bins=interval,retbins=False,labels=labels).map({a:b for a,b in zip(interval,labels)}).astype(str)\n",
    "ria_model4k[\"prec3_l\"]=pd.cut(ria_model4k[\"prec3\"], bins=interval,retbins=False,labels=labels).map({a:b for a,b in zip(interval,labels)}).astype(str)\n",
    "\n",
    "#join actual data versus meteorological data\n",
    "df_all4k=pd.concat([station,ria_model4k],axis=1).dropna()\n",
    "\n",
    "#show results\n",
    "for l in [\"prec_lb\",\"prec0_l\",\"prec1_l\",\"prec2_l\",\"prec3_l\"]:\n",
    "  print(l)\n",
    "  print(pd.concat([df_all4k[l].value_counts().rename(\"Total\"),\n",
    "           df_all4k[l].value_counts(normalize=True).rename(\"Porcentaje\").map(lambda n: '{:.1%}'.format(n))],axis=1))\n",
    "  print(\"\\n\")"
   ]
  },
  {
   "cell_type": "code",
   "execution_count": 58,
   "metadata": {
    "colab": {
     "base_uri": "https://localhost:8080/"
    },
    "id": "pXm2cknjhCnf",
    "outputId": "d404038d-f4c0-40b7-c1bb-4eb2a8b036dc"
   },
   "outputs": [
    {
     "name": "stdout",
     "output_type": "stream",
     "text": [
      "Informe de calidad desagregado (modelo meteorológico)\n",
      "\n",
      "prec0_l\n",
      "                  precision    recall  f1-score      support\n",
      "no precipitación   0.962453  0.904215  0.932425  7569.000000\n",
      "precipitación      0.358407  0.602679  0.449501   672.000000\n",
      "accuracy           0.879626  0.879626  0.879626     0.879626\n",
      "macro avg          0.660430  0.753447  0.690963  8241.000000\n",
      "weighted avg       0.913197  0.879626  0.893046  8241.000000\n",
      "\n",
      "\n",
      "prec1_l\n",
      "                  precision    recall  f1-score      support\n",
      "no precipitación   0.965783  0.894966  0.929027  7569.000000\n",
      "precipitación      0.352078  0.642857  0.454976   672.000000\n",
      "accuracy           0.874408  0.874408  0.874408     0.874408\n",
      "macro avg          0.658930  0.768912  0.692002  8241.000000\n",
      "weighted avg       0.915739  0.874408  0.890371  8241.000000\n",
      "\n",
      "\n",
      "prec2_l\n",
      "                  precision    recall  f1-score      support\n",
      "no precipitación   0.964927  0.894174  0.928204  7569.000000\n",
      "precipitación      0.347188  0.633929  0.448657   672.000000\n",
      "accuracy           0.872952  0.872952  0.872952     0.872952\n",
      "macro avg          0.656058  0.764051  0.688431  8241.000000\n",
      "weighted avg       0.914555  0.872952  0.889100  8241.000000\n",
      "\n",
      "\n",
      "prec3_l\n",
      "                  precision    recall  f1-score      support\n",
      "no precipitación   0.968438  0.883736  0.924150  7569.000000\n",
      "precipitación      0.340330  0.675595  0.452642   672.000000\n",
      "accuracy           0.866764  0.866764  0.866764     0.866764\n",
      "macro avg          0.654384  0.779666  0.688396  8241.000000\n",
      "weighted avg       0.917220  0.866764  0.885702  8241.000000\n",
      "\n",
      "\n"
     ]
    }
   ],
   "source": [
    "from sklearn.metrics import classification_report\n",
    "\n",
    "print(\"Informe de calidad desagregado (modelo meteorológico)\\n\")\n",
    "for l in [\"prec0_l\",\"prec1_l\",\"prec2_l\",\"prec3_l\"]:\n",
    "  print(l)\n",
    "  print(pd.DataFrame(classification_report(df_all4k.prec_lb, df_all4k[l],output_dict=True)).T)\n",
    "  print(\"\\n\")"
   ]
  },
  {
   "cell_type": "code",
   "execution_count": 59,
   "metadata": {
    "colab": {
     "base_uri": "https://localhost:8080/"
    },
    "id": "ebIetQBbmjrL",
    "outputId": "8521d6f2-7e81-4667-b6a2-a0799f78b6e8"
   },
   "outputs": [
    {
     "name": "stdout",
     "output_type": "stream",
     "text": [
      "Matriz de Confusión  (modelo meteorológico)\n",
      "\n",
      "prec0_l           no precipitación  precipitación   All\n",
      "prec_lb                                                \n",
      "no precipitación              6844            725  7569\n",
      "precipitación                  267            405   672\n",
      "All                           7111           1130  8241\n",
      "Heidke Skill Score: 0.39\n",
      "\n",
      "\n",
      "prec1_l           no precipitación  precipitación   All\n",
      "prec_lb                                                \n",
      "no precipitación              6774            795  7569\n",
      "precipitación                  240            432   672\n",
      "All                           7014           1227  8241\n",
      "Heidke Skill Score: 0.39\n",
      "\n",
      "\n",
      "prec2_l           no precipitación  precipitación   All\n",
      "prec_lb                                                \n",
      "no precipitación              6768            801  7569\n",
      "precipitación                  246            426   672\n",
      "All                           7014           1227  8241\n",
      "Heidke Skill Score: 0.38\n",
      "\n",
      "\n",
      "prec3_l           no precipitación  precipitación   All\n",
      "prec_lb                                                \n",
      "no precipitación              6689            880  7569\n",
      "precipitación                  218            454   672\n",
      "All                           6907           1334  8241\n",
      "Heidke Skill Score: 0.39\n",
      "\n",
      "\n"
     ]
    }
   ],
   "source": [
    "\n",
    "print(\"Matriz de Confusión  (modelo meteorológico)\\n\")\n",
    "for l in [\"prec0_l\",\"prec1_l\",\"prec2_l\",\"prec3_l\"]:\n",
    "  cm = pd.crosstab(df_all4k.prec_lb, df_all4k[l],margins=True,)\n",
    "  print(cm)\n",
    "  a = cm.values[0,0]\n",
    "  b = cm.values[1,0]\n",
    "  c = cm.values[0,1]\n",
    "  d = cm.values[1,1]\n",
    "  hss = 2*(a*d-b*c)/((a+c)*(c+d)+(a+b)*(b+d))\n",
    "  print(\"Heidke Skill Score:\",round(hss,2))\n",
    "  print(\"\\n\")\n"
   ]
  },
  {
   "cell_type": "code",
   "execution_count": 60,
   "metadata": {
    "colab": {
     "base_uri": "https://localhost:8080/"
    },
    "id": "TIotlr7vnzpz",
    "outputId": "95c8c149-7f08-4553-97a9-57e4572535aa"
   },
   "outputs": [
    {
     "name": "stdout",
     "output_type": "stream",
     "text": [
      "prec0_l                no precipitación  precipitación  Climatología\n",
      "no precipitación               0.962453       0.641593      0.918456\n",
      "precipitación                  0.037547       0.358407      0.081544\n",
      "entropia/entropia.max          0.230932       0.941353      0.407595\n",
      "\n",
      "\n",
      "prec1_l                no precipitación  precipitación  Climatología\n",
      "no precipitación               0.965783       0.647922      0.918456\n",
      "precipitación                  0.034217       0.352078      0.081544\n",
      "entropia/entropia.max          0.215119       0.935910      0.407595\n",
      "\n",
      "\n",
      "prec2_l                no precipitación  precipitación  Climatología\n",
      "no precipitación               0.964927       0.652812      0.918456\n",
      "precipitación                  0.035073       0.347188      0.081544\n",
      "entropia/entropia.max          0.219226       0.931532      0.407595\n",
      "\n",
      "\n",
      "prec3_l                no precipitación  precipitación  Climatología\n",
      "no precipitación               0.968438       0.659670      0.918456\n",
      "precipitación                  0.031562       0.340330      0.081544\n",
      "entropia/entropia.max          0.202167       0.925134      0.407595\n",
      "\n",
      "\n"
     ]
    }
   ],
   "source": [
    "import math\n",
    "from scipy.stats import entropy\n",
    "\n",
    "for l in [\"prec0_l\",\"prec1_l\",\"prec2_l\",\"prec3_l\"]:\n",
    "  column_sc = pd.crosstab(df_all4k.prec_lb, df_all4k[l], margins=True,normalize=\"columns\")\n",
    "  column_sc = column_sc.append(pd.DataFrame(entropy(column_sc,base=2)/(math.log2(column_sc.shape[0])),columns=[\"entropia/entropia.max\"],\n",
    "                    index=column_sc.columns).T).rename(columns={\"All\":\"Climatología\"})\n",
    "  print(column_sc)\n",
    "  print(\"\\n\")\n",
    "\n",
    "\n"
   ]
  },
  {
   "cell_type": "markdown",
   "metadata": {
    "id": "c3H7SVoeCbCw"
   },
   "source": [
    "**Precipitation 1 hour forward**"
   ]
  },
  {
   "cell_type": "code",
   "execution_count": 61,
   "metadata": {
    "colab": {
     "base_uri": "https://localhost:8080/",
     "height": 112
    },
    "id": "jGby4AdaChiW",
    "outputId": "8a0bfa8c-0cf1-4199-92a3-c0387586ffea"
   },
   "outputs": [
    {
     "data": {
      "text/html": [
       "<div>\n",
       "<style scoped>\n",
       "    .dataframe tbody tr th:only-of-type {\n",
       "        vertical-align: middle;\n",
       "    }\n",
       "\n",
       "    .dataframe tbody tr th {\n",
       "        vertical-align: top;\n",
       "    }\n",
       "\n",
       "    .dataframe thead th {\n",
       "        text-align: right;\n",
       "    }\n",
       "</style>\n",
       "<table border=\"1\" class=\"dataframe\">\n",
       "  <thead>\n",
       "    <tr style=\"text-align: right;\">\n",
       "      <th></th>\n",
       "      <th>Total</th>\n",
       "      <th>Percentage</th>\n",
       "    </tr>\n",
       "  </thead>\n",
       "  <tbody>\n",
       "    <tr>\n",
       "      <th>no precipitación</th>\n",
       "      <td>7608</td>\n",
       "      <td>91.8%</td>\n",
       "    </tr>\n",
       "    <tr>\n",
       "      <th>precipitación</th>\n",
       "      <td>680</td>\n",
       "      <td>8.2%</td>\n",
       "    </tr>\n",
       "  </tbody>\n",
       "</table>\n",
       "</div>"
      ],
      "text/plain": [
       "                  Total Percentage\n",
       "no precipitación   7608      91.8%\n",
       "precipitación       680       8.2%"
      ]
     },
     "execution_count": 61,
     "metadata": {},
     "output_type": "execute_result"
    }
   ],
   "source": [
    "station[\"prec_lf\"]=pd.cut(station[\"prec_1hour_f\"], bins=interval,retbins=False,labels=labels).map({a:b for a,b in zip(interval,labels)}).astype(str)\n",
    "\n",
    "pd.concat([station[\"prec_lf\"].value_counts().rename(\"Total\"),\n",
    "           station[\"prec_lf\"].value_counts(normalize=True).rename(\"Percentage\").map(lambda n: '{:.1%}'.format(n))],axis=1)"
   ]
  },
  {
   "cell_type": "code",
   "execution_count": 62,
   "metadata": {
    "colab": {
     "base_uri": "https://localhost:8080/"
    },
    "id": "2L6cHbEgDpgr",
    "outputId": "b162be1a-db00-4a85-a3a6-103c7eade736"
   },
   "outputs": [
    {
     "name": "stdout",
     "output_type": "stream",
     "text": [
      "prec_lf\n",
      "                  Total Porcentaje\n",
      "no precipitación   7569      91.8%\n",
      "precipitación       672       8.2%\n",
      "\n",
      "\n",
      "prec0_l\n",
      "                  Total Porcentaje\n",
      "no precipitación   7111      86.3%\n",
      "precipitación      1130      13.7%\n",
      "\n",
      "\n",
      "prec1_l\n",
      "                  Total Porcentaje\n",
      "no precipitación   7014      85.1%\n",
      "precipitación      1227      14.9%\n",
      "\n",
      "\n",
      "prec2_l\n",
      "                  Total Porcentaje\n",
      "no precipitación   7014      85.1%\n",
      "precipitación      1227      14.9%\n",
      "\n",
      "\n",
      "prec3_l\n",
      "                  Total Porcentaje\n",
      "no precipitación   6907      83.8%\n",
      "precipitación      1334      16.2%\n",
      "\n",
      "\n"
     ]
    }
   ],
   "source": [
    "#label meteorological model prec points 0 , 1, 2 and 3\n",
    "\n",
    "df_all4k=pd.concat([station,ria_model4k],axis=1).dropna()\n",
    "\n",
    "df_all4k[[\"prec_lf\",\"prec0_l\",\"prec1_l\",\"prec2_l\",\"prec3_l\"]].sample(20)\n",
    "for l in [\"prec_lf\",\"prec0_l\",\"prec1_l\",\"prec2_l\",\"prec3_l\"]:\n",
    "  print(l)\n",
    "  print(pd.concat([df_all4k[l].value_counts().rename(\"Total\"),\n",
    "           df_all4k[l].value_counts(normalize=True).rename(\"Porcentaje\").map(lambda n: '{:.1%}'.format(n))],axis=1))\n",
    "  print(\"\\n\")"
   ]
  },
  {
   "cell_type": "code",
   "execution_count": 63,
   "metadata": {
    "colab": {
     "base_uri": "https://localhost:8080/"
    },
    "id": "u0nyIy0YEJIF",
    "outputId": "f2dc5a3b-ed06-44b8-ae79-1ba4836be0d1"
   },
   "outputs": [
    {
     "name": "stdout",
     "output_type": "stream",
     "text": [
      "Informe de calidad desagregado (modelo meteorológico)\n",
      "\n",
      "prec0_l\n",
      "                  precision    recall  f1-score      support\n",
      "no precipitación   0.960203  0.902101  0.930245  7569.000000\n",
      "precipitación      0.344248  0.578869  0.431743   672.000000\n",
      "accuracy           0.875743  0.875743  0.875743     0.875743\n",
      "macro avg          0.652225  0.740485  0.680994  8241.000000\n",
      "weighted avg       0.909975  0.875743  0.889596  8241.000000\n",
      "\n",
      "\n",
      "prec1_l\n",
      "                  precision    recall  f1-score      support\n",
      "no precipitación   0.963644  0.892985  0.926970  7569.000000\n",
      "precipitación      0.339853  0.620536  0.439179   672.000000\n",
      "accuracy           0.870768  0.870768  0.870768     0.870768\n",
      "macro avg          0.651749  0.756760  0.683074  8241.000000\n",
      "weighted avg       0.912778  0.870768  0.887194  8241.000000\n",
      "\n",
      "\n",
      "prec2_l\n",
      "                  precision    recall  f1-score     support\n",
      "no precipitación   0.963216  0.892588  0.926558  7569.00000\n",
      "precipitación      0.337408  0.616071  0.436019   672.00000\n",
      "accuracy           0.870040  0.870040  0.870040     0.87004\n",
      "macro avg          0.650312  0.754330  0.681289  8241.00000\n",
      "weighted avg       0.912186  0.870040  0.886558  8241.00000\n",
      "\n",
      "\n",
      "prec3_l\n",
      "                  precision    recall  f1-score     support\n",
      "no precipitación   0.967714  0.883076  0.923460  7569.00000\n",
      "precipitación      0.336582  0.668155  0.447657   672.00000\n",
      "accuracy           0.865550  0.865550  0.865550     0.86555\n",
      "macro avg          0.652148  0.775615  0.685558  8241.00000\n",
      "weighted avg       0.916249  0.865550  0.884661  8241.00000\n",
      "\n",
      "\n"
     ]
    }
   ],
   "source": [
    "from sklearn.metrics import classification_report\n",
    "\n",
    "print(\"Informe de calidad desagregado (modelo meteorológico)\\n\")\n",
    "for l in [\"prec0_l\",\"prec1_l\",\"prec2_l\",\"prec3_l\"]:\n",
    "  print(l)\n",
    "  print(pd.DataFrame(classification_report(df_all4k[\"prec_lf\"], df_all4k[l],output_dict=True)).T)\n",
    "  print(\"\\n\")"
   ]
  },
  {
   "cell_type": "code",
   "execution_count": 64,
   "metadata": {
    "colab": {
     "base_uri": "https://localhost:8080/"
    },
    "id": "1tKjtAwPEgy7",
    "outputId": "f846b4ce-c92c-4945-f281-26dc382a0d68"
   },
   "outputs": [
    {
     "name": "stdout",
     "output_type": "stream",
     "text": [
      "Matriz de Confusión  (modelo meteorológico)\n",
      "\n",
      "prec0_l           no precipitación  precipitación   All\n",
      "prec_lf                                                \n",
      "no precipitación              6828            741  7569\n",
      "precipitación                  283            389   672\n",
      "All                           7111           1130  8241\n",
      "Heidke Skill Score: 0.37\n",
      "\n",
      "\n",
      "prec1_l           no precipitación  precipitación   All\n",
      "prec_lf                                                \n",
      "no precipitación              6759            810  7569\n",
      "precipitación                  255            417   672\n",
      "All                           7014           1227  8241\n",
      "Heidke Skill Score: 0.37\n",
      "\n",
      "\n",
      "prec2_l           no precipitación  precipitación   All\n",
      "prec_lf                                                \n",
      "no precipitación              6756            813  7569\n",
      "precipitación                  258            414   672\n",
      "All                           7014           1227  8241\n",
      "Heidke Skill Score: 0.37\n",
      "\n",
      "\n",
      "prec3_l           no precipitación  precipitación   All\n",
      "prec_lf                                                \n",
      "no precipitación              6684            885  7569\n",
      "precipitación                  223            449   672\n",
      "All                           6907           1334  8241\n",
      "Heidke Skill Score: 0.38\n",
      "\n",
      "\n"
     ]
    }
   ],
   "source": [
    "print(\"Matriz de Confusión  (modelo meteorológico)\\n\")\n",
    "for l in [\"prec0_l\",\"prec1_l\",\"prec2_l\",\"prec3_l\"]:\n",
    "  cm = pd.crosstab(df_all4k.prec_lf, df_all4k[l],margins=True,)\n",
    "  print(cm)\n",
    "  a = cm.values[0,0]\n",
    "  b = cm.values[1,0]\n",
    "  c = cm.values[0,1]\n",
    "  d = cm.values[1,1]\n",
    "  hss = 2*(a*d-b*c)/((a+c)*(c+d)+(a+b)*(b+d))\n",
    "  print(\"Heidke Skill Score:\",round(hss,2))\n",
    "  print(\"\\n\")\n"
   ]
  },
  {
   "cell_type": "code",
   "execution_count": 97,
   "metadata": {},
   "outputs": [
    {
     "data": {
      "text/plain": [
       "'0.23.2'"
      ]
     },
     "execution_count": 97,
     "metadata": {},
     "output_type": "execute_result"
    }
   ],
   "source": [
    "sklearn.__version__"
   ]
  },
  {
   "cell_type": "markdown",
   "metadata": {},
   "source": [
    "**ML \n",
    "Warning: enviroment scikit-learn = 0.23.2**"
   ]
  },
  {
   "cell_type": "code",
   "execution_count": 65,
   "metadata": {},
   "outputs": [
    {
     "data": {
      "text/html": [
       "<div>\n",
       "<style scoped>\n",
       "    .dataframe tbody tr th:only-of-type {\n",
       "        vertical-align: middle;\n",
       "    }\n",
       "\n",
       "    .dataframe tbody tr th {\n",
       "        vertical-align: top;\n",
       "    }\n",
       "\n",
       "    .dataframe thead th {\n",
       "        text-align: right;\n",
       "    }\n",
       "</style>\n",
       "<table border=\"1\" class=\"dataframe\">\n",
       "  <thead>\n",
       "    <tr style=\"text-align: right;\">\n",
       "      <th></th>\n",
       "      <th>prec_lb</th>\n",
       "      <th>dir0</th>\n",
       "      <th>snow_prec0</th>\n",
       "      <th>snowlevel0</th>\n",
       "      <th>mod0</th>\n",
       "      <th>wind_gust0</th>\n",
       "      <th>mslp0</th>\n",
       "      <th>temp0</th>\n",
       "      <th>rh0</th>\n",
       "      <th>visibility0</th>\n",
       "      <th>...</th>\n",
       "      <th>cape3</th>\n",
       "      <th>cin3</th>\n",
       "      <th>cfh3</th>\n",
       "      <th>cfl3</th>\n",
       "      <th>cfm3</th>\n",
       "      <th>cft3</th>\n",
       "      <th>HGT5003</th>\n",
       "      <th>HGT8503</th>\n",
       "      <th>T5003</th>\n",
       "      <th>T8503</th>\n",
       "    </tr>\n",
       "    <tr>\n",
       "      <th>time</th>\n",
       "      <th></th>\n",
       "      <th></th>\n",
       "      <th></th>\n",
       "      <th></th>\n",
       "      <th></th>\n",
       "      <th></th>\n",
       "      <th></th>\n",
       "      <th></th>\n",
       "      <th></th>\n",
       "      <th></th>\n",
       "      <th></th>\n",
       "      <th></th>\n",
       "      <th></th>\n",
       "      <th></th>\n",
       "      <th></th>\n",
       "      <th></th>\n",
       "      <th></th>\n",
       "      <th></th>\n",
       "      <th></th>\n",
       "      <th></th>\n",
       "      <th></th>\n",
       "    </tr>\n",
       "  </thead>\n",
       "  <tbody>\n",
       "    <tr>\n",
       "      <th>2021-03-13 00:00:00</th>\n",
       "      <td>no precipitación</td>\n",
       "      <td>214.545364</td>\n",
       "      <td>0.0</td>\n",
       "      <td>1166.868286</td>\n",
       "      <td>3.140418</td>\n",
       "      <td>4.824757</td>\n",
       "      <td>102560.140625</td>\n",
       "      <td>281.254181</td>\n",
       "      <td>0.952518</td>\n",
       "      <td>24049.062500</td>\n",
       "      <td>...</td>\n",
       "      <td>51.520000</td>\n",
       "      <td>-1.374254</td>\n",
       "      <td>0.0</td>\n",
       "      <td>0.194357</td>\n",
       "      <td>0.0</td>\n",
       "      <td>0.194357</td>\n",
       "      <td>5580.275879</td>\n",
       "      <td>1518.526978</td>\n",
       "      <td>250.875244</td>\n",
       "      <td>273.314484</td>\n",
       "    </tr>\n",
       "    <tr>\n",
       "      <th>2021-03-13 01:00:00</th>\n",
       "      <td>no precipitación</td>\n",
       "      <td>225.678787</td>\n",
       "      <td>0.0</td>\n",
       "      <td>1128.045166</td>\n",
       "      <td>4.475591</td>\n",
       "      <td>6.153662</td>\n",
       "      <td>102533.843750</td>\n",
       "      <td>281.739441</td>\n",
       "      <td>0.926475</td>\n",
       "      <td>24042.150391</td>\n",
       "      <td>...</td>\n",
       "      <td>55.029999</td>\n",
       "      <td>-2.741293</td>\n",
       "      <td>0.0</td>\n",
       "      <td>0.533955</td>\n",
       "      <td>0.0</td>\n",
       "      <td>0.533955</td>\n",
       "      <td>5574.872070</td>\n",
       "      <td>1515.244019</td>\n",
       "      <td>251.213806</td>\n",
       "      <td>272.804291</td>\n",
       "    </tr>\n",
       "    <tr>\n",
       "      <th>2021-03-13 02:00:00</th>\n",
       "      <td>no precipitación</td>\n",
       "      <td>239.999359</td>\n",
       "      <td>0.0</td>\n",
       "      <td>1116.512085</td>\n",
       "      <td>5.076742</td>\n",
       "      <td>7.992311</td>\n",
       "      <td>102479.242188</td>\n",
       "      <td>281.989441</td>\n",
       "      <td>0.935685</td>\n",
       "      <td>16835.328125</td>\n",
       "      <td>...</td>\n",
       "      <td>67.059998</td>\n",
       "      <td>-2.830637</td>\n",
       "      <td>0.0</td>\n",
       "      <td>0.600000</td>\n",
       "      <td>0.0</td>\n",
       "      <td>0.600000</td>\n",
       "      <td>5568.991211</td>\n",
       "      <td>1513.017944</td>\n",
       "      <td>251.418686</td>\n",
       "      <td>272.579834</td>\n",
       "    </tr>\n",
       "    <tr>\n",
       "      <th>2021-03-13 03:00:00</th>\n",
       "      <td>no precipitación</td>\n",
       "      <td>239.184814</td>\n",
       "      <td>0.0</td>\n",
       "      <td>1117.297363</td>\n",
       "      <td>5.250713</td>\n",
       "      <td>8.446166</td>\n",
       "      <td>102396.609375</td>\n",
       "      <td>282.385498</td>\n",
       "      <td>0.914196</td>\n",
       "      <td>24234.072266</td>\n",
       "      <td>...</td>\n",
       "      <td>65.680000</td>\n",
       "      <td>-2.403894</td>\n",
       "      <td>0.0</td>\n",
       "      <td>0.152376</td>\n",
       "      <td>0.0</td>\n",
       "      <td>0.152376</td>\n",
       "      <td>5560.987793</td>\n",
       "      <td>1504.526001</td>\n",
       "      <td>251.836380</td>\n",
       "      <td>272.713043</td>\n",
       "    </tr>\n",
       "    <tr>\n",
       "      <th>2021-03-13 04:00:00</th>\n",
       "      <td>no precipitación</td>\n",
       "      <td>246.586426</td>\n",
       "      <td>0.0</td>\n",
       "      <td>1163.626709</td>\n",
       "      <td>5.125148</td>\n",
       "      <td>8.151620</td>\n",
       "      <td>102331.562500</td>\n",
       "      <td>282.544067</td>\n",
       "      <td>0.917266</td>\n",
       "      <td>24038.500000</td>\n",
       "      <td>...</td>\n",
       "      <td>58.830002</td>\n",
       "      <td>-1.887336</td>\n",
       "      <td>0.0</td>\n",
       "      <td>0.454938</td>\n",
       "      <td>0.0</td>\n",
       "      <td>0.454938</td>\n",
       "      <td>5555.812012</td>\n",
       "      <td>1499.142944</td>\n",
       "      <td>252.413376</td>\n",
       "      <td>272.892181</td>\n",
       "    </tr>\n",
       "    <tr>\n",
       "      <th>...</th>\n",
       "      <td>...</td>\n",
       "      <td>...</td>\n",
       "      <td>...</td>\n",
       "      <td>...</td>\n",
       "      <td>...</td>\n",
       "      <td>...</td>\n",
       "      <td>...</td>\n",
       "      <td>...</td>\n",
       "      <td>...</td>\n",
       "      <td>...</td>\n",
       "      <td>...</td>\n",
       "      <td>...</td>\n",
       "      <td>...</td>\n",
       "      <td>...</td>\n",
       "      <td>...</td>\n",
       "      <td>...</td>\n",
       "      <td>...</td>\n",
       "      <td>...</td>\n",
       "      <td>...</td>\n",
       "      <td>...</td>\n",
       "      <td>...</td>\n",
       "    </tr>\n",
       "    <tr>\n",
       "      <th>2022-02-19 05:00:00</th>\n",
       "      <td>no precipitación</td>\n",
       "      <td>47.638054</td>\n",
       "      <td>0.0</td>\n",
       "      <td>693.243774</td>\n",
       "      <td>1.135314</td>\n",
       "      <td>2.066168</td>\n",
       "      <td>102850.179688</td>\n",
       "      <td>277.612946</td>\n",
       "      <td>0.954545</td>\n",
       "      <td>24056.886719</td>\n",
       "      <td>...</td>\n",
       "      <td>0.000000</td>\n",
       "      <td>0.000047</td>\n",
       "      <td>0.0</td>\n",
       "      <td>0.000000</td>\n",
       "      <td>0.0</td>\n",
       "      <td>0.000000</td>\n",
       "      <td>5524.423828</td>\n",
       "      <td>1530.268799</td>\n",
       "      <td>246.835938</td>\n",
       "      <td>270.071991</td>\n",
       "    </tr>\n",
       "    <tr>\n",
       "      <th>2022-02-19 06:00:00</th>\n",
       "      <td>no precipitación</td>\n",
       "      <td>59.314892</td>\n",
       "      <td>0.0</td>\n",
       "      <td>697.355774</td>\n",
       "      <td>1.231569</td>\n",
       "      <td>2.231162</td>\n",
       "      <td>102896.640625</td>\n",
       "      <td>277.478699</td>\n",
       "      <td>0.946213</td>\n",
       "      <td>24061.808594</td>\n",
       "      <td>...</td>\n",
       "      <td>0.000000</td>\n",
       "      <td>-0.000316</td>\n",
       "      <td>0.0</td>\n",
       "      <td>0.000000</td>\n",
       "      <td>0.0</td>\n",
       "      <td>0.000000</td>\n",
       "      <td>5530.025879</td>\n",
       "      <td>1533.343262</td>\n",
       "      <td>246.755249</td>\n",
       "      <td>270.114868</td>\n",
       "    </tr>\n",
       "    <tr>\n",
       "      <th>2022-02-19 07:00:00</th>\n",
       "      <td>no precipitación</td>\n",
       "      <td>64.254074</td>\n",
       "      <td>0.0</td>\n",
       "      <td>714.568115</td>\n",
       "      <td>1.510872</td>\n",
       "      <td>2.730811</td>\n",
       "      <td>102950.414062</td>\n",
       "      <td>277.314362</td>\n",
       "      <td>0.932381</td>\n",
       "      <td>24056.154297</td>\n",
       "      <td>...</td>\n",
       "      <td>0.000000</td>\n",
       "      <td>-0.000211</td>\n",
       "      <td>0.0</td>\n",
       "      <td>0.000000</td>\n",
       "      <td>0.0</td>\n",
       "      <td>0.000000</td>\n",
       "      <td>5537.058105</td>\n",
       "      <td>1538.728760</td>\n",
       "      <td>246.877563</td>\n",
       "      <td>270.068451</td>\n",
       "    </tr>\n",
       "    <tr>\n",
       "      <th>2022-02-19 08:00:00</th>\n",
       "      <td>no precipitación</td>\n",
       "      <td>67.614006</td>\n",
       "      <td>0.0</td>\n",
       "      <td>747.422363</td>\n",
       "      <td>1.588473</td>\n",
       "      <td>2.935006</td>\n",
       "      <td>103033.023438</td>\n",
       "      <td>277.679138</td>\n",
       "      <td>0.918794</td>\n",
       "      <td>24040.587891</td>\n",
       "      <td>...</td>\n",
       "      <td>0.000000</td>\n",
       "      <td>0.000430</td>\n",
       "      <td>0.0</td>\n",
       "      <td>0.000000</td>\n",
       "      <td>0.0</td>\n",
       "      <td>0.000000</td>\n",
       "      <td>5546.759766</td>\n",
       "      <td>1546.541748</td>\n",
       "      <td>247.663437</td>\n",
       "      <td>270.379944</td>\n",
       "    </tr>\n",
       "    <tr>\n",
       "      <th>2022-02-19 09:00:00</th>\n",
       "      <td>no precipitación</td>\n",
       "      <td>68.512886</td>\n",
       "      <td>0.0</td>\n",
       "      <td>773.654785</td>\n",
       "      <td>2.024625</td>\n",
       "      <td>2.458740</td>\n",
       "      <td>103075.359375</td>\n",
       "      <td>280.139374</td>\n",
       "      <td>0.777833</td>\n",
       "      <td>24041.431641</td>\n",
       "      <td>...</td>\n",
       "      <td>0.000000</td>\n",
       "      <td>0.000281</td>\n",
       "      <td>0.0</td>\n",
       "      <td>0.000000</td>\n",
       "      <td>0.0</td>\n",
       "      <td>0.000000</td>\n",
       "      <td>5558.576172</td>\n",
       "      <td>1551.027832</td>\n",
       "      <td>247.934998</td>\n",
       "      <td>270.433807</td>\n",
       "    </tr>\n",
       "  </tbody>\n",
       "</table>\n",
       "<p>8241 rows × 101 columns</p>\n",
       "</div>"
      ],
      "text/plain": [
       "                              prec_lb        dir0  snow_prec0   snowlevel0  \\\n",
       "time                                                                         \n",
       "2021-03-13 00:00:00  no precipitación  214.545364         0.0  1166.868286   \n",
       "2021-03-13 01:00:00  no precipitación  225.678787         0.0  1128.045166   \n",
       "2021-03-13 02:00:00  no precipitación  239.999359         0.0  1116.512085   \n",
       "2021-03-13 03:00:00  no precipitación  239.184814         0.0  1117.297363   \n",
       "2021-03-13 04:00:00  no precipitación  246.586426         0.0  1163.626709   \n",
       "...                               ...         ...         ...          ...   \n",
       "2022-02-19 05:00:00  no precipitación   47.638054         0.0   693.243774   \n",
       "2022-02-19 06:00:00  no precipitación   59.314892         0.0   697.355774   \n",
       "2022-02-19 07:00:00  no precipitación   64.254074         0.0   714.568115   \n",
       "2022-02-19 08:00:00  no precipitación   67.614006         0.0   747.422363   \n",
       "2022-02-19 09:00:00  no precipitación   68.512886         0.0   773.654785   \n",
       "\n",
       "                         mod0  wind_gust0          mslp0       temp0  \\\n",
       "time                                                                   \n",
       "2021-03-13 00:00:00  3.140418    4.824757  102560.140625  281.254181   \n",
       "2021-03-13 01:00:00  4.475591    6.153662  102533.843750  281.739441   \n",
       "2021-03-13 02:00:00  5.076742    7.992311  102479.242188  281.989441   \n",
       "2021-03-13 03:00:00  5.250713    8.446166  102396.609375  282.385498   \n",
       "2021-03-13 04:00:00  5.125148    8.151620  102331.562500  282.544067   \n",
       "...                       ...         ...            ...         ...   \n",
       "2022-02-19 05:00:00  1.135314    2.066168  102850.179688  277.612946   \n",
       "2022-02-19 06:00:00  1.231569    2.231162  102896.640625  277.478699   \n",
       "2022-02-19 07:00:00  1.510872    2.730811  102950.414062  277.314362   \n",
       "2022-02-19 08:00:00  1.588473    2.935006  103033.023438  277.679138   \n",
       "2022-02-19 09:00:00  2.024625    2.458740  103075.359375  280.139374   \n",
       "\n",
       "                          rh0   visibility0  ...      cape3      cin3  cfh3  \\\n",
       "time                                         ...                              \n",
       "2021-03-13 00:00:00  0.952518  24049.062500  ...  51.520000 -1.374254   0.0   \n",
       "2021-03-13 01:00:00  0.926475  24042.150391  ...  55.029999 -2.741293   0.0   \n",
       "2021-03-13 02:00:00  0.935685  16835.328125  ...  67.059998 -2.830637   0.0   \n",
       "2021-03-13 03:00:00  0.914196  24234.072266  ...  65.680000 -2.403894   0.0   \n",
       "2021-03-13 04:00:00  0.917266  24038.500000  ...  58.830002 -1.887336   0.0   \n",
       "...                       ...           ...  ...        ...       ...   ...   \n",
       "2022-02-19 05:00:00  0.954545  24056.886719  ...   0.000000  0.000047   0.0   \n",
       "2022-02-19 06:00:00  0.946213  24061.808594  ...   0.000000 -0.000316   0.0   \n",
       "2022-02-19 07:00:00  0.932381  24056.154297  ...   0.000000 -0.000211   0.0   \n",
       "2022-02-19 08:00:00  0.918794  24040.587891  ...   0.000000  0.000430   0.0   \n",
       "2022-02-19 09:00:00  0.777833  24041.431641  ...   0.000000  0.000281   0.0   \n",
       "\n",
       "                         cfl3  cfm3      cft3      HGT5003      HGT8503  \\\n",
       "time                                                                      \n",
       "2021-03-13 00:00:00  0.194357   0.0  0.194357  5580.275879  1518.526978   \n",
       "2021-03-13 01:00:00  0.533955   0.0  0.533955  5574.872070  1515.244019   \n",
       "2021-03-13 02:00:00  0.600000   0.0  0.600000  5568.991211  1513.017944   \n",
       "2021-03-13 03:00:00  0.152376   0.0  0.152376  5560.987793  1504.526001   \n",
       "2021-03-13 04:00:00  0.454938   0.0  0.454938  5555.812012  1499.142944   \n",
       "...                       ...   ...       ...          ...          ...   \n",
       "2022-02-19 05:00:00  0.000000   0.0  0.000000  5524.423828  1530.268799   \n",
       "2022-02-19 06:00:00  0.000000   0.0  0.000000  5530.025879  1533.343262   \n",
       "2022-02-19 07:00:00  0.000000   0.0  0.000000  5537.058105  1538.728760   \n",
       "2022-02-19 08:00:00  0.000000   0.0  0.000000  5546.759766  1546.541748   \n",
       "2022-02-19 09:00:00  0.000000   0.0  0.000000  5558.576172  1551.027832   \n",
       "\n",
       "                          T5003       T8503  \n",
       "time                                         \n",
       "2021-03-13 00:00:00  250.875244  273.314484  \n",
       "2021-03-13 01:00:00  251.213806  272.804291  \n",
       "2021-03-13 02:00:00  251.418686  272.579834  \n",
       "2021-03-13 03:00:00  251.836380  272.713043  \n",
       "2021-03-13 04:00:00  252.413376  272.892181  \n",
       "...                         ...         ...  \n",
       "2022-02-19 05:00:00  246.835938  270.071991  \n",
       "2022-02-19 06:00:00  246.755249  270.114868  \n",
       "2022-02-19 07:00:00  246.877563  270.068451  \n",
       "2022-02-19 08:00:00  247.663437  270.379944  \n",
       "2022-02-19 09:00:00  247.934998  270.433807  \n",
       "\n",
       "[8241 rows x 101 columns]"
      ]
     },
     "execution_count": 65,
     "metadata": {},
     "output_type": "execute_result"
    }
   ],
   "source": [
    "#drop label meteorological columns and \n",
    "m_model = df_all4k.drop(columns = [\"prec_1hour_b\",\"prec_1hour_f\",\"prec0_l\",\"prec1_l\",\"prec2_l\",\"prec3_l\",\"prec_lf\"])\n",
    "m_model"
   ]
  },
  {
   "cell_type": "code",
   "execution_count": 78,
   "metadata": {},
   "outputs": [
    {
     "data": {
      "text/html": [
       "<style  type=\"text/css\" >\n",
       "#T_a51e337a_4309_11ed_94c4_e45e37e7582drow29_col1,#T_a51e337a_4309_11ed_94c4_e45e37e7582drow44_col1,#T_a51e337a_4309_11ed_94c4_e45e37e7582drow52_col1,#T_a51e337a_4309_11ed_94c4_e45e37e7582drow58_col1{\n",
       "            background-color:  lightgreen;\n",
       "        }</style><table id=\"T_a51e337a_4309_11ed_94c4_e45e37e7582d\" ><thead>    <tr>        <th class=\"blank level0\" ></th>        <th class=\"col_heading level0 col0\" >Description</th>        <th class=\"col_heading level0 col1\" >Value</th>    </tr></thead><tbody>\n",
       "                <tr>\n",
       "                        <th id=\"T_a51e337a_4309_11ed_94c4_e45e37e7582dlevel0_row0\" class=\"row_heading level0 row0\" >0</th>\n",
       "                        <td id=\"T_a51e337a_4309_11ed_94c4_e45e37e7582drow0_col0\" class=\"data row0 col0\" >session_id</td>\n",
       "                        <td id=\"T_a51e337a_4309_11ed_94c4_e45e37e7582drow0_col1\" class=\"data row0 col1\" >2770</td>\n",
       "            </tr>\n",
       "            <tr>\n",
       "                        <th id=\"T_a51e337a_4309_11ed_94c4_e45e37e7582dlevel0_row1\" class=\"row_heading level0 row1\" >1</th>\n",
       "                        <td id=\"T_a51e337a_4309_11ed_94c4_e45e37e7582drow1_col0\" class=\"data row1 col0\" >Target</td>\n",
       "                        <td id=\"T_a51e337a_4309_11ed_94c4_e45e37e7582drow1_col1\" class=\"data row1 col1\" >prec_lb</td>\n",
       "            </tr>\n",
       "            <tr>\n",
       "                        <th id=\"T_a51e337a_4309_11ed_94c4_e45e37e7582dlevel0_row2\" class=\"row_heading level0 row2\" >2</th>\n",
       "                        <td id=\"T_a51e337a_4309_11ed_94c4_e45e37e7582drow2_col0\" class=\"data row2 col0\" >Target Type</td>\n",
       "                        <td id=\"T_a51e337a_4309_11ed_94c4_e45e37e7582drow2_col1\" class=\"data row2 col1\" >Binary</td>\n",
       "            </tr>\n",
       "            <tr>\n",
       "                        <th id=\"T_a51e337a_4309_11ed_94c4_e45e37e7582dlevel0_row3\" class=\"row_heading level0 row3\" >3</th>\n",
       "                        <td id=\"T_a51e337a_4309_11ed_94c4_e45e37e7582drow3_col0\" class=\"data row3 col0\" >Label Encoded</td>\n",
       "                        <td id=\"T_a51e337a_4309_11ed_94c4_e45e37e7582drow3_col1\" class=\"data row3 col1\" >no precipitación: 0, precipitación: 1</td>\n",
       "            </tr>\n",
       "            <tr>\n",
       "                        <th id=\"T_a51e337a_4309_11ed_94c4_e45e37e7582dlevel0_row4\" class=\"row_heading level0 row4\" >4</th>\n",
       "                        <td id=\"T_a51e337a_4309_11ed_94c4_e45e37e7582drow4_col0\" class=\"data row4 col0\" >Original Data</td>\n",
       "                        <td id=\"T_a51e337a_4309_11ed_94c4_e45e37e7582drow4_col1\" class=\"data row4 col1\" >(8241, 101)</td>\n",
       "            </tr>\n",
       "            <tr>\n",
       "                        <th id=\"T_a51e337a_4309_11ed_94c4_e45e37e7582dlevel0_row5\" class=\"row_heading level0 row5\" >5</th>\n",
       "                        <td id=\"T_a51e337a_4309_11ed_94c4_e45e37e7582drow5_col0\" class=\"data row5 col0\" >Missing Values</td>\n",
       "                        <td id=\"T_a51e337a_4309_11ed_94c4_e45e37e7582drow5_col1\" class=\"data row5 col1\" >False</td>\n",
       "            </tr>\n",
       "            <tr>\n",
       "                        <th id=\"T_a51e337a_4309_11ed_94c4_e45e37e7582dlevel0_row6\" class=\"row_heading level0 row6\" >6</th>\n",
       "                        <td id=\"T_a51e337a_4309_11ed_94c4_e45e37e7582drow6_col0\" class=\"data row6 col0\" >Numeric Features</td>\n",
       "                        <td id=\"T_a51e337a_4309_11ed_94c4_e45e37e7582drow6_col1\" class=\"data row6 col1\" >100</td>\n",
       "            </tr>\n",
       "            <tr>\n",
       "                        <th id=\"T_a51e337a_4309_11ed_94c4_e45e37e7582dlevel0_row7\" class=\"row_heading level0 row7\" >7</th>\n",
       "                        <td id=\"T_a51e337a_4309_11ed_94c4_e45e37e7582drow7_col0\" class=\"data row7 col0\" >Categorical Features</td>\n",
       "                        <td id=\"T_a51e337a_4309_11ed_94c4_e45e37e7582drow7_col1\" class=\"data row7 col1\" >0</td>\n",
       "            </tr>\n",
       "            <tr>\n",
       "                        <th id=\"T_a51e337a_4309_11ed_94c4_e45e37e7582dlevel0_row8\" class=\"row_heading level0 row8\" >8</th>\n",
       "                        <td id=\"T_a51e337a_4309_11ed_94c4_e45e37e7582drow8_col0\" class=\"data row8 col0\" >Ordinal Features</td>\n",
       "                        <td id=\"T_a51e337a_4309_11ed_94c4_e45e37e7582drow8_col1\" class=\"data row8 col1\" >False</td>\n",
       "            </tr>\n",
       "            <tr>\n",
       "                        <th id=\"T_a51e337a_4309_11ed_94c4_e45e37e7582dlevel0_row9\" class=\"row_heading level0 row9\" >9</th>\n",
       "                        <td id=\"T_a51e337a_4309_11ed_94c4_e45e37e7582drow9_col0\" class=\"data row9 col0\" >High Cardinality Features</td>\n",
       "                        <td id=\"T_a51e337a_4309_11ed_94c4_e45e37e7582drow9_col1\" class=\"data row9 col1\" >False</td>\n",
       "            </tr>\n",
       "            <tr>\n",
       "                        <th id=\"T_a51e337a_4309_11ed_94c4_e45e37e7582dlevel0_row10\" class=\"row_heading level0 row10\" >10</th>\n",
       "                        <td id=\"T_a51e337a_4309_11ed_94c4_e45e37e7582drow10_col0\" class=\"data row10 col0\" >High Cardinality Method</td>\n",
       "                        <td id=\"T_a51e337a_4309_11ed_94c4_e45e37e7582drow10_col1\" class=\"data row10 col1\" >None</td>\n",
       "            </tr>\n",
       "            <tr>\n",
       "                        <th id=\"T_a51e337a_4309_11ed_94c4_e45e37e7582dlevel0_row11\" class=\"row_heading level0 row11\" >11</th>\n",
       "                        <td id=\"T_a51e337a_4309_11ed_94c4_e45e37e7582drow11_col0\" class=\"data row11 col0\" >Transformed Train Set</td>\n",
       "                        <td id=\"T_a51e337a_4309_11ed_94c4_e45e37e7582drow11_col1\" class=\"data row11 col1\" >(7416, 75)</td>\n",
       "            </tr>\n",
       "            <tr>\n",
       "                        <th id=\"T_a51e337a_4309_11ed_94c4_e45e37e7582dlevel0_row12\" class=\"row_heading level0 row12\" >12</th>\n",
       "                        <td id=\"T_a51e337a_4309_11ed_94c4_e45e37e7582drow12_col0\" class=\"data row12 col0\" >Transformed Test Set</td>\n",
       "                        <td id=\"T_a51e337a_4309_11ed_94c4_e45e37e7582drow12_col1\" class=\"data row12 col1\" >(825, 75)</td>\n",
       "            </tr>\n",
       "            <tr>\n",
       "                        <th id=\"T_a51e337a_4309_11ed_94c4_e45e37e7582dlevel0_row13\" class=\"row_heading level0 row13\" >13</th>\n",
       "                        <td id=\"T_a51e337a_4309_11ed_94c4_e45e37e7582drow13_col0\" class=\"data row13 col0\" >Shuffle Train-Test</td>\n",
       "                        <td id=\"T_a51e337a_4309_11ed_94c4_e45e37e7582drow13_col1\" class=\"data row13 col1\" >True</td>\n",
       "            </tr>\n",
       "            <tr>\n",
       "                        <th id=\"T_a51e337a_4309_11ed_94c4_e45e37e7582dlevel0_row14\" class=\"row_heading level0 row14\" >14</th>\n",
       "                        <td id=\"T_a51e337a_4309_11ed_94c4_e45e37e7582drow14_col0\" class=\"data row14 col0\" >Stratify Train-Test</td>\n",
       "                        <td id=\"T_a51e337a_4309_11ed_94c4_e45e37e7582drow14_col1\" class=\"data row14 col1\" >False</td>\n",
       "            </tr>\n",
       "            <tr>\n",
       "                        <th id=\"T_a51e337a_4309_11ed_94c4_e45e37e7582dlevel0_row15\" class=\"row_heading level0 row15\" >15</th>\n",
       "                        <td id=\"T_a51e337a_4309_11ed_94c4_e45e37e7582drow15_col0\" class=\"data row15 col0\" >Fold Generator</td>\n",
       "                        <td id=\"T_a51e337a_4309_11ed_94c4_e45e37e7582drow15_col1\" class=\"data row15 col1\" >StratifiedKFold</td>\n",
       "            </tr>\n",
       "            <tr>\n",
       "                        <th id=\"T_a51e337a_4309_11ed_94c4_e45e37e7582dlevel0_row16\" class=\"row_heading level0 row16\" >16</th>\n",
       "                        <td id=\"T_a51e337a_4309_11ed_94c4_e45e37e7582drow16_col0\" class=\"data row16 col0\" >Fold Number</td>\n",
       "                        <td id=\"T_a51e337a_4309_11ed_94c4_e45e37e7582drow16_col1\" class=\"data row16 col1\" >10</td>\n",
       "            </tr>\n",
       "            <tr>\n",
       "                        <th id=\"T_a51e337a_4309_11ed_94c4_e45e37e7582dlevel0_row17\" class=\"row_heading level0 row17\" >17</th>\n",
       "                        <td id=\"T_a51e337a_4309_11ed_94c4_e45e37e7582drow17_col0\" class=\"data row17 col0\" >CPU Jobs</td>\n",
       "                        <td id=\"T_a51e337a_4309_11ed_94c4_e45e37e7582drow17_col1\" class=\"data row17 col1\" >-1</td>\n",
       "            </tr>\n",
       "            <tr>\n",
       "                        <th id=\"T_a51e337a_4309_11ed_94c4_e45e37e7582dlevel0_row18\" class=\"row_heading level0 row18\" >18</th>\n",
       "                        <td id=\"T_a51e337a_4309_11ed_94c4_e45e37e7582drow18_col0\" class=\"data row18 col0\" >Use GPU</td>\n",
       "                        <td id=\"T_a51e337a_4309_11ed_94c4_e45e37e7582drow18_col1\" class=\"data row18 col1\" >False</td>\n",
       "            </tr>\n",
       "            <tr>\n",
       "                        <th id=\"T_a51e337a_4309_11ed_94c4_e45e37e7582dlevel0_row19\" class=\"row_heading level0 row19\" >19</th>\n",
       "                        <td id=\"T_a51e337a_4309_11ed_94c4_e45e37e7582drow19_col0\" class=\"data row19 col0\" >Log Experiment</td>\n",
       "                        <td id=\"T_a51e337a_4309_11ed_94c4_e45e37e7582drow19_col1\" class=\"data row19 col1\" >False</td>\n",
       "            </tr>\n",
       "            <tr>\n",
       "                        <th id=\"T_a51e337a_4309_11ed_94c4_e45e37e7582dlevel0_row20\" class=\"row_heading level0 row20\" >20</th>\n",
       "                        <td id=\"T_a51e337a_4309_11ed_94c4_e45e37e7582drow20_col0\" class=\"data row20 col0\" >Experiment Name</td>\n",
       "                        <td id=\"T_a51e337a_4309_11ed_94c4_e45e37e7582drow20_col1\" class=\"data row20 col1\" >clf-default-name</td>\n",
       "            </tr>\n",
       "            <tr>\n",
       "                        <th id=\"T_a51e337a_4309_11ed_94c4_e45e37e7582dlevel0_row21\" class=\"row_heading level0 row21\" >21</th>\n",
       "                        <td id=\"T_a51e337a_4309_11ed_94c4_e45e37e7582drow21_col0\" class=\"data row21 col0\" >USI</td>\n",
       "                        <td id=\"T_a51e337a_4309_11ed_94c4_e45e37e7582drow21_col1\" class=\"data row21 col1\" >0529</td>\n",
       "            </tr>\n",
       "            <tr>\n",
       "                        <th id=\"T_a51e337a_4309_11ed_94c4_e45e37e7582dlevel0_row22\" class=\"row_heading level0 row22\" >22</th>\n",
       "                        <td id=\"T_a51e337a_4309_11ed_94c4_e45e37e7582drow22_col0\" class=\"data row22 col0\" >Imputation Type</td>\n",
       "                        <td id=\"T_a51e337a_4309_11ed_94c4_e45e37e7582drow22_col1\" class=\"data row22 col1\" >simple</td>\n",
       "            </tr>\n",
       "            <tr>\n",
       "                        <th id=\"T_a51e337a_4309_11ed_94c4_e45e37e7582dlevel0_row23\" class=\"row_heading level0 row23\" >23</th>\n",
       "                        <td id=\"T_a51e337a_4309_11ed_94c4_e45e37e7582drow23_col0\" class=\"data row23 col0\" >Iterative Imputation Iteration</td>\n",
       "                        <td id=\"T_a51e337a_4309_11ed_94c4_e45e37e7582drow23_col1\" class=\"data row23 col1\" >None</td>\n",
       "            </tr>\n",
       "            <tr>\n",
       "                        <th id=\"T_a51e337a_4309_11ed_94c4_e45e37e7582dlevel0_row24\" class=\"row_heading level0 row24\" >24</th>\n",
       "                        <td id=\"T_a51e337a_4309_11ed_94c4_e45e37e7582drow24_col0\" class=\"data row24 col0\" >Numeric Imputer</td>\n",
       "                        <td id=\"T_a51e337a_4309_11ed_94c4_e45e37e7582drow24_col1\" class=\"data row24 col1\" >mean</td>\n",
       "            </tr>\n",
       "            <tr>\n",
       "                        <th id=\"T_a51e337a_4309_11ed_94c4_e45e37e7582dlevel0_row25\" class=\"row_heading level0 row25\" >25</th>\n",
       "                        <td id=\"T_a51e337a_4309_11ed_94c4_e45e37e7582drow25_col0\" class=\"data row25 col0\" >Iterative Imputation Numeric Model</td>\n",
       "                        <td id=\"T_a51e337a_4309_11ed_94c4_e45e37e7582drow25_col1\" class=\"data row25 col1\" >None</td>\n",
       "            </tr>\n",
       "            <tr>\n",
       "                        <th id=\"T_a51e337a_4309_11ed_94c4_e45e37e7582dlevel0_row26\" class=\"row_heading level0 row26\" >26</th>\n",
       "                        <td id=\"T_a51e337a_4309_11ed_94c4_e45e37e7582drow26_col0\" class=\"data row26 col0\" >Categorical Imputer</td>\n",
       "                        <td id=\"T_a51e337a_4309_11ed_94c4_e45e37e7582drow26_col1\" class=\"data row26 col1\" >constant</td>\n",
       "            </tr>\n",
       "            <tr>\n",
       "                        <th id=\"T_a51e337a_4309_11ed_94c4_e45e37e7582dlevel0_row27\" class=\"row_heading level0 row27\" >27</th>\n",
       "                        <td id=\"T_a51e337a_4309_11ed_94c4_e45e37e7582drow27_col0\" class=\"data row27 col0\" >Iterative Imputation Categorical Model</td>\n",
       "                        <td id=\"T_a51e337a_4309_11ed_94c4_e45e37e7582drow27_col1\" class=\"data row27 col1\" >None</td>\n",
       "            </tr>\n",
       "            <tr>\n",
       "                        <th id=\"T_a51e337a_4309_11ed_94c4_e45e37e7582dlevel0_row28\" class=\"row_heading level0 row28\" >28</th>\n",
       "                        <td id=\"T_a51e337a_4309_11ed_94c4_e45e37e7582drow28_col0\" class=\"data row28 col0\" >Unknown Categoricals Handling</td>\n",
       "                        <td id=\"T_a51e337a_4309_11ed_94c4_e45e37e7582drow28_col1\" class=\"data row28 col1\" >least_frequent</td>\n",
       "            </tr>\n",
       "            <tr>\n",
       "                        <th id=\"T_a51e337a_4309_11ed_94c4_e45e37e7582dlevel0_row29\" class=\"row_heading level0 row29\" >29</th>\n",
       "                        <td id=\"T_a51e337a_4309_11ed_94c4_e45e37e7582drow29_col0\" class=\"data row29 col0\" >Normalize</td>\n",
       "                        <td id=\"T_a51e337a_4309_11ed_94c4_e45e37e7582drow29_col1\" class=\"data row29 col1\" >True</td>\n",
       "            </tr>\n",
       "            <tr>\n",
       "                        <th id=\"T_a51e337a_4309_11ed_94c4_e45e37e7582dlevel0_row30\" class=\"row_heading level0 row30\" >30</th>\n",
       "                        <td id=\"T_a51e337a_4309_11ed_94c4_e45e37e7582drow30_col0\" class=\"data row30 col0\" >Normalize Method</td>\n",
       "                        <td id=\"T_a51e337a_4309_11ed_94c4_e45e37e7582drow30_col1\" class=\"data row30 col1\" >zscore</td>\n",
       "            </tr>\n",
       "            <tr>\n",
       "                        <th id=\"T_a51e337a_4309_11ed_94c4_e45e37e7582dlevel0_row31\" class=\"row_heading level0 row31\" >31</th>\n",
       "                        <td id=\"T_a51e337a_4309_11ed_94c4_e45e37e7582drow31_col0\" class=\"data row31 col0\" >Transformation</td>\n",
       "                        <td id=\"T_a51e337a_4309_11ed_94c4_e45e37e7582drow31_col1\" class=\"data row31 col1\" >False</td>\n",
       "            </tr>\n",
       "            <tr>\n",
       "                        <th id=\"T_a51e337a_4309_11ed_94c4_e45e37e7582dlevel0_row32\" class=\"row_heading level0 row32\" >32</th>\n",
       "                        <td id=\"T_a51e337a_4309_11ed_94c4_e45e37e7582drow32_col0\" class=\"data row32 col0\" >Transformation Method</td>\n",
       "                        <td id=\"T_a51e337a_4309_11ed_94c4_e45e37e7582drow32_col1\" class=\"data row32 col1\" >None</td>\n",
       "            </tr>\n",
       "            <tr>\n",
       "                        <th id=\"T_a51e337a_4309_11ed_94c4_e45e37e7582dlevel0_row33\" class=\"row_heading level0 row33\" >33</th>\n",
       "                        <td id=\"T_a51e337a_4309_11ed_94c4_e45e37e7582drow33_col0\" class=\"data row33 col0\" >PCA</td>\n",
       "                        <td id=\"T_a51e337a_4309_11ed_94c4_e45e37e7582drow33_col1\" class=\"data row33 col1\" >False</td>\n",
       "            </tr>\n",
       "            <tr>\n",
       "                        <th id=\"T_a51e337a_4309_11ed_94c4_e45e37e7582dlevel0_row34\" class=\"row_heading level0 row34\" >34</th>\n",
       "                        <td id=\"T_a51e337a_4309_11ed_94c4_e45e37e7582drow34_col0\" class=\"data row34 col0\" >PCA Method</td>\n",
       "                        <td id=\"T_a51e337a_4309_11ed_94c4_e45e37e7582drow34_col1\" class=\"data row34 col1\" >None</td>\n",
       "            </tr>\n",
       "            <tr>\n",
       "                        <th id=\"T_a51e337a_4309_11ed_94c4_e45e37e7582dlevel0_row35\" class=\"row_heading level0 row35\" >35</th>\n",
       "                        <td id=\"T_a51e337a_4309_11ed_94c4_e45e37e7582drow35_col0\" class=\"data row35 col0\" >PCA Components</td>\n",
       "                        <td id=\"T_a51e337a_4309_11ed_94c4_e45e37e7582drow35_col1\" class=\"data row35 col1\" >None</td>\n",
       "            </tr>\n",
       "            <tr>\n",
       "                        <th id=\"T_a51e337a_4309_11ed_94c4_e45e37e7582dlevel0_row36\" class=\"row_heading level0 row36\" >36</th>\n",
       "                        <td id=\"T_a51e337a_4309_11ed_94c4_e45e37e7582drow36_col0\" class=\"data row36 col0\" >Ignore Low Variance</td>\n",
       "                        <td id=\"T_a51e337a_4309_11ed_94c4_e45e37e7582drow36_col1\" class=\"data row36 col1\" >False</td>\n",
       "            </tr>\n",
       "            <tr>\n",
       "                        <th id=\"T_a51e337a_4309_11ed_94c4_e45e37e7582dlevel0_row37\" class=\"row_heading level0 row37\" >37</th>\n",
       "                        <td id=\"T_a51e337a_4309_11ed_94c4_e45e37e7582drow37_col0\" class=\"data row37 col0\" >Combine Rare Levels</td>\n",
       "                        <td id=\"T_a51e337a_4309_11ed_94c4_e45e37e7582drow37_col1\" class=\"data row37 col1\" >False</td>\n",
       "            </tr>\n",
       "            <tr>\n",
       "                        <th id=\"T_a51e337a_4309_11ed_94c4_e45e37e7582dlevel0_row38\" class=\"row_heading level0 row38\" >38</th>\n",
       "                        <td id=\"T_a51e337a_4309_11ed_94c4_e45e37e7582drow38_col0\" class=\"data row38 col0\" >Rare Level Threshold</td>\n",
       "                        <td id=\"T_a51e337a_4309_11ed_94c4_e45e37e7582drow38_col1\" class=\"data row38 col1\" >None</td>\n",
       "            </tr>\n",
       "            <tr>\n",
       "                        <th id=\"T_a51e337a_4309_11ed_94c4_e45e37e7582dlevel0_row39\" class=\"row_heading level0 row39\" >39</th>\n",
       "                        <td id=\"T_a51e337a_4309_11ed_94c4_e45e37e7582drow39_col0\" class=\"data row39 col0\" >Numeric Binning</td>\n",
       "                        <td id=\"T_a51e337a_4309_11ed_94c4_e45e37e7582drow39_col1\" class=\"data row39 col1\" >False</td>\n",
       "            </tr>\n",
       "            <tr>\n",
       "                        <th id=\"T_a51e337a_4309_11ed_94c4_e45e37e7582dlevel0_row40\" class=\"row_heading level0 row40\" >40</th>\n",
       "                        <td id=\"T_a51e337a_4309_11ed_94c4_e45e37e7582drow40_col0\" class=\"data row40 col0\" >Remove Outliers</td>\n",
       "                        <td id=\"T_a51e337a_4309_11ed_94c4_e45e37e7582drow40_col1\" class=\"data row40 col1\" >False</td>\n",
       "            </tr>\n",
       "            <tr>\n",
       "                        <th id=\"T_a51e337a_4309_11ed_94c4_e45e37e7582dlevel0_row41\" class=\"row_heading level0 row41\" >41</th>\n",
       "                        <td id=\"T_a51e337a_4309_11ed_94c4_e45e37e7582drow41_col0\" class=\"data row41 col0\" >Outliers Threshold</td>\n",
       "                        <td id=\"T_a51e337a_4309_11ed_94c4_e45e37e7582drow41_col1\" class=\"data row41 col1\" >None</td>\n",
       "            </tr>\n",
       "            <tr>\n",
       "                        <th id=\"T_a51e337a_4309_11ed_94c4_e45e37e7582dlevel0_row42\" class=\"row_heading level0 row42\" >42</th>\n",
       "                        <td id=\"T_a51e337a_4309_11ed_94c4_e45e37e7582drow42_col0\" class=\"data row42 col0\" >Remove Multicollinearity</td>\n",
       "                        <td id=\"T_a51e337a_4309_11ed_94c4_e45e37e7582drow42_col1\" class=\"data row42 col1\" >False</td>\n",
       "            </tr>\n",
       "            <tr>\n",
       "                        <th id=\"T_a51e337a_4309_11ed_94c4_e45e37e7582dlevel0_row43\" class=\"row_heading level0 row43\" >43</th>\n",
       "                        <td id=\"T_a51e337a_4309_11ed_94c4_e45e37e7582drow43_col0\" class=\"data row43 col0\" >Multicollinearity Threshold</td>\n",
       "                        <td id=\"T_a51e337a_4309_11ed_94c4_e45e37e7582drow43_col1\" class=\"data row43 col1\" >None</td>\n",
       "            </tr>\n",
       "            <tr>\n",
       "                        <th id=\"T_a51e337a_4309_11ed_94c4_e45e37e7582dlevel0_row44\" class=\"row_heading level0 row44\" >44</th>\n",
       "                        <td id=\"T_a51e337a_4309_11ed_94c4_e45e37e7582drow44_col0\" class=\"data row44 col0\" >Remove Perfect Collinearity</td>\n",
       "                        <td id=\"T_a51e337a_4309_11ed_94c4_e45e37e7582drow44_col1\" class=\"data row44 col1\" >True</td>\n",
       "            </tr>\n",
       "            <tr>\n",
       "                        <th id=\"T_a51e337a_4309_11ed_94c4_e45e37e7582dlevel0_row45\" class=\"row_heading level0 row45\" >45</th>\n",
       "                        <td id=\"T_a51e337a_4309_11ed_94c4_e45e37e7582drow45_col0\" class=\"data row45 col0\" >Clustering</td>\n",
       "                        <td id=\"T_a51e337a_4309_11ed_94c4_e45e37e7582drow45_col1\" class=\"data row45 col1\" >False</td>\n",
       "            </tr>\n",
       "            <tr>\n",
       "                        <th id=\"T_a51e337a_4309_11ed_94c4_e45e37e7582dlevel0_row46\" class=\"row_heading level0 row46\" >46</th>\n",
       "                        <td id=\"T_a51e337a_4309_11ed_94c4_e45e37e7582drow46_col0\" class=\"data row46 col0\" >Clustering Iteration</td>\n",
       "                        <td id=\"T_a51e337a_4309_11ed_94c4_e45e37e7582drow46_col1\" class=\"data row46 col1\" >None</td>\n",
       "            </tr>\n",
       "            <tr>\n",
       "                        <th id=\"T_a51e337a_4309_11ed_94c4_e45e37e7582dlevel0_row47\" class=\"row_heading level0 row47\" >47</th>\n",
       "                        <td id=\"T_a51e337a_4309_11ed_94c4_e45e37e7582drow47_col0\" class=\"data row47 col0\" >Polynomial Features</td>\n",
       "                        <td id=\"T_a51e337a_4309_11ed_94c4_e45e37e7582drow47_col1\" class=\"data row47 col1\" >False</td>\n",
       "            </tr>\n",
       "            <tr>\n",
       "                        <th id=\"T_a51e337a_4309_11ed_94c4_e45e37e7582dlevel0_row48\" class=\"row_heading level0 row48\" >48</th>\n",
       "                        <td id=\"T_a51e337a_4309_11ed_94c4_e45e37e7582drow48_col0\" class=\"data row48 col0\" >Polynomial Degree</td>\n",
       "                        <td id=\"T_a51e337a_4309_11ed_94c4_e45e37e7582drow48_col1\" class=\"data row48 col1\" >None</td>\n",
       "            </tr>\n",
       "            <tr>\n",
       "                        <th id=\"T_a51e337a_4309_11ed_94c4_e45e37e7582dlevel0_row49\" class=\"row_heading level0 row49\" >49</th>\n",
       "                        <td id=\"T_a51e337a_4309_11ed_94c4_e45e37e7582drow49_col0\" class=\"data row49 col0\" >Trignometry Features</td>\n",
       "                        <td id=\"T_a51e337a_4309_11ed_94c4_e45e37e7582drow49_col1\" class=\"data row49 col1\" >False</td>\n",
       "            </tr>\n",
       "            <tr>\n",
       "                        <th id=\"T_a51e337a_4309_11ed_94c4_e45e37e7582dlevel0_row50\" class=\"row_heading level0 row50\" >50</th>\n",
       "                        <td id=\"T_a51e337a_4309_11ed_94c4_e45e37e7582drow50_col0\" class=\"data row50 col0\" >Polynomial Threshold</td>\n",
       "                        <td id=\"T_a51e337a_4309_11ed_94c4_e45e37e7582drow50_col1\" class=\"data row50 col1\" >None</td>\n",
       "            </tr>\n",
       "            <tr>\n",
       "                        <th id=\"T_a51e337a_4309_11ed_94c4_e45e37e7582dlevel0_row51\" class=\"row_heading level0 row51\" >51</th>\n",
       "                        <td id=\"T_a51e337a_4309_11ed_94c4_e45e37e7582drow51_col0\" class=\"data row51 col0\" >Group Features</td>\n",
       "                        <td id=\"T_a51e337a_4309_11ed_94c4_e45e37e7582drow51_col1\" class=\"data row51 col1\" >False</td>\n",
       "            </tr>\n",
       "            <tr>\n",
       "                        <th id=\"T_a51e337a_4309_11ed_94c4_e45e37e7582dlevel0_row52\" class=\"row_heading level0 row52\" >52</th>\n",
       "                        <td id=\"T_a51e337a_4309_11ed_94c4_e45e37e7582drow52_col0\" class=\"data row52 col0\" >Feature Selection</td>\n",
       "                        <td id=\"T_a51e337a_4309_11ed_94c4_e45e37e7582drow52_col1\" class=\"data row52 col1\" >True</td>\n",
       "            </tr>\n",
       "            <tr>\n",
       "                        <th id=\"T_a51e337a_4309_11ed_94c4_e45e37e7582dlevel0_row53\" class=\"row_heading level0 row53\" >53</th>\n",
       "                        <td id=\"T_a51e337a_4309_11ed_94c4_e45e37e7582drow53_col0\" class=\"data row53 col0\" >Feature Selection Method</td>\n",
       "                        <td id=\"T_a51e337a_4309_11ed_94c4_e45e37e7582drow53_col1\" class=\"data row53 col1\" >classic</td>\n",
       "            </tr>\n",
       "            <tr>\n",
       "                        <th id=\"T_a51e337a_4309_11ed_94c4_e45e37e7582dlevel0_row54\" class=\"row_heading level0 row54\" >54</th>\n",
       "                        <td id=\"T_a51e337a_4309_11ed_94c4_e45e37e7582drow54_col0\" class=\"data row54 col0\" >Features Selection Threshold</td>\n",
       "                        <td id=\"T_a51e337a_4309_11ed_94c4_e45e37e7582drow54_col1\" class=\"data row54 col1\" >0.800000</td>\n",
       "            </tr>\n",
       "            <tr>\n",
       "                        <th id=\"T_a51e337a_4309_11ed_94c4_e45e37e7582dlevel0_row55\" class=\"row_heading level0 row55\" >55</th>\n",
       "                        <td id=\"T_a51e337a_4309_11ed_94c4_e45e37e7582drow55_col0\" class=\"data row55 col0\" >Feature Interaction</td>\n",
       "                        <td id=\"T_a51e337a_4309_11ed_94c4_e45e37e7582drow55_col1\" class=\"data row55 col1\" >False</td>\n",
       "            </tr>\n",
       "            <tr>\n",
       "                        <th id=\"T_a51e337a_4309_11ed_94c4_e45e37e7582dlevel0_row56\" class=\"row_heading level0 row56\" >56</th>\n",
       "                        <td id=\"T_a51e337a_4309_11ed_94c4_e45e37e7582drow56_col0\" class=\"data row56 col0\" >Feature Ratio</td>\n",
       "                        <td id=\"T_a51e337a_4309_11ed_94c4_e45e37e7582drow56_col1\" class=\"data row56 col1\" >False</td>\n",
       "            </tr>\n",
       "            <tr>\n",
       "                        <th id=\"T_a51e337a_4309_11ed_94c4_e45e37e7582dlevel0_row57\" class=\"row_heading level0 row57\" >57</th>\n",
       "                        <td id=\"T_a51e337a_4309_11ed_94c4_e45e37e7582drow57_col0\" class=\"data row57 col0\" >Interaction Threshold</td>\n",
       "                        <td id=\"T_a51e337a_4309_11ed_94c4_e45e37e7582drow57_col1\" class=\"data row57 col1\" >None</td>\n",
       "            </tr>\n",
       "            <tr>\n",
       "                        <th id=\"T_a51e337a_4309_11ed_94c4_e45e37e7582dlevel0_row58\" class=\"row_heading level0 row58\" >58</th>\n",
       "                        <td id=\"T_a51e337a_4309_11ed_94c4_e45e37e7582drow58_col0\" class=\"data row58 col0\" >Fix Imbalance</td>\n",
       "                        <td id=\"T_a51e337a_4309_11ed_94c4_e45e37e7582drow58_col1\" class=\"data row58 col1\" >True</td>\n",
       "            </tr>\n",
       "            <tr>\n",
       "                        <th id=\"T_a51e337a_4309_11ed_94c4_e45e37e7582dlevel0_row59\" class=\"row_heading level0 row59\" >59</th>\n",
       "                        <td id=\"T_a51e337a_4309_11ed_94c4_e45e37e7582drow59_col0\" class=\"data row59 col0\" >Fix Imbalance Method</td>\n",
       "                        <td id=\"T_a51e337a_4309_11ed_94c4_e45e37e7582drow59_col1\" class=\"data row59 col1\" >SMOTE</td>\n",
       "            </tr>\n",
       "    </tbody></table>"
      ],
      "text/plain": [
       "<pandas.io.formats.style.Styler at 0x14095e9a940>"
      ]
     },
     "metadata": {},
     "output_type": "display_data"
    }
   ],
   "source": [
    "from pycaret.classification import *\n",
    "clasf = setup(m_model, target = 'prec_lb',train_size=0.9, feature_selection= True,fix_imbalance=True,\n",
    "           pca =False, pca_components = 15,normalize=True,remove_multicollinearity=False,\n",
    "           polynomial_features=False,\n",
    "           remove_outliers=False)"
   ]
  },
  {
   "cell_type": "code",
   "execution_count": 17,
   "metadata": {},
   "outputs": [
    {
     "name": "stdout",
     "output_type": "stream",
     "text": [
      "0.23.2\n"
     ]
    }
   ],
   "source": [
    "import sklearn\n",
    "print(sklearn.__version__)"
   ]
  },
  {
   "cell_type": "code",
   "execution_count": 79,
   "metadata": {},
   "outputs": [
    {
     "data": {
      "text/html": [
       "<style  type=\"text/css\" >\n",
       "    #T_209021e6_430a_11ed_87e2_e45e37e7582d th {\n",
       "          text-align: left;\n",
       "    }#T_209021e6_430a_11ed_87e2_e45e37e7582drow0_col0,#T_209021e6_430a_11ed_87e2_e45e37e7582drow0_col3,#T_209021e6_430a_11ed_87e2_e45e37e7582drow1_col0,#T_209021e6_430a_11ed_87e2_e45e37e7582drow1_col1,#T_209021e6_430a_11ed_87e2_e45e37e7582drow1_col2,#T_209021e6_430a_11ed_87e2_e45e37e7582drow1_col3,#T_209021e6_430a_11ed_87e2_e45e37e7582drow1_col4,#T_209021e6_430a_11ed_87e2_e45e37e7582drow1_col5,#T_209021e6_430a_11ed_87e2_e45e37e7582drow1_col6,#T_209021e6_430a_11ed_87e2_e45e37e7582drow1_col7,#T_209021e6_430a_11ed_87e2_e45e37e7582drow2_col0,#T_209021e6_430a_11ed_87e2_e45e37e7582drow2_col1,#T_209021e6_430a_11ed_87e2_e45e37e7582drow2_col2,#T_209021e6_430a_11ed_87e2_e45e37e7582drow2_col3,#T_209021e6_430a_11ed_87e2_e45e37e7582drow2_col4,#T_209021e6_430a_11ed_87e2_e45e37e7582drow2_col5,#T_209021e6_430a_11ed_87e2_e45e37e7582drow2_col6,#T_209021e6_430a_11ed_87e2_e45e37e7582drow2_col7,#T_209021e6_430a_11ed_87e2_e45e37e7582drow3_col0,#T_209021e6_430a_11ed_87e2_e45e37e7582drow3_col1,#T_209021e6_430a_11ed_87e2_e45e37e7582drow3_col2,#T_209021e6_430a_11ed_87e2_e45e37e7582drow3_col3,#T_209021e6_430a_11ed_87e2_e45e37e7582drow3_col4,#T_209021e6_430a_11ed_87e2_e45e37e7582drow3_col5,#T_209021e6_430a_11ed_87e2_e45e37e7582drow3_col6,#T_209021e6_430a_11ed_87e2_e45e37e7582drow3_col7,#T_209021e6_430a_11ed_87e2_e45e37e7582drow4_col0,#T_209021e6_430a_11ed_87e2_e45e37e7582drow4_col1,#T_209021e6_430a_11ed_87e2_e45e37e7582drow4_col2,#T_209021e6_430a_11ed_87e2_e45e37e7582drow4_col3,#T_209021e6_430a_11ed_87e2_e45e37e7582drow4_col4,#T_209021e6_430a_11ed_87e2_e45e37e7582drow4_col5,#T_209021e6_430a_11ed_87e2_e45e37e7582drow4_col6,#T_209021e6_430a_11ed_87e2_e45e37e7582drow4_col7,#T_209021e6_430a_11ed_87e2_e45e37e7582drow5_col0,#T_209021e6_430a_11ed_87e2_e45e37e7582drow5_col1,#T_209021e6_430a_11ed_87e2_e45e37e7582drow5_col2,#T_209021e6_430a_11ed_87e2_e45e37e7582drow5_col3,#T_209021e6_430a_11ed_87e2_e45e37e7582drow5_col4,#T_209021e6_430a_11ed_87e2_e45e37e7582drow5_col5,#T_209021e6_430a_11ed_87e2_e45e37e7582drow5_col6,#T_209021e6_430a_11ed_87e2_e45e37e7582drow5_col7,#T_209021e6_430a_11ed_87e2_e45e37e7582drow6_col0,#T_209021e6_430a_11ed_87e2_e45e37e7582drow6_col1,#T_209021e6_430a_11ed_87e2_e45e37e7582drow6_col2,#T_209021e6_430a_11ed_87e2_e45e37e7582drow6_col3,#T_209021e6_430a_11ed_87e2_e45e37e7582drow6_col4,#T_209021e6_430a_11ed_87e2_e45e37e7582drow6_col5,#T_209021e6_430a_11ed_87e2_e45e37e7582drow6_col6,#T_209021e6_430a_11ed_87e2_e45e37e7582drow6_col7,#T_209021e6_430a_11ed_87e2_e45e37e7582drow7_col0,#T_209021e6_430a_11ed_87e2_e45e37e7582drow7_col1,#T_209021e6_430a_11ed_87e2_e45e37e7582drow7_col2,#T_209021e6_430a_11ed_87e2_e45e37e7582drow7_col3,#T_209021e6_430a_11ed_87e2_e45e37e7582drow7_col4,#T_209021e6_430a_11ed_87e2_e45e37e7582drow7_col5,#T_209021e6_430a_11ed_87e2_e45e37e7582drow7_col6,#T_209021e6_430a_11ed_87e2_e45e37e7582drow7_col7,#T_209021e6_430a_11ed_87e2_e45e37e7582drow8_col0,#T_209021e6_430a_11ed_87e2_e45e37e7582drow8_col1,#T_209021e6_430a_11ed_87e2_e45e37e7582drow8_col2,#T_209021e6_430a_11ed_87e2_e45e37e7582drow8_col3,#T_209021e6_430a_11ed_87e2_e45e37e7582drow8_col4,#T_209021e6_430a_11ed_87e2_e45e37e7582drow8_col5,#T_209021e6_430a_11ed_87e2_e45e37e7582drow8_col6,#T_209021e6_430a_11ed_87e2_e45e37e7582drow8_col7,#T_209021e6_430a_11ed_87e2_e45e37e7582drow9_col0,#T_209021e6_430a_11ed_87e2_e45e37e7582drow9_col1,#T_209021e6_430a_11ed_87e2_e45e37e7582drow9_col2,#T_209021e6_430a_11ed_87e2_e45e37e7582drow9_col3,#T_209021e6_430a_11ed_87e2_e45e37e7582drow9_col4,#T_209021e6_430a_11ed_87e2_e45e37e7582drow9_col5,#T_209021e6_430a_11ed_87e2_e45e37e7582drow9_col6,#T_209021e6_430a_11ed_87e2_e45e37e7582drow9_col7,#T_209021e6_430a_11ed_87e2_e45e37e7582drow10_col0,#T_209021e6_430a_11ed_87e2_e45e37e7582drow10_col1,#T_209021e6_430a_11ed_87e2_e45e37e7582drow10_col2,#T_209021e6_430a_11ed_87e2_e45e37e7582drow10_col3,#T_209021e6_430a_11ed_87e2_e45e37e7582drow10_col4,#T_209021e6_430a_11ed_87e2_e45e37e7582drow10_col5,#T_209021e6_430a_11ed_87e2_e45e37e7582drow10_col6,#T_209021e6_430a_11ed_87e2_e45e37e7582drow10_col7,#T_209021e6_430a_11ed_87e2_e45e37e7582drow11_col0,#T_209021e6_430a_11ed_87e2_e45e37e7582drow11_col1,#T_209021e6_430a_11ed_87e2_e45e37e7582drow11_col2,#T_209021e6_430a_11ed_87e2_e45e37e7582drow11_col4,#T_209021e6_430a_11ed_87e2_e45e37e7582drow11_col5,#T_209021e6_430a_11ed_87e2_e45e37e7582drow11_col6,#T_209021e6_430a_11ed_87e2_e45e37e7582drow11_col7,#T_209021e6_430a_11ed_87e2_e45e37e7582drow12_col0,#T_209021e6_430a_11ed_87e2_e45e37e7582drow12_col1,#T_209021e6_430a_11ed_87e2_e45e37e7582drow12_col2,#T_209021e6_430a_11ed_87e2_e45e37e7582drow12_col4,#T_209021e6_430a_11ed_87e2_e45e37e7582drow12_col5,#T_209021e6_430a_11ed_87e2_e45e37e7582drow12_col6,#T_209021e6_430a_11ed_87e2_e45e37e7582drow12_col7,#T_209021e6_430a_11ed_87e2_e45e37e7582drow13_col0,#T_209021e6_430a_11ed_87e2_e45e37e7582drow13_col1,#T_209021e6_430a_11ed_87e2_e45e37e7582drow13_col2,#T_209021e6_430a_11ed_87e2_e45e37e7582drow13_col3,#T_209021e6_430a_11ed_87e2_e45e37e7582drow13_col4,#T_209021e6_430a_11ed_87e2_e45e37e7582drow13_col5,#T_209021e6_430a_11ed_87e2_e45e37e7582drow13_col6,#T_209021e6_430a_11ed_87e2_e45e37e7582drow13_col7{\n",
       "            text-align:  left;\n",
       "            text-align:  left;\n",
       "        }#T_209021e6_430a_11ed_87e2_e45e37e7582drow0_col1,#T_209021e6_430a_11ed_87e2_e45e37e7582drow0_col2,#T_209021e6_430a_11ed_87e2_e45e37e7582drow0_col4,#T_209021e6_430a_11ed_87e2_e45e37e7582drow0_col5,#T_209021e6_430a_11ed_87e2_e45e37e7582drow0_col6,#T_209021e6_430a_11ed_87e2_e45e37e7582drow0_col7,#T_209021e6_430a_11ed_87e2_e45e37e7582drow11_col3,#T_209021e6_430a_11ed_87e2_e45e37e7582drow12_col3{\n",
       "            text-align:  left;\n",
       "            text-align:  left;\n",
       "            background-color:  yellow;\n",
       "        }#T_209021e6_430a_11ed_87e2_e45e37e7582drow0_col8,#T_209021e6_430a_11ed_87e2_e45e37e7582drow1_col8,#T_209021e6_430a_11ed_87e2_e45e37e7582drow3_col8,#T_209021e6_430a_11ed_87e2_e45e37e7582drow4_col8,#T_209021e6_430a_11ed_87e2_e45e37e7582drow5_col8,#T_209021e6_430a_11ed_87e2_e45e37e7582drow6_col8,#T_209021e6_430a_11ed_87e2_e45e37e7582drow7_col8,#T_209021e6_430a_11ed_87e2_e45e37e7582drow8_col8,#T_209021e6_430a_11ed_87e2_e45e37e7582drow9_col8,#T_209021e6_430a_11ed_87e2_e45e37e7582drow10_col8,#T_209021e6_430a_11ed_87e2_e45e37e7582drow11_col8,#T_209021e6_430a_11ed_87e2_e45e37e7582drow12_col8,#T_209021e6_430a_11ed_87e2_e45e37e7582drow13_col8{\n",
       "            text-align:  left;\n",
       "            text-align:  left;\n",
       "            background-color:  lightgrey;\n",
       "        }#T_209021e6_430a_11ed_87e2_e45e37e7582drow2_col8{\n",
       "            text-align:  left;\n",
       "            text-align:  left;\n",
       "            background-color:  yellow;\n",
       "            background-color:  lightgrey;\n",
       "        }</style><table id=\"T_209021e6_430a_11ed_87e2_e45e37e7582d\" ><thead>    <tr>        <th class=\"blank level0\" ></th>        <th class=\"col_heading level0 col0\" >Model</th>        <th class=\"col_heading level0 col1\" >Accuracy</th>        <th class=\"col_heading level0 col2\" >AUC</th>        <th class=\"col_heading level0 col3\" >Recall</th>        <th class=\"col_heading level0 col4\" >Prec.</th>        <th class=\"col_heading level0 col5\" >F1</th>        <th class=\"col_heading level0 col6\" >Kappa</th>        <th class=\"col_heading level0 col7\" >MCC</th>        <th class=\"col_heading level0 col8\" >TT (Sec)</th>    </tr></thead><tbody>\n",
       "                <tr>\n",
       "                        <th id=\"T_209021e6_430a_11ed_87e2_e45e37e7582dlevel0_row0\" class=\"row_heading level0 row0\" >et</th>\n",
       "                        <td id=\"T_209021e6_430a_11ed_87e2_e45e37e7582drow0_col0\" class=\"data row0 col0\" >Extra Trees Classifier</td>\n",
       "                        <td id=\"T_209021e6_430a_11ed_87e2_e45e37e7582drow0_col1\" class=\"data row0 col1\" >0.9284</td>\n",
       "                        <td id=\"T_209021e6_430a_11ed_87e2_e45e37e7582drow0_col2\" class=\"data row0 col2\" >0.9386</td>\n",
       "                        <td id=\"T_209021e6_430a_11ed_87e2_e45e37e7582drow0_col3\" class=\"data row0 col3\" >0.6043</td>\n",
       "                        <td id=\"T_209021e6_430a_11ed_87e2_e45e37e7582drow0_col4\" class=\"data row0 col4\" >0.5581</td>\n",
       "                        <td id=\"T_209021e6_430a_11ed_87e2_e45e37e7582drow0_col5\" class=\"data row0 col5\" >0.5789</td>\n",
       "                        <td id=\"T_209021e6_430a_11ed_87e2_e45e37e7582drow0_col6\" class=\"data row0 col6\" >0.5399</td>\n",
       "                        <td id=\"T_209021e6_430a_11ed_87e2_e45e37e7582drow0_col7\" class=\"data row0 col7\" >0.5412</td>\n",
       "                        <td id=\"T_209021e6_430a_11ed_87e2_e45e37e7582drow0_col8\" class=\"data row0 col8\" >1.0620</td>\n",
       "            </tr>\n",
       "            <tr>\n",
       "                        <th id=\"T_209021e6_430a_11ed_87e2_e45e37e7582dlevel0_row1\" class=\"row_heading level0 row1\" >rf</th>\n",
       "                        <td id=\"T_209021e6_430a_11ed_87e2_e45e37e7582drow1_col0\" class=\"data row1 col0\" >Random Forest Classifier</td>\n",
       "                        <td id=\"T_209021e6_430a_11ed_87e2_e45e37e7582drow1_col1\" class=\"data row1 col1\" >0.9183</td>\n",
       "                        <td id=\"T_209021e6_430a_11ed_87e2_e45e37e7582drow1_col2\" class=\"data row1 col2\" >0.9345</td>\n",
       "                        <td id=\"T_209021e6_430a_11ed_87e2_e45e37e7582drow1_col3\" class=\"data row1 col3\" >0.6208</td>\n",
       "                        <td id=\"T_209021e6_430a_11ed_87e2_e45e37e7582drow1_col4\" class=\"data row1 col4\" >0.5028</td>\n",
       "                        <td id=\"T_209021e6_430a_11ed_87e2_e45e37e7582drow1_col5\" class=\"data row1 col5\" >0.5549</td>\n",
       "                        <td id=\"T_209021e6_430a_11ed_87e2_e45e37e7582drow1_col6\" class=\"data row1 col6\" >0.5106</td>\n",
       "                        <td id=\"T_209021e6_430a_11ed_87e2_e45e37e7582drow1_col7\" class=\"data row1 col7\" >0.5144</td>\n",
       "                        <td id=\"T_209021e6_430a_11ed_87e2_e45e37e7582drow1_col8\" class=\"data row1 col8\" >2.9550</td>\n",
       "            </tr>\n",
       "            <tr>\n",
       "                        <th id=\"T_209021e6_430a_11ed_87e2_e45e37e7582dlevel0_row2\" class=\"row_heading level0 row2\" >dummy</th>\n",
       "                        <td id=\"T_209021e6_430a_11ed_87e2_e45e37e7582drow2_col0\" class=\"data row2 col0\" >Dummy Classifier</td>\n",
       "                        <td id=\"T_209021e6_430a_11ed_87e2_e45e37e7582drow2_col1\" class=\"data row2 col1\" >0.9179</td>\n",
       "                        <td id=\"T_209021e6_430a_11ed_87e2_e45e37e7582drow2_col2\" class=\"data row2 col2\" >0.5000</td>\n",
       "                        <td id=\"T_209021e6_430a_11ed_87e2_e45e37e7582drow2_col3\" class=\"data row2 col3\" >0.0000</td>\n",
       "                        <td id=\"T_209021e6_430a_11ed_87e2_e45e37e7582drow2_col4\" class=\"data row2 col4\" >0.0000</td>\n",
       "                        <td id=\"T_209021e6_430a_11ed_87e2_e45e37e7582drow2_col5\" class=\"data row2 col5\" >0.0000</td>\n",
       "                        <td id=\"T_209021e6_430a_11ed_87e2_e45e37e7582drow2_col6\" class=\"data row2 col6\" >0.0000</td>\n",
       "                        <td id=\"T_209021e6_430a_11ed_87e2_e45e37e7582drow2_col7\" class=\"data row2 col7\" >0.0000</td>\n",
       "                        <td id=\"T_209021e6_430a_11ed_87e2_e45e37e7582drow2_col8\" class=\"data row2 col8\" >0.0590</td>\n",
       "            </tr>\n",
       "            <tr>\n",
       "                        <th id=\"T_209021e6_430a_11ed_87e2_e45e37e7582dlevel0_row3\" class=\"row_heading level0 row3\" >lightgbm</th>\n",
       "                        <td id=\"T_209021e6_430a_11ed_87e2_e45e37e7582drow3_col0\" class=\"data row3 col0\" >Light Gradient Boosting Machine</td>\n",
       "                        <td id=\"T_209021e6_430a_11ed_87e2_e45e37e7582drow3_col1\" class=\"data row3 col1\" >0.9157</td>\n",
       "                        <td id=\"T_209021e6_430a_11ed_87e2_e45e37e7582drow3_col2\" class=\"data row3 col2\" >0.9277</td>\n",
       "                        <td id=\"T_209021e6_430a_11ed_87e2_e45e37e7582drow3_col3\" class=\"data row3 col3\" >0.5912</td>\n",
       "                        <td id=\"T_209021e6_430a_11ed_87e2_e45e37e7582drow3_col4\" class=\"data row3 col4\" >0.4875</td>\n",
       "                        <td id=\"T_209021e6_430a_11ed_87e2_e45e37e7582drow3_col5\" class=\"data row3 col5\" >0.5335</td>\n",
       "                        <td id=\"T_209021e6_430a_11ed_87e2_e45e37e7582drow3_col6\" class=\"data row3 col6\" >0.4877</td>\n",
       "                        <td id=\"T_209021e6_430a_11ed_87e2_e45e37e7582drow3_col7\" class=\"data row3 col7\" >0.4909</td>\n",
       "                        <td id=\"T_209021e6_430a_11ed_87e2_e45e37e7582drow3_col8\" class=\"data row3 col8\" >0.6930</td>\n",
       "            </tr>\n",
       "            <tr>\n",
       "                        <th id=\"T_209021e6_430a_11ed_87e2_e45e37e7582dlevel0_row4\" class=\"row_heading level0 row4\" >dt</th>\n",
       "                        <td id=\"T_209021e6_430a_11ed_87e2_e45e37e7582drow4_col0\" class=\"data row4 col0\" >Decision Tree Classifier</td>\n",
       "                        <td id=\"T_209021e6_430a_11ed_87e2_e45e37e7582drow4_col1\" class=\"data row4 col1\" >0.8809</td>\n",
       "                        <td id=\"T_209021e6_430a_11ed_87e2_e45e37e7582drow4_col2\" class=\"data row4 col2\" >0.7124</td>\n",
       "                        <td id=\"T_209021e6_430a_11ed_87e2_e45e37e7582drow4_col3\" class=\"data row4 col3\" >0.5108</td>\n",
       "                        <td id=\"T_209021e6_430a_11ed_87e2_e45e37e7582drow4_col4\" class=\"data row4 col4\" >0.3469</td>\n",
       "                        <td id=\"T_209021e6_430a_11ed_87e2_e45e37e7582drow4_col5\" class=\"data row4 col5\" >0.4125</td>\n",
       "                        <td id=\"T_209021e6_430a_11ed_87e2_e45e37e7582drow4_col6\" class=\"data row4 col6\" >0.3490</td>\n",
       "                        <td id=\"T_209021e6_430a_11ed_87e2_e45e37e7582drow4_col7\" class=\"data row4 col7\" >0.3575</td>\n",
       "                        <td id=\"T_209021e6_430a_11ed_87e2_e45e37e7582drow4_col8\" class=\"data row4 col8\" >0.6580</td>\n",
       "            </tr>\n",
       "            <tr>\n",
       "                        <th id=\"T_209021e6_430a_11ed_87e2_e45e37e7582dlevel0_row5\" class=\"row_heading level0 row5\" >gbc</th>\n",
       "                        <td id=\"T_209021e6_430a_11ed_87e2_e45e37e7582drow5_col0\" class=\"data row5 col0\" >Gradient Boosting Classifier</td>\n",
       "                        <td id=\"T_209021e6_430a_11ed_87e2_e45e37e7582drow5_col1\" class=\"data row5 col1\" >0.8755</td>\n",
       "                        <td id=\"T_209021e6_430a_11ed_87e2_e45e37e7582drow5_col2\" class=\"data row5 col2\" >0.9088</td>\n",
       "                        <td id=\"T_209021e6_430a_11ed_87e2_e45e37e7582drow5_col3\" class=\"data row5 col3\" >0.7059</td>\n",
       "                        <td id=\"T_209021e6_430a_11ed_87e2_e45e37e7582drow5_col4\" class=\"data row5 col4\" >0.3671</td>\n",
       "                        <td id=\"T_209021e6_430a_11ed_87e2_e45e37e7582drow5_col5\" class=\"data row5 col5\" >0.4824</td>\n",
       "                        <td id=\"T_209021e6_430a_11ed_87e2_e45e37e7582drow5_col6\" class=\"data row5 col6\" >0.4197</td>\n",
       "                        <td id=\"T_209021e6_430a_11ed_87e2_e45e37e7582drow5_col7\" class=\"data row5 col7\" >0.4492</td>\n",
       "                        <td id=\"T_209021e6_430a_11ed_87e2_e45e37e7582drow5_col8\" class=\"data row5 col8\" >8.8260</td>\n",
       "            </tr>\n",
       "            <tr>\n",
       "                        <th id=\"T_209021e6_430a_11ed_87e2_e45e37e7582dlevel0_row6\" class=\"row_heading level0 row6\" >knn</th>\n",
       "                        <td id=\"T_209021e6_430a_11ed_87e2_e45e37e7582drow6_col0\" class=\"data row6 col0\" >K Neighbors Classifier</td>\n",
       "                        <td id=\"T_209021e6_430a_11ed_87e2_e45e37e7582drow6_col1\" class=\"data row6 col1\" >0.8556</td>\n",
       "                        <td id=\"T_209021e6_430a_11ed_87e2_e45e37e7582drow6_col2\" class=\"data row6 col2\" >0.8853</td>\n",
       "                        <td id=\"T_209021e6_430a_11ed_87e2_e45e37e7582drow6_col3\" class=\"data row6 col3\" >0.8276</td>\n",
       "                        <td id=\"T_209021e6_430a_11ed_87e2_e45e37e7582drow6_col4\" class=\"data row6 col4\" >0.3445</td>\n",
       "                        <td id=\"T_209021e6_430a_11ed_87e2_e45e37e7582drow6_col5\" class=\"data row6 col5\" >0.4860</td>\n",
       "                        <td id=\"T_209021e6_430a_11ed_87e2_e45e37e7582drow6_col6\" class=\"data row6 col6\" >0.4184</td>\n",
       "                        <td id=\"T_209021e6_430a_11ed_87e2_e45e37e7582drow6_col7\" class=\"data row6 col7\" >0.4732</td>\n",
       "                        <td id=\"T_209021e6_430a_11ed_87e2_e45e37e7582drow6_col8\" class=\"data row6 col8\" >1.0110</td>\n",
       "            </tr>\n",
       "            <tr>\n",
       "                        <th id=\"T_209021e6_430a_11ed_87e2_e45e37e7582dlevel0_row7\" class=\"row_heading level0 row7\" >ada</th>\n",
       "                        <td id=\"T_209021e6_430a_11ed_87e2_e45e37e7582drow7_col0\" class=\"data row7 col0\" >Ada Boost Classifier</td>\n",
       "                        <td id=\"T_209021e6_430a_11ed_87e2_e45e37e7582drow7_col1\" class=\"data row7 col1\" >0.8552</td>\n",
       "                        <td id=\"T_209021e6_430a_11ed_87e2_e45e37e7582drow7_col2\" class=\"data row7 col2\" >0.8884</td>\n",
       "                        <td id=\"T_209021e6_430a_11ed_87e2_e45e37e7582drow7_col3\" class=\"data row7 col3\" >0.7011</td>\n",
       "                        <td id=\"T_209021e6_430a_11ed_87e2_e45e37e7582drow7_col4\" class=\"data row7 col4\" >0.3247</td>\n",
       "                        <td id=\"T_209021e6_430a_11ed_87e2_e45e37e7582drow7_col5\" class=\"data row7 col5\" >0.4436</td>\n",
       "                        <td id=\"T_209021e6_430a_11ed_87e2_e45e37e7582drow7_col6\" class=\"data row7 col6\" >0.3731</td>\n",
       "                        <td id=\"T_209021e6_430a_11ed_87e2_e45e37e7582drow7_col7\" class=\"data row7 col7\" >0.4099</td>\n",
       "                        <td id=\"T_209021e6_430a_11ed_87e2_e45e37e7582drow7_col8\" class=\"data row7 col8\" >1.8520</td>\n",
       "            </tr>\n",
       "            <tr>\n",
       "                        <th id=\"T_209021e6_430a_11ed_87e2_e45e37e7582dlevel0_row8\" class=\"row_heading level0 row8\" >qda</th>\n",
       "                        <td id=\"T_209021e6_430a_11ed_87e2_e45e37e7582drow8_col0\" class=\"data row8 col0\" >Quadratic Discriminant Analysis</td>\n",
       "                        <td id=\"T_209021e6_430a_11ed_87e2_e45e37e7582drow8_col1\" class=\"data row8 col1\" >0.8424</td>\n",
       "                        <td id=\"T_209021e6_430a_11ed_87e2_e45e37e7582drow8_col2\" class=\"data row8 col2\" >0.8726</td>\n",
       "                        <td id=\"T_209021e6_430a_11ed_87e2_e45e37e7582drow8_col3\" class=\"data row8 col3\" >0.7470</td>\n",
       "                        <td id=\"T_209021e6_430a_11ed_87e2_e45e37e7582drow8_col4\" class=\"data row8 col4\" >0.3107</td>\n",
       "                        <td id=\"T_209021e6_430a_11ed_87e2_e45e37e7582drow8_col5\" class=\"data row8 col5\" >0.4387</td>\n",
       "                        <td id=\"T_209021e6_430a_11ed_87e2_e45e37e7582drow8_col6\" class=\"data row8 col6\" >0.3649</td>\n",
       "                        <td id=\"T_209021e6_430a_11ed_87e2_e45e37e7582drow8_col7\" class=\"data row8 col7\" >0.4126</td>\n",
       "                        <td id=\"T_209021e6_430a_11ed_87e2_e45e37e7582drow8_col8\" class=\"data row8 col8\" >0.1640</td>\n",
       "            </tr>\n",
       "            <tr>\n",
       "                        <th id=\"T_209021e6_430a_11ed_87e2_e45e37e7582dlevel0_row9\" class=\"row_heading level0 row9\" >nb</th>\n",
       "                        <td id=\"T_209021e6_430a_11ed_87e2_e45e37e7582drow9_col0\" class=\"data row9 col0\" >Naive Bayes</td>\n",
       "                        <td id=\"T_209021e6_430a_11ed_87e2_e45e37e7582drow9_col1\" class=\"data row9 col1\" >0.8208</td>\n",
       "                        <td id=\"T_209021e6_430a_11ed_87e2_e45e37e7582drow9_col2\" class=\"data row9 col2\" >0.8560</td>\n",
       "                        <td id=\"T_209021e6_430a_11ed_87e2_e45e37e7582drow9_col3\" class=\"data row9 col3\" >0.7552</td>\n",
       "                        <td id=\"T_209021e6_430a_11ed_87e2_e45e37e7582drow9_col4\" class=\"data row9 col4\" >0.2814</td>\n",
       "                        <td id=\"T_209021e6_430a_11ed_87e2_e45e37e7582drow9_col5\" class=\"data row9 col5\" >0.4098</td>\n",
       "                        <td id=\"T_209021e6_430a_11ed_87e2_e45e37e7582drow9_col6\" class=\"data row9 col6\" >0.3295</td>\n",
       "                        <td id=\"T_209021e6_430a_11ed_87e2_e45e37e7582drow9_col7\" class=\"data row9 col7\" >0.3855</td>\n",
       "                        <td id=\"T_209021e6_430a_11ed_87e2_e45e37e7582drow9_col8\" class=\"data row9 col8\" >0.0750</td>\n",
       "            </tr>\n",
       "            <tr>\n",
       "                        <th id=\"T_209021e6_430a_11ed_87e2_e45e37e7582dlevel0_row10\" class=\"row_heading level0 row10\" >lr</th>\n",
       "                        <td id=\"T_209021e6_430a_11ed_87e2_e45e37e7582drow10_col0\" class=\"data row10 col0\" >Logistic Regression</td>\n",
       "                        <td id=\"T_209021e6_430a_11ed_87e2_e45e37e7582drow10_col1\" class=\"data row10 col1\" >0.8181</td>\n",
       "                        <td id=\"T_209021e6_430a_11ed_87e2_e45e37e7582drow10_col2\" class=\"data row10 col2\" >0.8981</td>\n",
       "                        <td id=\"T_209021e6_430a_11ed_87e2_e45e37e7582drow10_col3\" class=\"data row10 col3\" >0.8208</td>\n",
       "                        <td id=\"T_209021e6_430a_11ed_87e2_e45e37e7582drow10_col4\" class=\"data row10 col4\" >0.2879</td>\n",
       "                        <td id=\"T_209021e6_430a_11ed_87e2_e45e37e7582drow10_col5\" class=\"data row10 col5\" >0.4262</td>\n",
       "                        <td id=\"T_209021e6_430a_11ed_87e2_e45e37e7582drow10_col6\" class=\"data row10 col6\" >0.3467</td>\n",
       "                        <td id=\"T_209021e6_430a_11ed_87e2_e45e37e7582drow10_col7\" class=\"data row10 col7\" >0.4142</td>\n",
       "                        <td id=\"T_209021e6_430a_11ed_87e2_e45e37e7582drow10_col8\" class=\"data row10 col8\" >1.1280</td>\n",
       "            </tr>\n",
       "            <tr>\n",
       "                        <th id=\"T_209021e6_430a_11ed_87e2_e45e37e7582dlevel0_row11\" class=\"row_heading level0 row11\" >ridge</th>\n",
       "                        <td id=\"T_209021e6_430a_11ed_87e2_e45e37e7582drow11_col0\" class=\"data row11 col0\" >Ridge Classifier</td>\n",
       "                        <td id=\"T_209021e6_430a_11ed_87e2_e45e37e7582drow11_col1\" class=\"data row11 col1\" >0.8104</td>\n",
       "                        <td id=\"T_209021e6_430a_11ed_87e2_e45e37e7582drow11_col2\" class=\"data row11 col2\" >0.0000</td>\n",
       "                        <td id=\"T_209021e6_430a_11ed_87e2_e45e37e7582drow11_col3\" class=\"data row11 col3\" >0.8323</td>\n",
       "                        <td id=\"T_209021e6_430a_11ed_87e2_e45e37e7582drow11_col4\" class=\"data row11 col4\" >0.2809</td>\n",
       "                        <td id=\"T_209021e6_430a_11ed_87e2_e45e37e7582drow11_col5\" class=\"data row11 col5\" >0.4199</td>\n",
       "                        <td id=\"T_209021e6_430a_11ed_87e2_e45e37e7582drow11_col6\" class=\"data row11 col6\" >0.3385</td>\n",
       "                        <td id=\"T_209021e6_430a_11ed_87e2_e45e37e7582drow11_col7\" class=\"data row11 col7\" >0.4102</td>\n",
       "                        <td id=\"T_209021e6_430a_11ed_87e2_e45e37e7582drow11_col8\" class=\"data row11 col8\" >0.0700</td>\n",
       "            </tr>\n",
       "            <tr>\n",
       "                        <th id=\"T_209021e6_430a_11ed_87e2_e45e37e7582dlevel0_row12\" class=\"row_heading level0 row12\" >lda</th>\n",
       "                        <td id=\"T_209021e6_430a_11ed_87e2_e45e37e7582drow12_col0\" class=\"data row12 col0\" >Linear Discriminant Analysis</td>\n",
       "                        <td id=\"T_209021e6_430a_11ed_87e2_e45e37e7582drow12_col1\" class=\"data row12 col1\" >0.8101</td>\n",
       "                        <td id=\"T_209021e6_430a_11ed_87e2_e45e37e7582drow12_col2\" class=\"data row12 col2\" >0.8971</td>\n",
       "                        <td id=\"T_209021e6_430a_11ed_87e2_e45e37e7582drow12_col3\" class=\"data row12 col3\" >0.8323</td>\n",
       "                        <td id=\"T_209021e6_430a_11ed_87e2_e45e37e7582drow12_col4\" class=\"data row12 col4\" >0.2806</td>\n",
       "                        <td id=\"T_209021e6_430a_11ed_87e2_e45e37e7582drow12_col5\" class=\"data row12 col5\" >0.4195</td>\n",
       "                        <td id=\"T_209021e6_430a_11ed_87e2_e45e37e7582drow12_col6\" class=\"data row12 col6\" >0.3382</td>\n",
       "                        <td id=\"T_209021e6_430a_11ed_87e2_e45e37e7582drow12_col7\" class=\"data row12 col7\" >0.4099</td>\n",
       "                        <td id=\"T_209021e6_430a_11ed_87e2_e45e37e7582drow12_col8\" class=\"data row12 col8\" >0.2710</td>\n",
       "            </tr>\n",
       "            <tr>\n",
       "                        <th id=\"T_209021e6_430a_11ed_87e2_e45e37e7582dlevel0_row13\" class=\"row_heading level0 row13\" >svm</th>\n",
       "                        <td id=\"T_209021e6_430a_11ed_87e2_e45e37e7582drow13_col0\" class=\"data row13 col0\" >SVM - Linear Kernel</td>\n",
       "                        <td id=\"T_209021e6_430a_11ed_87e2_e45e37e7582drow13_col1\" class=\"data row13 col1\" >0.7961</td>\n",
       "                        <td id=\"T_209021e6_430a_11ed_87e2_e45e37e7582drow13_col2\" class=\"data row13 col2\" >0.0000</td>\n",
       "                        <td id=\"T_209021e6_430a_11ed_87e2_e45e37e7582drow13_col3\" class=\"data row13 col3\" >0.8127</td>\n",
       "                        <td id=\"T_209021e6_430a_11ed_87e2_e45e37e7582drow13_col4\" class=\"data row13 col4\" >0.2625</td>\n",
       "                        <td id=\"T_209021e6_430a_11ed_87e2_e45e37e7582drow13_col5\" class=\"data row13 col5\" >0.3962</td>\n",
       "                        <td id=\"T_209021e6_430a_11ed_87e2_e45e37e7582drow13_col6\" class=\"data row13 col6\" >0.3106</td>\n",
       "                        <td id=\"T_209021e6_430a_11ed_87e2_e45e37e7582drow13_col7\" class=\"data row13 col7\" >0.3832</td>\n",
       "                        <td id=\"T_209021e6_430a_11ed_87e2_e45e37e7582drow13_col8\" class=\"data row13 col8\" >0.1950</td>\n",
       "            </tr>\n",
       "    </tbody></table>"
      ],
      "text/plain": [
       "<pandas.io.formats.style.Styler at 0x14095baec18>"
      ]
     },
     "metadata": {},
     "output_type": "display_data"
    }
   ],
   "source": [
    "best = compare_models()"
   ]
  },
  {
   "cell_type": "code",
   "execution_count": 80,
   "metadata": {},
   "outputs": [
    {
     "data": {
      "text/plain": [
       "ExtraTreesClassifier(bootstrap=False, ccp_alpha=0.0, class_weight=None,\n",
       "                     criterion='gini', max_depth=None, max_features='auto',\n",
       "                     max_leaf_nodes=None, max_samples=None,\n",
       "                     min_impurity_decrease=0.0, min_impurity_split=None,\n",
       "                     min_samples_leaf=1, min_samples_split=2,\n",
       "                     min_weight_fraction_leaf=0.0, n_estimators=100, n_jobs=-1,\n",
       "                     oob_score=False, random_state=2770, verbose=0,\n",
       "                     warm_start=False)"
      ]
     },
     "execution_count": 80,
     "metadata": {},
     "output_type": "execute_result"
    }
   ],
   "source": [
    "best"
   ]
  },
  {
   "cell_type": "code",
   "execution_count": 81,
   "metadata": {},
   "outputs": [
    {
     "data": {
      "text/html": [
       "<style  type=\"text/css\" >\n",
       "#T_76600ea2_430a_11ed_a7bc_e45e37e7582drow10_col0,#T_76600ea2_430a_11ed_a7bc_e45e37e7582drow10_col1,#T_76600ea2_430a_11ed_a7bc_e45e37e7582drow10_col2,#T_76600ea2_430a_11ed_a7bc_e45e37e7582drow10_col3,#T_76600ea2_430a_11ed_a7bc_e45e37e7582drow10_col4,#T_76600ea2_430a_11ed_a7bc_e45e37e7582drow10_col5,#T_76600ea2_430a_11ed_a7bc_e45e37e7582drow10_col6{\n",
       "            background:  yellow;\n",
       "        }</style><table id=\"T_76600ea2_430a_11ed_a7bc_e45e37e7582d\" ><thead>    <tr>        <th class=\"blank level0\" ></th>        <th class=\"col_heading level0 col0\" >Accuracy</th>        <th class=\"col_heading level0 col1\" >AUC</th>        <th class=\"col_heading level0 col2\" >Recall</th>        <th class=\"col_heading level0 col3\" >Prec.</th>        <th class=\"col_heading level0 col4\" >F1</th>        <th class=\"col_heading level0 col5\" >Kappa</th>        <th class=\"col_heading level0 col6\" >MCC</th>    </tr>    <tr>        <th class=\"index_name level0\" >Fold</th>        <th class=\"blank\" ></th>        <th class=\"blank\" ></th>        <th class=\"blank\" ></th>        <th class=\"blank\" ></th>        <th class=\"blank\" ></th>        <th class=\"blank\" ></th>        <th class=\"blank\" ></th>    </tr></thead><tbody>\n",
       "                <tr>\n",
       "                        <th id=\"T_76600ea2_430a_11ed_a7bc_e45e37e7582dlevel0_row0\" class=\"row_heading level0 row0\" >0</th>\n",
       "                        <td id=\"T_76600ea2_430a_11ed_a7bc_e45e37e7582drow0_col0\" class=\"data row0 col0\" >0.9380</td>\n",
       "                        <td id=\"T_76600ea2_430a_11ed_a7bc_e45e37e7582drow0_col1\" class=\"data row0 col1\" >0.9505</td>\n",
       "                        <td id=\"T_76600ea2_430a_11ed_a7bc_e45e37e7582drow0_col2\" class=\"data row0 col2\" >0.7541</td>\n",
       "                        <td id=\"T_76600ea2_430a_11ed_a7bc_e45e37e7582drow0_col3\" class=\"data row0 col3\" >0.5974</td>\n",
       "                        <td id=\"T_76600ea2_430a_11ed_a7bc_e45e37e7582drow0_col4\" class=\"data row0 col4\" >0.6667</td>\n",
       "                        <td id=\"T_76600ea2_430a_11ed_a7bc_e45e37e7582drow0_col5\" class=\"data row0 col5\" >0.6330</td>\n",
       "                        <td id=\"T_76600ea2_430a_11ed_a7bc_e45e37e7582drow0_col6\" class=\"data row0 col6\" >0.6382</td>\n",
       "            </tr>\n",
       "            <tr>\n",
       "                        <th id=\"T_76600ea2_430a_11ed_a7bc_e45e37e7582dlevel0_row1\" class=\"row_heading level0 row1\" >1</th>\n",
       "                        <td id=\"T_76600ea2_430a_11ed_a7bc_e45e37e7582drow1_col0\" class=\"data row1 col0\" >0.9286</td>\n",
       "                        <td id=\"T_76600ea2_430a_11ed_a7bc_e45e37e7582drow1_col1\" class=\"data row1 col1\" >0.9376</td>\n",
       "                        <td id=\"T_76600ea2_430a_11ed_a7bc_e45e37e7582drow1_col2\" class=\"data row1 col2\" >0.5738</td>\n",
       "                        <td id=\"T_76600ea2_430a_11ed_a7bc_e45e37e7582drow1_col3\" class=\"data row1 col3\" >0.5645</td>\n",
       "                        <td id=\"T_76600ea2_430a_11ed_a7bc_e45e37e7582drow1_col4\" class=\"data row1 col4\" >0.5691</td>\n",
       "                        <td id=\"T_76600ea2_430a_11ed_a7bc_e45e37e7582drow1_col5\" class=\"data row1 col5\" >0.5302</td>\n",
       "                        <td id=\"T_76600ea2_430a_11ed_a7bc_e45e37e7582drow1_col6\" class=\"data row1 col6\" >0.5302</td>\n",
       "            </tr>\n",
       "            <tr>\n",
       "                        <th id=\"T_76600ea2_430a_11ed_a7bc_e45e37e7582dlevel0_row2\" class=\"row_heading level0 row2\" >2</th>\n",
       "                        <td id=\"T_76600ea2_430a_11ed_a7bc_e45e37e7582drow2_col0\" class=\"data row2 col0\" >0.9299</td>\n",
       "                        <td id=\"T_76600ea2_430a_11ed_a7bc_e45e37e7582drow2_col1\" class=\"data row2 col1\" >0.9422</td>\n",
       "                        <td id=\"T_76600ea2_430a_11ed_a7bc_e45e37e7582drow2_col2\" class=\"data row2 col2\" >0.5738</td>\n",
       "                        <td id=\"T_76600ea2_430a_11ed_a7bc_e45e37e7582drow2_col3\" class=\"data row2 col3\" >0.5738</td>\n",
       "                        <td id=\"T_76600ea2_430a_11ed_a7bc_e45e37e7582drow2_col4\" class=\"data row2 col4\" >0.5738</td>\n",
       "                        <td id=\"T_76600ea2_430a_11ed_a7bc_e45e37e7582drow2_col5\" class=\"data row2 col5\" >0.5356</td>\n",
       "                        <td id=\"T_76600ea2_430a_11ed_a7bc_e45e37e7582drow2_col6\" class=\"data row2 col6\" >0.5356</td>\n",
       "            </tr>\n",
       "            <tr>\n",
       "                        <th id=\"T_76600ea2_430a_11ed_a7bc_e45e37e7582dlevel0_row3\" class=\"row_heading level0 row3\" >3</th>\n",
       "                        <td id=\"T_76600ea2_430a_11ed_a7bc_e45e37e7582drow3_col0\" class=\"data row3 col0\" >0.9299</td>\n",
       "                        <td id=\"T_76600ea2_430a_11ed_a7bc_e45e37e7582drow3_col1\" class=\"data row3 col1\" >0.9389</td>\n",
       "                        <td id=\"T_76600ea2_430a_11ed_a7bc_e45e37e7582drow3_col2\" class=\"data row3 col2\" >0.5738</td>\n",
       "                        <td id=\"T_76600ea2_430a_11ed_a7bc_e45e37e7582drow3_col3\" class=\"data row3 col3\" >0.5738</td>\n",
       "                        <td id=\"T_76600ea2_430a_11ed_a7bc_e45e37e7582drow3_col4\" class=\"data row3 col4\" >0.5738</td>\n",
       "                        <td id=\"T_76600ea2_430a_11ed_a7bc_e45e37e7582drow3_col5\" class=\"data row3 col5\" >0.5356</td>\n",
       "                        <td id=\"T_76600ea2_430a_11ed_a7bc_e45e37e7582drow3_col6\" class=\"data row3 col6\" >0.5356</td>\n",
       "            </tr>\n",
       "            <tr>\n",
       "                        <th id=\"T_76600ea2_430a_11ed_a7bc_e45e37e7582dlevel0_row4\" class=\"row_heading level0 row4\" >4</th>\n",
       "                        <td id=\"T_76600ea2_430a_11ed_a7bc_e45e37e7582drow4_col0\" class=\"data row4 col0\" >0.9191</td>\n",
       "                        <td id=\"T_76600ea2_430a_11ed_a7bc_e45e37e7582drow4_col1\" class=\"data row4 col1\" >0.9111</td>\n",
       "                        <td id=\"T_76600ea2_430a_11ed_a7bc_e45e37e7582drow4_col2\" class=\"data row4 col2\" >0.4754</td>\n",
       "                        <td id=\"T_76600ea2_430a_11ed_a7bc_e45e37e7582drow4_col3\" class=\"data row4 col3\" >0.5088</td>\n",
       "                        <td id=\"T_76600ea2_430a_11ed_a7bc_e45e37e7582drow4_col4\" class=\"data row4 col4\" >0.4915</td>\n",
       "                        <td id=\"T_76600ea2_430a_11ed_a7bc_e45e37e7582drow4_col5\" class=\"data row4 col5\" >0.4477</td>\n",
       "                        <td id=\"T_76600ea2_430a_11ed_a7bc_e45e37e7582drow4_col6\" class=\"data row4 col6\" >0.4480</td>\n",
       "            </tr>\n",
       "            <tr>\n",
       "                        <th id=\"T_76600ea2_430a_11ed_a7bc_e45e37e7582dlevel0_row5\" class=\"row_heading level0 row5\" >5</th>\n",
       "                        <td id=\"T_76600ea2_430a_11ed_a7bc_e45e37e7582drow5_col0\" class=\"data row5 col0\" >0.9259</td>\n",
       "                        <td id=\"T_76600ea2_430a_11ed_a7bc_e45e37e7582drow5_col1\" class=\"data row5 col1\" >0.9348</td>\n",
       "                        <td id=\"T_76600ea2_430a_11ed_a7bc_e45e37e7582drow5_col2\" class=\"data row5 col2\" >0.5738</td>\n",
       "                        <td id=\"T_76600ea2_430a_11ed_a7bc_e45e37e7582drow5_col3\" class=\"data row5 col3\" >0.5469</td>\n",
       "                        <td id=\"T_76600ea2_430a_11ed_a7bc_e45e37e7582drow5_col4\" class=\"data row5 col4\" >0.5600</td>\n",
       "                        <td id=\"T_76600ea2_430a_11ed_a7bc_e45e37e7582drow5_col5\" class=\"data row5 col5\" >0.5196</td>\n",
       "                        <td id=\"T_76600ea2_430a_11ed_a7bc_e45e37e7582drow5_col6\" class=\"data row5 col6\" >0.5197</td>\n",
       "            </tr>\n",
       "            <tr>\n",
       "                        <th id=\"T_76600ea2_430a_11ed_a7bc_e45e37e7582dlevel0_row6\" class=\"row_heading level0 row6\" >6</th>\n",
       "                        <td id=\"T_76600ea2_430a_11ed_a7bc_e45e37e7582drow6_col0\" class=\"data row6 col0\" >0.9271</td>\n",
       "                        <td id=\"T_76600ea2_430a_11ed_a7bc_e45e37e7582drow6_col1\" class=\"data row6 col1\" >0.9305</td>\n",
       "                        <td id=\"T_76600ea2_430a_11ed_a7bc_e45e37e7582drow6_col2\" class=\"data row6 col2\" >0.6333</td>\n",
       "                        <td id=\"T_76600ea2_430a_11ed_a7bc_e45e37e7582drow6_col3\" class=\"data row6 col3\" >0.5429</td>\n",
       "                        <td id=\"T_76600ea2_430a_11ed_a7bc_e45e37e7582drow6_col4\" class=\"data row6 col4\" >0.5846</td>\n",
       "                        <td id=\"T_76600ea2_430a_11ed_a7bc_e45e37e7582drow6_col5\" class=\"data row6 col5\" >0.5449</td>\n",
       "                        <td id=\"T_76600ea2_430a_11ed_a7bc_e45e37e7582drow6_col6\" class=\"data row6 col6\" >0.5469</td>\n",
       "            </tr>\n",
       "            <tr>\n",
       "                        <th id=\"T_76600ea2_430a_11ed_a7bc_e45e37e7582dlevel0_row7\" class=\"row_heading level0 row7\" >7</th>\n",
       "                        <td id=\"T_76600ea2_430a_11ed_a7bc_e45e37e7582drow7_col0\" class=\"data row7 col0\" >0.9339</td>\n",
       "                        <td id=\"T_76600ea2_430a_11ed_a7bc_e45e37e7582drow7_col1\" class=\"data row7 col1\" >0.9550</td>\n",
       "                        <td id=\"T_76600ea2_430a_11ed_a7bc_e45e37e7582drow7_col2\" class=\"data row7 col2\" >0.6721</td>\n",
       "                        <td id=\"T_76600ea2_430a_11ed_a7bc_e45e37e7582drow7_col3\" class=\"data row7 col3\" >0.5857</td>\n",
       "                        <td id=\"T_76600ea2_430a_11ed_a7bc_e45e37e7582drow7_col4\" class=\"data row7 col4\" >0.6260</td>\n",
       "                        <td id=\"T_76600ea2_430a_11ed_a7bc_e45e37e7582drow7_col5\" class=\"data row7 col5\" >0.5899</td>\n",
       "                        <td id=\"T_76600ea2_430a_11ed_a7bc_e45e37e7582drow7_col6\" class=\"data row7 col6\" >0.5916</td>\n",
       "            </tr>\n",
       "            <tr>\n",
       "                        <th id=\"T_76600ea2_430a_11ed_a7bc_e45e37e7582dlevel0_row8\" class=\"row_heading level0 row8\" >8</th>\n",
       "                        <td id=\"T_76600ea2_430a_11ed_a7bc_e45e37e7582drow8_col0\" class=\"data row8 col0\" >0.9271</td>\n",
       "                        <td id=\"T_76600ea2_430a_11ed_a7bc_e45e37e7582drow8_col1\" class=\"data row8 col1\" >0.9513</td>\n",
       "                        <td id=\"T_76600ea2_430a_11ed_a7bc_e45e37e7582drow8_col2\" class=\"data row8 col2\" >0.6721</td>\n",
       "                        <td id=\"T_76600ea2_430a_11ed_a7bc_e45e37e7582drow8_col3\" class=\"data row8 col3\" >0.5467</td>\n",
       "                        <td id=\"T_76600ea2_430a_11ed_a7bc_e45e37e7582drow8_col4\" class=\"data row8 col4\" >0.6029</td>\n",
       "                        <td id=\"T_76600ea2_430a_11ed_a7bc_e45e37e7582drow8_col5\" class=\"data row8 col5\" >0.5633</td>\n",
       "                        <td id=\"T_76600ea2_430a_11ed_a7bc_e45e37e7582drow8_col6\" class=\"data row8 col6\" >0.5669</td>\n",
       "            </tr>\n",
       "            <tr>\n",
       "                        <th id=\"T_76600ea2_430a_11ed_a7bc_e45e37e7582dlevel0_row9\" class=\"row_heading level0 row9\" >9</th>\n",
       "                        <td id=\"T_76600ea2_430a_11ed_a7bc_e45e37e7582drow9_col0\" class=\"data row9 col0\" >0.9244</td>\n",
       "                        <td id=\"T_76600ea2_430a_11ed_a7bc_e45e37e7582drow9_col1\" class=\"data row9 col1\" >0.9343</td>\n",
       "                        <td id=\"T_76600ea2_430a_11ed_a7bc_e45e37e7582drow9_col2\" class=\"data row9 col2\" >0.5410</td>\n",
       "                        <td id=\"T_76600ea2_430a_11ed_a7bc_e45e37e7582drow9_col3\" class=\"data row9 col3\" >0.5410</td>\n",
       "                        <td id=\"T_76600ea2_430a_11ed_a7bc_e45e37e7582drow9_col4\" class=\"data row9 col4\" >0.5410</td>\n",
       "                        <td id=\"T_76600ea2_430a_11ed_a7bc_e45e37e7582drow9_col5\" class=\"data row9 col5\" >0.4998</td>\n",
       "                        <td id=\"T_76600ea2_430a_11ed_a7bc_e45e37e7582drow9_col6\" class=\"data row9 col6\" >0.4998</td>\n",
       "            </tr>\n",
       "            <tr>\n",
       "                        <th id=\"T_76600ea2_430a_11ed_a7bc_e45e37e7582dlevel0_row10\" class=\"row_heading level0 row10\" >Mean</th>\n",
       "                        <td id=\"T_76600ea2_430a_11ed_a7bc_e45e37e7582drow10_col0\" class=\"data row10 col0\" >0.9284</td>\n",
       "                        <td id=\"T_76600ea2_430a_11ed_a7bc_e45e37e7582drow10_col1\" class=\"data row10 col1\" >0.9386</td>\n",
       "                        <td id=\"T_76600ea2_430a_11ed_a7bc_e45e37e7582drow10_col2\" class=\"data row10 col2\" >0.6043</td>\n",
       "                        <td id=\"T_76600ea2_430a_11ed_a7bc_e45e37e7582drow10_col3\" class=\"data row10 col3\" >0.5581</td>\n",
       "                        <td id=\"T_76600ea2_430a_11ed_a7bc_e45e37e7582drow10_col4\" class=\"data row10 col4\" >0.5789</td>\n",
       "                        <td id=\"T_76600ea2_430a_11ed_a7bc_e45e37e7582drow10_col5\" class=\"data row10 col5\" >0.5399</td>\n",
       "                        <td id=\"T_76600ea2_430a_11ed_a7bc_e45e37e7582drow10_col6\" class=\"data row10 col6\" >0.5412</td>\n",
       "            </tr>\n",
       "            <tr>\n",
       "                        <th id=\"T_76600ea2_430a_11ed_a7bc_e45e37e7582dlevel0_row11\" class=\"row_heading level0 row11\" >Std</th>\n",
       "                        <td id=\"T_76600ea2_430a_11ed_a7bc_e45e37e7582drow11_col0\" class=\"data row11 col0\" >0.0049</td>\n",
       "                        <td id=\"T_76600ea2_430a_11ed_a7bc_e45e37e7582drow11_col1\" class=\"data row11 col1\" >0.0120</td>\n",
       "                        <td id=\"T_76600ea2_430a_11ed_a7bc_e45e37e7582drow11_col2\" class=\"data row11 col2\" >0.0754</td>\n",
       "                        <td id=\"T_76600ea2_430a_11ed_a7bc_e45e37e7582drow11_col3\" class=\"data row11 col3\" >0.0246</td>\n",
       "                        <td id=\"T_76600ea2_430a_11ed_a7bc_e45e37e7582drow11_col4\" class=\"data row11 col4\" >0.0448</td>\n",
       "                        <td id=\"T_76600ea2_430a_11ed_a7bc_e45e37e7582drow11_col5\" class=\"data row11 col5\" >0.0473</td>\n",
       "                        <td id=\"T_76600ea2_430a_11ed_a7bc_e45e37e7582drow11_col6\" class=\"data row11 col6\" >0.0487</td>\n",
       "            </tr>\n",
       "    </tbody></table>"
      ],
      "text/plain": [
       "<pandas.io.formats.style.Styler at 0x14090daf9e8>"
      ]
     },
     "metadata": {},
     "output_type": "display_data"
    }
   ],
   "source": [
    "et = create_model('et')"
   ]
  },
  {
   "cell_type": "code",
   "execution_count": 82,
   "metadata": {},
   "outputs": [
    {
     "data": {
      "text/plain": [
       "ExtraTreesClassifier(bootstrap=False, ccp_alpha=0.0, class_weight=None,\n",
       "                     criterion='gini', max_depth=None, max_features='auto',\n",
       "                     max_leaf_nodes=None, max_samples=None,\n",
       "                     min_impurity_decrease=0.0, min_impurity_split=None,\n",
       "                     min_samples_leaf=1, min_samples_split=2,\n",
       "                     min_weight_fraction_leaf=0.0, n_estimators=100, n_jobs=-1,\n",
       "                     oob_score=False, random_state=2770, verbose=0,\n",
       "                     warm_start=False)"
      ]
     },
     "execution_count": 82,
     "metadata": {},
     "output_type": "execute_result"
    }
   ],
   "source": [
    "et"
   ]
  },
  {
   "cell_type": "code",
   "execution_count": 88,
   "metadata": {},
   "outputs": [
    {
     "data": {
      "text/html": [
       "<style  type=\"text/css\" >\n",
       "#T_6372341e_430c_11ed_bad3_e45e37e7582drow10_col0,#T_6372341e_430c_11ed_bad3_e45e37e7582drow10_col1,#T_6372341e_430c_11ed_bad3_e45e37e7582drow10_col2,#T_6372341e_430c_11ed_bad3_e45e37e7582drow10_col3,#T_6372341e_430c_11ed_bad3_e45e37e7582drow10_col4,#T_6372341e_430c_11ed_bad3_e45e37e7582drow10_col5,#T_6372341e_430c_11ed_bad3_e45e37e7582drow10_col6{\n",
       "            background:  yellow;\n",
       "        }</style><table id=\"T_6372341e_430c_11ed_bad3_e45e37e7582d\" ><thead>    <tr>        <th class=\"blank level0\" ></th>        <th class=\"col_heading level0 col0\" >Accuracy</th>        <th class=\"col_heading level0 col1\" >AUC</th>        <th class=\"col_heading level0 col2\" >Recall</th>        <th class=\"col_heading level0 col3\" >Prec.</th>        <th class=\"col_heading level0 col4\" >F1</th>        <th class=\"col_heading level0 col5\" >Kappa</th>        <th class=\"col_heading level0 col6\" >MCC</th>    </tr>    <tr>        <th class=\"index_name level0\" >Fold</th>        <th class=\"blank\" ></th>        <th class=\"blank\" ></th>        <th class=\"blank\" ></th>        <th class=\"blank\" ></th>        <th class=\"blank\" ></th>        <th class=\"blank\" ></th>        <th class=\"blank\" ></th>    </tr></thead><tbody>\n",
       "                <tr>\n",
       "                        <th id=\"T_6372341e_430c_11ed_bad3_e45e37e7582dlevel0_row0\" class=\"row_heading level0 row0\" >0</th>\n",
       "                        <td id=\"T_6372341e_430c_11ed_bad3_e45e37e7582drow0_col0\" class=\"data row0 col0\" >0.9394</td>\n",
       "                        <td id=\"T_6372341e_430c_11ed_bad3_e45e37e7582drow0_col1\" class=\"data row0 col1\" >0.9528</td>\n",
       "                        <td id=\"T_6372341e_430c_11ed_bad3_e45e37e7582drow0_col2\" class=\"data row0 col2\" >0.7213</td>\n",
       "                        <td id=\"T_6372341e_430c_11ed_bad3_e45e37e7582drow0_col3\" class=\"data row0 col3\" >0.6111</td>\n",
       "                        <td id=\"T_6372341e_430c_11ed_bad3_e45e37e7582drow0_col4\" class=\"data row0 col4\" >0.6617</td>\n",
       "                        <td id=\"T_6372341e_430c_11ed_bad3_e45e37e7582drow0_col5\" class=\"data row0 col5\" >0.6286</td>\n",
       "                        <td id=\"T_6372341e_430c_11ed_bad3_e45e37e7582drow0_col6\" class=\"data row0 col6\" >0.6312</td>\n",
       "            </tr>\n",
       "            <tr>\n",
       "                        <th id=\"T_6372341e_430c_11ed_bad3_e45e37e7582dlevel0_row1\" class=\"row_heading level0 row1\" >1</th>\n",
       "                        <td id=\"T_6372341e_430c_11ed_bad3_e45e37e7582drow1_col0\" class=\"data row1 col0\" >0.9272</td>\n",
       "                        <td id=\"T_6372341e_430c_11ed_bad3_e45e37e7582drow1_col1\" class=\"data row1 col1\" >0.9372</td>\n",
       "                        <td id=\"T_6372341e_430c_11ed_bad3_e45e37e7582drow1_col2\" class=\"data row1 col2\" >0.5738</td>\n",
       "                        <td id=\"T_6372341e_430c_11ed_bad3_e45e37e7582drow1_col3\" class=\"data row1 col3\" >0.5556</td>\n",
       "                        <td id=\"T_6372341e_430c_11ed_bad3_e45e37e7582drow1_col4\" class=\"data row1 col4\" >0.5645</td>\n",
       "                        <td id=\"T_6372341e_430c_11ed_bad3_e45e37e7582drow1_col5\" class=\"data row1 col5\" >0.5248</td>\n",
       "                        <td id=\"T_6372341e_430c_11ed_bad3_e45e37e7582drow1_col6\" class=\"data row1 col6\" >0.5249</td>\n",
       "            </tr>\n",
       "            <tr>\n",
       "                        <th id=\"T_6372341e_430c_11ed_bad3_e45e37e7582dlevel0_row2\" class=\"row_heading level0 row2\" >2</th>\n",
       "                        <td id=\"T_6372341e_430c_11ed_bad3_e45e37e7582drow2_col0\" class=\"data row2 col0\" >0.9313</td>\n",
       "                        <td id=\"T_6372341e_430c_11ed_bad3_e45e37e7582drow2_col1\" class=\"data row2 col1\" >0.9455</td>\n",
       "                        <td id=\"T_6372341e_430c_11ed_bad3_e45e37e7582drow2_col2\" class=\"data row2 col2\" >0.6230</td>\n",
       "                        <td id=\"T_6372341e_430c_11ed_bad3_e45e37e7582drow2_col3\" class=\"data row2 col3\" >0.5758</td>\n",
       "                        <td id=\"T_6372341e_430c_11ed_bad3_e45e37e7582drow2_col4\" class=\"data row2 col4\" >0.5984</td>\n",
       "                        <td id=\"T_6372341e_430c_11ed_bad3_e45e37e7582drow2_col5\" class=\"data row2 col5\" >0.5609</td>\n",
       "                        <td id=\"T_6372341e_430c_11ed_bad3_e45e37e7582drow2_col6\" class=\"data row2 col6\" >0.5614</td>\n",
       "            </tr>\n",
       "            <tr>\n",
       "                        <th id=\"T_6372341e_430c_11ed_bad3_e45e37e7582dlevel0_row3\" class=\"row_heading level0 row3\" >3</th>\n",
       "                        <td id=\"T_6372341e_430c_11ed_bad3_e45e37e7582drow3_col0\" class=\"data row3 col0\" >0.9313</td>\n",
       "                        <td id=\"T_6372341e_430c_11ed_bad3_e45e37e7582drow3_col1\" class=\"data row3 col1\" >0.9411</td>\n",
       "                        <td id=\"T_6372341e_430c_11ed_bad3_e45e37e7582drow3_col2\" class=\"data row3 col2\" >0.5902</td>\n",
       "                        <td id=\"T_6372341e_430c_11ed_bad3_e45e37e7582drow3_col3\" class=\"data row3 col3\" >0.5806</td>\n",
       "                        <td id=\"T_6372341e_430c_11ed_bad3_e45e37e7582drow3_col4\" class=\"data row3 col4\" >0.5854</td>\n",
       "                        <td id=\"T_6372341e_430c_11ed_bad3_e45e37e7582drow3_col5\" class=\"data row3 col5\" >0.5479</td>\n",
       "                        <td id=\"T_6372341e_430c_11ed_bad3_e45e37e7582drow3_col6\" class=\"data row3 col6\" >0.5479</td>\n",
       "            </tr>\n",
       "            <tr>\n",
       "                        <th id=\"T_6372341e_430c_11ed_bad3_e45e37e7582dlevel0_row4\" class=\"row_heading level0 row4\" >4</th>\n",
       "                        <td id=\"T_6372341e_430c_11ed_bad3_e45e37e7582drow4_col0\" class=\"data row4 col0\" >0.9218</td>\n",
       "                        <td id=\"T_6372341e_430c_11ed_bad3_e45e37e7582drow4_col1\" class=\"data row4 col1\" >0.9084</td>\n",
       "                        <td id=\"T_6372341e_430c_11ed_bad3_e45e37e7582drow4_col2\" class=\"data row4 col2\" >0.5082</td>\n",
       "                        <td id=\"T_6372341e_430c_11ed_bad3_e45e37e7582drow4_col3\" class=\"data row4 col3\" >0.5254</td>\n",
       "                        <td id=\"T_6372341e_430c_11ed_bad3_e45e37e7582drow4_col4\" class=\"data row4 col4\" >0.5167</td>\n",
       "                        <td id=\"T_6372341e_430c_11ed_bad3_e45e37e7582drow4_col5\" class=\"data row4 col5\" >0.4742</td>\n",
       "                        <td id=\"T_6372341e_430c_11ed_bad3_e45e37e7582drow4_col6\" class=\"data row4 col6\" >0.4742</td>\n",
       "            </tr>\n",
       "            <tr>\n",
       "                        <th id=\"T_6372341e_430c_11ed_bad3_e45e37e7582dlevel0_row5\" class=\"row_heading level0 row5\" >5</th>\n",
       "                        <td id=\"T_6372341e_430c_11ed_bad3_e45e37e7582drow5_col0\" class=\"data row5 col0\" >0.9299</td>\n",
       "                        <td id=\"T_6372341e_430c_11ed_bad3_e45e37e7582drow5_col1\" class=\"data row5 col1\" >0.9351</td>\n",
       "                        <td id=\"T_6372341e_430c_11ed_bad3_e45e37e7582drow5_col2\" class=\"data row5 col2\" >0.6066</td>\n",
       "                        <td id=\"T_6372341e_430c_11ed_bad3_e45e37e7582drow5_col3\" class=\"data row5 col3\" >0.5692</td>\n",
       "                        <td id=\"T_6372341e_430c_11ed_bad3_e45e37e7582drow5_col4\" class=\"data row5 col4\" >0.5873</td>\n",
       "                        <td id=\"T_6372341e_430c_11ed_bad3_e45e37e7582drow5_col5\" class=\"data row5 col5\" >0.5491</td>\n",
       "                        <td id=\"T_6372341e_430c_11ed_bad3_e45e37e7582drow5_col6\" class=\"data row5 col6\" >0.5494</td>\n",
       "            </tr>\n",
       "            <tr>\n",
       "                        <th id=\"T_6372341e_430c_11ed_bad3_e45e37e7582dlevel0_row6\" class=\"row_heading level0 row6\" >6</th>\n",
       "                        <td id=\"T_6372341e_430c_11ed_bad3_e45e37e7582drow6_col0\" class=\"data row6 col0\" >0.9258</td>\n",
       "                        <td id=\"T_6372341e_430c_11ed_bad3_e45e37e7582drow6_col1\" class=\"data row6 col1\" >0.9282</td>\n",
       "                        <td id=\"T_6372341e_430c_11ed_bad3_e45e37e7582drow6_col2\" class=\"data row6 col2\" >0.6167</td>\n",
       "                        <td id=\"T_6372341e_430c_11ed_bad3_e45e37e7582drow6_col3\" class=\"data row6 col3\" >0.5362</td>\n",
       "                        <td id=\"T_6372341e_430c_11ed_bad3_e45e37e7582drow6_col4\" class=\"data row6 col4\" >0.5736</td>\n",
       "                        <td id=\"T_6372341e_430c_11ed_bad3_e45e37e7582drow6_col5\" class=\"data row6 col5\" >0.5332</td>\n",
       "                        <td id=\"T_6372341e_430c_11ed_bad3_e45e37e7582drow6_col6\" class=\"data row6 col6\" >0.5348</td>\n",
       "            </tr>\n",
       "            <tr>\n",
       "                        <th id=\"T_6372341e_430c_11ed_bad3_e45e37e7582dlevel0_row7\" class=\"row_heading level0 row7\" >7</th>\n",
       "                        <td id=\"T_6372341e_430c_11ed_bad3_e45e37e7582drow7_col0\" class=\"data row7 col0\" >0.9406</td>\n",
       "                        <td id=\"T_6372341e_430c_11ed_bad3_e45e37e7582drow7_col1\" class=\"data row7 col1\" >0.9568</td>\n",
       "                        <td id=\"T_6372341e_430c_11ed_bad3_e45e37e7582drow7_col2\" class=\"data row7 col2\" >0.7049</td>\n",
       "                        <td id=\"T_6372341e_430c_11ed_bad3_e45e37e7582drow7_col3\" class=\"data row7 col3\" >0.6232</td>\n",
       "                        <td id=\"T_6372341e_430c_11ed_bad3_e45e37e7582drow7_col4\" class=\"data row7 col4\" >0.6615</td>\n",
       "                        <td id=\"T_6372341e_430c_11ed_bad3_e45e37e7582drow7_col5\" class=\"data row7 col5\" >0.6291</td>\n",
       "                        <td id=\"T_6372341e_430c_11ed_bad3_e45e37e7582drow7_col6\" class=\"data row7 col6\" >0.6306</td>\n",
       "            </tr>\n",
       "            <tr>\n",
       "                        <th id=\"T_6372341e_430c_11ed_bad3_e45e37e7582dlevel0_row8\" class=\"row_heading level0 row8\" >8</th>\n",
       "                        <td id=\"T_6372341e_430c_11ed_bad3_e45e37e7582drow8_col0\" class=\"data row8 col0\" >0.9285</td>\n",
       "                        <td id=\"T_6372341e_430c_11ed_bad3_e45e37e7582drow8_col1\" class=\"data row8 col1\" >0.9525</td>\n",
       "                        <td id=\"T_6372341e_430c_11ed_bad3_e45e37e7582drow8_col2\" class=\"data row8 col2\" >0.6885</td>\n",
       "                        <td id=\"T_6372341e_430c_11ed_bad3_e45e37e7582drow8_col3\" class=\"data row8 col3\" >0.5526</td>\n",
       "                        <td id=\"T_6372341e_430c_11ed_bad3_e45e37e7582drow8_col4\" class=\"data row8 col4\" >0.6131</td>\n",
       "                        <td id=\"T_6372341e_430c_11ed_bad3_e45e37e7582drow8_col5\" class=\"data row8 col5\" >0.5743</td>\n",
       "                        <td id=\"T_6372341e_430c_11ed_bad3_e45e37e7582drow8_col6\" class=\"data row8 col6\" >0.5785</td>\n",
       "            </tr>\n",
       "            <tr>\n",
       "                        <th id=\"T_6372341e_430c_11ed_bad3_e45e37e7582dlevel0_row9\" class=\"row_heading level0 row9\" >9</th>\n",
       "                        <td id=\"T_6372341e_430c_11ed_bad3_e45e37e7582drow9_col0\" class=\"data row9 col0\" >0.9231</td>\n",
       "                        <td id=\"T_6372341e_430c_11ed_bad3_e45e37e7582drow9_col1\" class=\"data row9 col1\" >0.9379</td>\n",
       "                        <td id=\"T_6372341e_430c_11ed_bad3_e45e37e7582drow9_col2\" class=\"data row9 col2\" >0.5738</td>\n",
       "                        <td id=\"T_6372341e_430c_11ed_bad3_e45e37e7582drow9_col3\" class=\"data row9 col3\" >0.5303</td>\n",
       "                        <td id=\"T_6372341e_430c_11ed_bad3_e45e37e7582drow9_col4\" class=\"data row9 col4\" >0.5512</td>\n",
       "                        <td id=\"T_6372341e_430c_11ed_bad3_e45e37e7582drow9_col5\" class=\"data row9 col5\" >0.5092</td>\n",
       "                        <td id=\"T_6372341e_430c_11ed_bad3_e45e37e7582drow9_col6\" class=\"data row9 col6\" >0.5097</td>\n",
       "            </tr>\n",
       "            <tr>\n",
       "                        <th id=\"T_6372341e_430c_11ed_bad3_e45e37e7582dlevel0_row10\" class=\"row_heading level0 row10\" >Mean</th>\n",
       "                        <td id=\"T_6372341e_430c_11ed_bad3_e45e37e7582drow10_col0\" class=\"data row10 col0\" >0.9299</td>\n",
       "                        <td id=\"T_6372341e_430c_11ed_bad3_e45e37e7582drow10_col1\" class=\"data row10 col1\" >0.9396</td>\n",
       "                        <td id=\"T_6372341e_430c_11ed_bad3_e45e37e7582drow10_col2\" class=\"data row10 col2\" >0.6207</td>\n",
       "                        <td id=\"T_6372341e_430c_11ed_bad3_e45e37e7582drow10_col3\" class=\"data row10 col3\" >0.5660</td>\n",
       "                        <td id=\"T_6372341e_430c_11ed_bad3_e45e37e7582drow10_col4\" class=\"data row10 col4\" >0.5913</td>\n",
       "                        <td id=\"T_6372341e_430c_11ed_bad3_e45e37e7582drow10_col5\" class=\"data row10 col5\" >0.5531</td>\n",
       "                        <td id=\"T_6372341e_430c_11ed_bad3_e45e37e7582drow10_col6\" class=\"data row10 col6\" >0.5543</td>\n",
       "            </tr>\n",
       "            <tr>\n",
       "                        <th id=\"T_6372341e_430c_11ed_bad3_e45e37e7582dlevel0_row11\" class=\"row_heading level0 row11\" >Std</th>\n",
       "                        <td id=\"T_6372341e_430c_11ed_bad3_e45e37e7582drow11_col0\" class=\"data row11 col0\" >0.0059</td>\n",
       "                        <td id=\"T_6372341e_430c_11ed_bad3_e45e37e7582drow11_col1\" class=\"data row11 col1\" >0.0134</td>\n",
       "                        <td id=\"T_6372341e_430c_11ed_bad3_e45e37e7582drow11_col2\" class=\"data row11 col2\" >0.0633</td>\n",
       "                        <td id=\"T_6372341e_430c_11ed_bad3_e45e37e7582drow11_col3\" class=\"data row11 col3\" >0.0312</td>\n",
       "                        <td id=\"T_6372341e_430c_11ed_bad3_e45e37e7582drow11_col4\" class=\"data row11 col4\" >0.0432</td>\n",
       "                        <td id=\"T_6372341e_430c_11ed_bad3_e45e37e7582drow11_col5\" class=\"data row11 col5\" >0.0462</td>\n",
       "                        <td id=\"T_6372341e_430c_11ed_bad3_e45e37e7582drow11_col6\" class=\"data row11 col6\" >0.0470</td>\n",
       "            </tr>\n",
       "    </tbody></table>"
      ],
      "text/plain": [
       "<pandas.io.formats.style.Styler at 0x14090d32e80>"
      ]
     },
     "metadata": {},
     "output_type": "display_data"
    }
   ],
   "source": [
    "tuned_et = tune_model(et, custom_grid = {'n_estimators' : np.arange(100,250,10)},optimize = 'F1')"
   ]
  },
  {
   "cell_type": "code",
   "execution_count": 89,
   "metadata": {},
   "outputs": [
    {
     "data": {
      "text/plain": [
       "ExtraTreesClassifier(bootstrap=False, ccp_alpha=0.0, class_weight=None,\n",
       "                     criterion='gini', max_depth=None, max_features='auto',\n",
       "                     max_leaf_nodes=None, max_samples=None,\n",
       "                     min_impurity_decrease=0.0, min_impurity_split=None,\n",
       "                     min_samples_leaf=1, min_samples_split=2,\n",
       "                     min_weight_fraction_leaf=0.0, n_estimators=170, n_jobs=-1,\n",
       "                     oob_score=False, random_state=2770, verbose=0,\n",
       "                     warm_start=False)"
      ]
     },
     "execution_count": 89,
     "metadata": {},
     "output_type": "execute_result"
    }
   ],
   "source": [
    "tuned_et"
   ]
  },
  {
   "cell_type": "code",
   "execution_count": 90,
   "metadata": {},
   "outputs": [
    {
     "data": {
      "image/png": "[encoded data removed]",
      "text/plain": [
       "<Figure size 576x396 with 1 Axes>"
      ]
     },
     "metadata": {},
     "output_type": "display_data"
    }
   ],
   "source": [
    "plot_model(tuned_et, plot = 'auc')"
   ]
  },
  {
   "cell_type": "code",
   "execution_count": 91,
   "metadata": {},
   "outputs": [
    {
     "data": {
      "image/png": "[encoded data removed]",
      "text/plain": [
       "<Figure size 576x396 with 1 Axes>"
      ]
     },
     "metadata": {},
     "output_type": "display_data"
    }
   ],
   "source": [
    "plot_model(tuned_et, plot = 'confusion_matrix')\n"
   ]
  },
  {
   "cell_type": "code",
   "execution_count": 93,
   "metadata": {},
   "outputs": [
    {
     "data": {
      "image/png": "[encoded data removed]",
      "text/plain": [
       "<Figure size 800x500 with 1 Axes>"
      ]
     },
     "metadata": {},
     "output_type": "display_data"
    }
   ],
   "source": [
    "plot_model(tuned_et, plot='feature')"
   ]
  },
  {
   "cell_type": "code",
   "execution_count": 94,
   "metadata": {},
   "outputs": [
    {
     "data": {
      "text/html": [
       "<div>\n",
       "<style scoped>\n",
       "    .dataframe tbody tr th:only-of-type {\n",
       "        vertical-align: middle;\n",
       "    }\n",
       "\n",
       "    .dataframe tbody tr th {\n",
       "        vertical-align: top;\n",
       "    }\n",
       "\n",
       "    .dataframe thead th {\n",
       "        text-align: right;\n",
       "    }\n",
       "</style>\n",
       "<table border=\"1\" class=\"dataframe\">\n",
       "  <thead>\n",
       "    <tr style=\"text-align: right;\">\n",
       "      <th></th>\n",
       "      <th>cfh2</th>\n",
       "      <th>wind_gust0</th>\n",
       "      <th>wind_gust2</th>\n",
       "      <th>cfm2</th>\n",
       "      <th>rh2</th>\n",
       "      <th>wind_gust3</th>\n",
       "      <th>cin3</th>\n",
       "      <th>prec0</th>\n",
       "      <th>cfl1</th>\n",
       "      <th>prec1</th>\n",
       "      <th>...</th>\n",
       "      <th>lwflx1</th>\n",
       "      <th>cape1</th>\n",
       "      <th>temp1</th>\n",
       "      <th>temp2</th>\n",
       "      <th>prec3</th>\n",
       "      <th>conv_prec3</th>\n",
       "      <th>lwflx2</th>\n",
       "      <th>shflx0</th>\n",
       "      <th>cfm1</th>\n",
       "      <th>swflx0</th>\n",
       "    </tr>\n",
       "    <tr>\n",
       "      <th>time</th>\n",
       "      <th></th>\n",
       "      <th></th>\n",
       "      <th></th>\n",
       "      <th></th>\n",
       "      <th></th>\n",
       "      <th></th>\n",
       "      <th></th>\n",
       "      <th></th>\n",
       "      <th></th>\n",
       "      <th></th>\n",
       "      <th></th>\n",
       "      <th></th>\n",
       "      <th></th>\n",
       "      <th></th>\n",
       "      <th></th>\n",
       "      <th></th>\n",
       "      <th></th>\n",
       "      <th></th>\n",
       "      <th></th>\n",
       "      <th></th>\n",
       "      <th></th>\n",
       "    </tr>\n",
       "  </thead>\n",
       "  <tbody>\n",
       "    <tr>\n",
       "      <th>2021-03-13 00:00:00</th>\n",
       "      <td>0.0</td>\n",
       "      <td>4.824757</td>\n",
       "      <td>4.124757</td>\n",
       "      <td>0.0</td>\n",
       "      <td>1.000000</td>\n",
       "      <td>5.524756</td>\n",
       "      <td>-1.374254</td>\n",
       "      <td>0.00</td>\n",
       "      <td>0.000000</td>\n",
       "      <td>0.01</td>\n",
       "      <td>...</td>\n",
       "      <td>272.472168</td>\n",
       "      <td>56.750000</td>\n",
       "      <td>284.781189</td>\n",
       "      <td>278.978180</td>\n",
       "      <td>0.030000</td>\n",
       "      <td>0.0</td>\n",
       "      <td>269.972168</td>\n",
       "      <td>-35.842480</td>\n",
       "      <td>0.0</td>\n",
       "      <td>0.000000</td>\n",
       "    </tr>\n",
       "    <tr>\n",
       "      <th>2021-03-13 01:00:00</th>\n",
       "      <td>0.0</td>\n",
       "      <td>6.153662</td>\n",
       "      <td>5.353662</td>\n",
       "      <td>0.0</td>\n",
       "      <td>0.999975</td>\n",
       "      <td>7.953662</td>\n",
       "      <td>-2.741293</td>\n",
       "      <td>0.01</td>\n",
       "      <td>0.473152</td>\n",
       "      <td>0.01</td>\n",
       "      <td>...</td>\n",
       "      <td>274.912048</td>\n",
       "      <td>67.610001</td>\n",
       "      <td>284.670441</td>\n",
       "      <td>279.735443</td>\n",
       "      <td>0.050000</td>\n",
       "      <td>0.0</td>\n",
       "      <td>279.312073</td>\n",
       "      <td>-69.593895</td>\n",
       "      <td>0.0</td>\n",
       "      <td>0.000000</td>\n",
       "    </tr>\n",
       "    <tr>\n",
       "      <th>2021-03-13 02:00:00</th>\n",
       "      <td>0.0</td>\n",
       "      <td>7.992311</td>\n",
       "      <td>7.092310</td>\n",
       "      <td>0.0</td>\n",
       "      <td>0.927085</td>\n",
       "      <td>8.792311</td>\n",
       "      <td>-2.830637</td>\n",
       "      <td>0.04</td>\n",
       "      <td>0.600000</td>\n",
       "      <td>0.10</td>\n",
       "      <td>...</td>\n",
       "      <td>280.230835</td>\n",
       "      <td>108.839996</td>\n",
       "      <td>284.537445</td>\n",
       "      <td>282.122437</td>\n",
       "      <td>0.250000</td>\n",
       "      <td>0.0</td>\n",
       "      <td>283.230835</td>\n",
       "      <td>-75.719093</td>\n",
       "      <td>0.0</td>\n",
       "      <td>0.000000</td>\n",
       "    </tr>\n",
       "    <tr>\n",
       "      <th>2021-03-13 03:00:00</th>\n",
       "      <td>0.0</td>\n",
       "      <td>8.446166</td>\n",
       "      <td>8.246166</td>\n",
       "      <td>0.0</td>\n",
       "      <td>0.906596</td>\n",
       "      <td>7.746166</td>\n",
       "      <td>-2.403894</td>\n",
       "      <td>0.07</td>\n",
       "      <td>0.022841</td>\n",
       "      <td>0.09</td>\n",
       "      <td>...</td>\n",
       "      <td>278.325806</td>\n",
       "      <td>76.570000</td>\n",
       "      <td>284.777496</td>\n",
       "      <td>282.836487</td>\n",
       "      <td>0.170001</td>\n",
       "      <td>0.0</td>\n",
       "      <td>286.025818</td>\n",
       "      <td>-71.603317</td>\n",
       "      <td>0.0</td>\n",
       "      <td>0.000000</td>\n",
       "    </tr>\n",
       "    <tr>\n",
       "      <th>2021-03-13 04:00:00</th>\n",
       "      <td>0.0</td>\n",
       "      <td>8.151620</td>\n",
       "      <td>7.651620</td>\n",
       "      <td>0.0</td>\n",
       "      <td>0.927966</td>\n",
       "      <td>8.551620</td>\n",
       "      <td>-1.887336</td>\n",
       "      <td>0.48</td>\n",
       "      <td>0.529793</td>\n",
       "      <td>0.83</td>\n",
       "      <td>...</td>\n",
       "      <td>348.569397</td>\n",
       "      <td>79.379997</td>\n",
       "      <td>284.663055</td>\n",
       "      <td>282.492065</td>\n",
       "      <td>0.540000</td>\n",
       "      <td>0.0</td>\n",
       "      <td>286.369415</td>\n",
       "      <td>-57.067333</td>\n",
       "      <td>0.0</td>\n",
       "      <td>0.000000</td>\n",
       "    </tr>\n",
       "    <tr>\n",
       "      <th>...</th>\n",
       "      <td>...</td>\n",
       "      <td>...</td>\n",
       "      <td>...</td>\n",
       "      <td>...</td>\n",
       "      <td>...</td>\n",
       "      <td>...</td>\n",
       "      <td>...</td>\n",
       "      <td>...</td>\n",
       "      <td>...</td>\n",
       "      <td>...</td>\n",
       "      <td>...</td>\n",
       "      <td>...</td>\n",
       "      <td>...</td>\n",
       "      <td>...</td>\n",
       "      <td>...</td>\n",
       "      <td>...</td>\n",
       "      <td>...</td>\n",
       "      <td>...</td>\n",
       "      <td>...</td>\n",
       "      <td>...</td>\n",
       "      <td>...</td>\n",
       "    </tr>\n",
       "    <tr>\n",
       "      <th>2022-02-19 05:00:00</th>\n",
       "      <td>0.0</td>\n",
       "      <td>2.066168</td>\n",
       "      <td>2.466168</td>\n",
       "      <td>0.0</td>\n",
       "      <td>0.991745</td>\n",
       "      <td>4.566168</td>\n",
       "      <td>0.000047</td>\n",
       "      <td>0.01</td>\n",
       "      <td>0.003845</td>\n",
       "      <td>0.00</td>\n",
       "      <td>...</td>\n",
       "      <td>258.053040</td>\n",
       "      <td>4.340000</td>\n",
       "      <td>281.364929</td>\n",
       "      <td>276.211945</td>\n",
       "      <td>0.000000</td>\n",
       "      <td>0.0</td>\n",
       "      <td>255.253052</td>\n",
       "      <td>-6.561914</td>\n",
       "      <td>0.0</td>\n",
       "      <td>0.000000</td>\n",
       "    </tr>\n",
       "    <tr>\n",
       "      <th>2022-02-19 06:00:00</th>\n",
       "      <td>0.0</td>\n",
       "      <td>2.231162</td>\n",
       "      <td>1.831162</td>\n",
       "      <td>0.0</td>\n",
       "      <td>0.994213</td>\n",
       "      <td>3.931162</td>\n",
       "      <td>-0.000316</td>\n",
       "      <td>0.00</td>\n",
       "      <td>0.000000</td>\n",
       "      <td>0.00</td>\n",
       "      <td>...</td>\n",
       "      <td>263.067719</td>\n",
       "      <td>1.550000</td>\n",
       "      <td>281.068695</td>\n",
       "      <td>275.907684</td>\n",
       "      <td>0.000000</td>\n",
       "      <td>0.0</td>\n",
       "      <td>251.467728</td>\n",
       "      <td>-7.020850</td>\n",
       "      <td>0.0</td>\n",
       "      <td>0.000000</td>\n",
       "    </tr>\n",
       "    <tr>\n",
       "      <th>2022-02-19 07:00:00</th>\n",
       "      <td>0.0</td>\n",
       "      <td>2.730811</td>\n",
       "      <td>2.230811</td>\n",
       "      <td>0.0</td>\n",
       "      <td>0.993181</td>\n",
       "      <td>3.130811</td>\n",
       "      <td>-0.000211</td>\n",
       "      <td>0.00</td>\n",
       "      <td>0.000000</td>\n",
       "      <td>0.00</td>\n",
       "      <td>...</td>\n",
       "      <td>254.891159</td>\n",
       "      <td>0.000000</td>\n",
       "      <td>280.863373</td>\n",
       "      <td>275.543365</td>\n",
       "      <td>0.000000</td>\n",
       "      <td>0.0</td>\n",
       "      <td>251.391159</td>\n",
       "      <td>-8.761523</td>\n",
       "      <td>0.0</td>\n",
       "      <td>0.000000</td>\n",
       "    </tr>\n",
       "    <tr>\n",
       "      <th>2022-02-19 08:00:00</th>\n",
       "      <td>0.0</td>\n",
       "      <td>2.935006</td>\n",
       "      <td>2.735006</td>\n",
       "      <td>0.0</td>\n",
       "      <td>0.961894</td>\n",
       "      <td>3.035006</td>\n",
       "      <td>0.000430</td>\n",
       "      <td>0.00</td>\n",
       "      <td>0.000000</td>\n",
       "      <td>0.00</td>\n",
       "      <td>...</td>\n",
       "      <td>256.587524</td>\n",
       "      <td>0.000000</td>\n",
       "      <td>280.869110</td>\n",
       "      <td>276.506134</td>\n",
       "      <td>0.000000</td>\n",
       "      <td>0.0</td>\n",
       "      <td>252.587524</td>\n",
       "      <td>-8.366674</td>\n",
       "      <td>0.0</td>\n",
       "      <td>51.900002</td>\n",
       "    </tr>\n",
       "    <tr>\n",
       "      <th>2022-02-19 09:00:00</th>\n",
       "      <td>0.0</td>\n",
       "      <td>2.458740</td>\n",
       "      <td>1.958740</td>\n",
       "      <td>0.0</td>\n",
       "      <td>0.742933</td>\n",
       "      <td>2.358740</td>\n",
       "      <td>0.000281</td>\n",
       "      <td>0.00</td>\n",
       "      <td>0.000000</td>\n",
       "      <td>0.00</td>\n",
       "      <td>...</td>\n",
       "      <td>255.370941</td>\n",
       "      <td>0.000000</td>\n",
       "      <td>281.296387</td>\n",
       "      <td>280.696381</td>\n",
       "      <td>0.000000</td>\n",
       "      <td>0.0</td>\n",
       "      <td>253.670944</td>\n",
       "      <td>-4.103271</td>\n",
       "      <td>0.0</td>\n",
       "      <td>288.148315</td>\n",
       "    </tr>\n",
       "  </tbody>\n",
       "</table>\n",
       "<p>8241 rows × 75 columns</p>\n",
       "</div>"
      ],
      "text/plain": [
       "                     cfh2  wind_gust0  wind_gust2  cfm2       rh2  wind_gust3  \\\n",
       "time                                                                            \n",
       "2021-03-13 00:00:00   0.0    4.824757    4.124757   0.0  1.000000    5.524756   \n",
       "2021-03-13 01:00:00   0.0    6.153662    5.353662   0.0  0.999975    7.953662   \n",
       "2021-03-13 02:00:00   0.0    7.992311    7.092310   0.0  0.927085    8.792311   \n",
       "2021-03-13 03:00:00   0.0    8.446166    8.246166   0.0  0.906596    7.746166   \n",
       "2021-03-13 04:00:00   0.0    8.151620    7.651620   0.0  0.927966    8.551620   \n",
       "...                   ...         ...         ...   ...       ...         ...   \n",
       "2022-02-19 05:00:00   0.0    2.066168    2.466168   0.0  0.991745    4.566168   \n",
       "2022-02-19 06:00:00   0.0    2.231162    1.831162   0.0  0.994213    3.931162   \n",
       "2022-02-19 07:00:00   0.0    2.730811    2.230811   0.0  0.993181    3.130811   \n",
       "2022-02-19 08:00:00   0.0    2.935006    2.735006   0.0  0.961894    3.035006   \n",
       "2022-02-19 09:00:00   0.0    2.458740    1.958740   0.0  0.742933    2.358740   \n",
       "\n",
       "                         cin3  prec0      cfl1  prec1  ...      lwflx1  \\\n",
       "time                                                   ...               \n",
       "2021-03-13 00:00:00 -1.374254   0.00  0.000000   0.01  ...  272.472168   \n",
       "2021-03-13 01:00:00 -2.741293   0.01  0.473152   0.01  ...  274.912048   \n",
       "2021-03-13 02:00:00 -2.830637   0.04  0.600000   0.10  ...  280.230835   \n",
       "2021-03-13 03:00:00 -2.403894   0.07  0.022841   0.09  ...  278.325806   \n",
       "2021-03-13 04:00:00 -1.887336   0.48  0.529793   0.83  ...  348.569397   \n",
       "...                       ...    ...       ...    ...  ...         ...   \n",
       "2022-02-19 05:00:00  0.000047   0.01  0.003845   0.00  ...  258.053040   \n",
       "2022-02-19 06:00:00 -0.000316   0.00  0.000000   0.00  ...  263.067719   \n",
       "2022-02-19 07:00:00 -0.000211   0.00  0.000000   0.00  ...  254.891159   \n",
       "2022-02-19 08:00:00  0.000430   0.00  0.000000   0.00  ...  256.587524   \n",
       "2022-02-19 09:00:00  0.000281   0.00  0.000000   0.00  ...  255.370941   \n",
       "\n",
       "                          cape1       temp1       temp2     prec3  conv_prec3  \\\n",
       "time                                                                            \n",
       "2021-03-13 00:00:00   56.750000  284.781189  278.978180  0.030000         0.0   \n",
       "2021-03-13 01:00:00   67.610001  284.670441  279.735443  0.050000         0.0   \n",
       "2021-03-13 02:00:00  108.839996  284.537445  282.122437  0.250000         0.0   \n",
       "2021-03-13 03:00:00   76.570000  284.777496  282.836487  0.170001         0.0   \n",
       "2021-03-13 04:00:00   79.379997  284.663055  282.492065  0.540000         0.0   \n",
       "...                         ...         ...         ...       ...         ...   \n",
       "2022-02-19 05:00:00    4.340000  281.364929  276.211945  0.000000         0.0   \n",
       "2022-02-19 06:00:00    1.550000  281.068695  275.907684  0.000000         0.0   \n",
       "2022-02-19 07:00:00    0.000000  280.863373  275.543365  0.000000         0.0   \n",
       "2022-02-19 08:00:00    0.000000  280.869110  276.506134  0.000000         0.0   \n",
       "2022-02-19 09:00:00    0.000000  281.296387  280.696381  0.000000         0.0   \n",
       "\n",
       "                         lwflx2     shflx0  cfm1      swflx0  \n",
       "time                                                          \n",
       "2021-03-13 00:00:00  269.972168 -35.842480   0.0    0.000000  \n",
       "2021-03-13 01:00:00  279.312073 -69.593895   0.0    0.000000  \n",
       "2021-03-13 02:00:00  283.230835 -75.719093   0.0    0.000000  \n",
       "2021-03-13 03:00:00  286.025818 -71.603317   0.0    0.000000  \n",
       "2021-03-13 04:00:00  286.369415 -57.067333   0.0    0.000000  \n",
       "...                         ...        ...   ...         ...  \n",
       "2022-02-19 05:00:00  255.253052  -6.561914   0.0    0.000000  \n",
       "2022-02-19 06:00:00  251.467728  -7.020850   0.0    0.000000  \n",
       "2022-02-19 07:00:00  251.391159  -8.761523   0.0    0.000000  \n",
       "2022-02-19 08:00:00  252.587524  -8.366674   0.0   51.900002  \n",
       "2022-02-19 09:00:00  253.670944  -4.103271   0.0  288.148315  \n",
       "\n",
       "[8241 rows x 75 columns]"
      ]
     },
     "execution_count": 94,
     "metadata": {},
     "output_type": "execute_result"
    }
   ],
   "source": [
    "#select x variables\n",
    "x_var = get_config('X_train').columns\n",
    "df_all4k[x_var]"
   ]
  },
  {
   "cell_type": "markdown",
   "metadata": {
    "id": "5JMv_GZywLVA"
   },
   "source": [
    "**ML algorithm**"
   ]
  },
  {
   "cell_type": "code",
   "execution_count": 99,
   "metadata": {
    "colab": {
     "base_uri": "https://localhost:8080/",
     "height": 1000
    },
    "id": "sUzY0-bIvs_k",
    "outputId": "0a609d8e-abbe-451f-96c6-ac1e3ee1c15c"
   },
   "outputs": [
    {
     "name": "stdout",
     "output_type": "stream",
     "text": [
      "\n",
      "Matriz de Confusión  (Machine Learning)\n",
      "\n",
      "col_0             no precipitación  precipitación   All\n",
      "prec_lb                                                \n",
      "no precipitación              1076             55  1131\n",
      "precipitación                   35             71   106\n",
      "All                           1111            126  1237\n",
      "Heidke Skill Score: 0.57\n",
      "\n",
      "Informe de calidad desagregado (Machine Learning)\n",
      "\n",
      "                  precision    recall  f1-score      support\n",
      "no precipitación   0.968497  0.951370  0.959857  1131.000000\n",
      "precipitación      0.563492  0.669811  0.612069   106.000000\n",
      "accuracy           0.927243  0.927243  0.927243     0.927243\n",
      "macro avg          0.765994  0.810591  0.785963  1237.000000\n",
      "weighted avg       0.933792  0.927243  0.930055  1237.000000\n",
      "\n",
      "Matriz de Confusión  (Machine Learning)\n",
      "\n",
      "col_0             no precipitación  precipitación   All\n",
      "prec_lb                                                \n",
      "no precipitación              1075             61  1136\n",
      "precipitación                   45             56   101\n",
      "All                           1120            117  1237\n",
      "Heidke Skill Score: 0.47\n",
      "\n",
      "Informe de calidad desagregado (Machine Learning)\n",
      "\n",
      "                  precision    recall  f1-score      support\n",
      "no precipitación   0.959821  0.946303  0.953014  1136.000000\n",
      "precipitación      0.478632  0.554455  0.513761   101.000000\n",
      "accuracy           0.914309  0.914309  0.914309     0.914309\n",
      "macro avg          0.719227  0.750379  0.733388  1237.000000\n",
      "weighted avg       0.920533  0.914309  0.917150  1237.000000\n",
      "\n",
      "Matriz de Confusión  (Machine Learning)\n",
      "\n",
      "col_0             no precipitación  precipitación   All\n",
      "prec_lb                                                \n",
      "no precipitación              1090             54  1144\n",
      "precipitación                   30             63    93\n",
      "All                           1120            117  1237\n",
      "Heidke Skill Score: 0.56\n",
      "\n",
      "Informe de calidad desagregado (Machine Learning)\n",
      "\n",
      "                  precision    recall  f1-score      support\n",
      "no precipitación   0.973214  0.952797  0.962898  1144.000000\n",
      "precipitación      0.538462  0.677419  0.600000    93.000000\n",
      "accuracy           0.932094  0.932094  0.932094     0.932094\n",
      "macro avg          0.755838  0.815108  0.781449  1237.000000\n",
      "weighted avg       0.940529  0.932094  0.935614  1237.000000\n",
      "\n",
      "Matriz de Confusión  (Machine Learning)\n",
      "\n",
      "col_0             no precipitación  precipitación   All\n",
      "prec_lb                                                \n",
      "no precipitación              1074             69  1143\n",
      "precipitación                   32             62    94\n",
      "All                           1106            131  1237\n",
      "Heidke Skill Score: 0.51\n",
      "\n",
      "Informe de calidad desagregado (Machine Learning)\n",
      "\n",
      "                  precision    recall  f1-score      support\n",
      "no precipitación   0.971067  0.939633  0.955091  1143.000000\n",
      "precipitación      0.473282  0.659574  0.551111    94.000000\n",
      "accuracy           0.918351  0.918351  0.918351     0.918351\n",
      "macro avg          0.722175  0.799604  0.753101  1237.000000\n",
      "weighted avg       0.933240  0.918351  0.924393  1237.000000\n",
      "\n",
      "Matriz de Confusión  (Machine Learning)\n",
      "\n",
      "col_0             no precipitación  precipitación   All\n",
      "prec_lb                                                \n",
      "no precipitación              1070             67  1137\n",
      "precipitación                   35             65   100\n",
      "All                           1105            132  1237\n",
      "Heidke Skill Score: 0.52\n",
      "\n",
      "Informe de calidad desagregado (Machine Learning)\n",
      "\n",
      "                  precision    recall  f1-score      support\n",
      "no precipitación   0.968326  0.941073  0.954505  1137.000000\n",
      "precipitación      0.492424  0.650000  0.560345   100.000000\n",
      "accuracy           0.917542  0.917542  0.917542     0.917542\n",
      "macro avg          0.730375  0.795536  0.757425  1237.000000\n",
      "weighted avg       0.929854  0.917542  0.922641  1237.000000\n",
      "\n",
      "Matriz de Confusión  (Machine Learning)\n",
      "\n",
      "col_0             no precipitación  precipitación   All\n",
      "prec_lb                                                \n",
      "no precipitación              1069             56  1125\n",
      "precipitación                   47             65   112\n",
      "All                           1116            121  1237\n",
      "Heidke Skill Score: 0.51\n",
      "\n",
      "Informe de calidad desagregado (Machine Learning)\n",
      "\n",
      "                  precision    recall  f1-score      support\n",
      "no precipitación   0.957885  0.950222  0.954038  1125.000000\n",
      "precipitación      0.537190  0.580357  0.557940   112.000000\n",
      "accuracy           0.916734  0.916734  0.916734     0.916734\n",
      "macro avg          0.747538  0.765290  0.755989  1237.000000\n",
      "weighted avg       0.919795  0.916734  0.918175  1237.000000\n",
      "\n",
      "Matriz de Confusión  (Machine Learning)\n",
      "\n",
      "col_0             no precipitación  precipitación   All\n",
      "prec_lb                                                \n",
      "no precipitación              1081             47  1128\n",
      "precipitación                   44             65   109\n",
      "All                           1125            112  1237\n",
      "Heidke Skill Score: 0.55\n",
      "\n",
      "Informe de calidad desagregado (Machine Learning)\n",
      "\n",
      "                  precision    recall  f1-score      support\n",
      "no precipitación   0.960889  0.958333  0.959609  1128.000000\n",
      "precipitación      0.580357  0.596330  0.588235   109.000000\n",
      "accuracy           0.926435  0.926435  0.926435     0.926435\n",
      "macro avg          0.770623  0.777332  0.773922  1237.000000\n",
      "weighted avg       0.927358  0.926435  0.926885  1237.000000\n",
      "\n",
      "Matriz de Confusión  (Machine Learning)\n",
      "\n",
      "col_0             no precipitación  precipitación   All\n",
      "prec_lb                                                \n",
      "no precipitación              1097             60  1157\n",
      "precipitación                   34             46    80\n",
      "All                           1131            106  1237\n",
      "Heidke Skill Score: 0.45\n",
      "\n",
      "Informe de calidad desagregado (Machine Learning)\n",
      "\n",
      "                  precision    recall  f1-score     support\n",
      "no precipitación   0.969938  0.948142  0.958916  1157.00000\n",
      "precipitación      0.433962  0.575000  0.494624    80.00000\n",
      "accuracy           0.924010  0.924010  0.924010     0.92401\n",
      "macro avg          0.701950  0.761571  0.726770  1237.00000\n",
      "weighted avg       0.935275  0.924010  0.928889  1237.00000\n",
      "\n",
      "Matriz de Confusión  (Machine Learning)\n",
      "\n",
      "col_0             no precipitación  precipitación   All\n",
      "prec_lb                                                \n",
      "no precipitación              1085             58  1143\n",
      "precipitación                   38             56    94\n",
      "All                           1123            114  1237\n",
      "Heidke Skill Score: 0.5\n",
      "\n",
      "Informe de calidad desagregado (Machine Learning)\n",
      "\n",
      "                  precision    recall  f1-score      support\n",
      "no precipitación   0.966162  0.949256  0.957635  1143.000000\n",
      "precipitación      0.491228  0.595745  0.538462    94.000000\n",
      "accuracy           0.922393  0.922393  0.922393     0.922393\n",
      "macro avg          0.728695  0.772501  0.748048  1237.000000\n",
      "weighted avg       0.930072  0.922393  0.925782  1237.000000\n",
      "\n",
      "Matriz de Confusión  (Machine Learning)\n",
      "\n",
      "col_0             no precipitación  precipitación   All\n",
      "prec_lb                                                \n",
      "no precipitación              1080             62  1142\n",
      "precipitación                   36             59    95\n",
      "All                           1116            121  1237\n",
      "Heidke Skill Score: 0.5\n",
      "\n",
      "Informe de calidad desagregado (Machine Learning)\n",
      "\n",
      "                  precision    recall  f1-score      support\n",
      "no precipitación   0.967742  0.945709  0.956599  1142.000000\n",
      "precipitación      0.487603  0.621053  0.546296    95.000000\n",
      "accuracy           0.920776  0.920776  0.920776     0.920776\n",
      "macro avg          0.727673  0.783381  0.751448  1237.000000\n",
      "weighted avg       0.930868  0.920776  0.925088  1237.000000\n",
      "\n",
      "Estadiísticas HSS\n"
     ]
    },
    {
     "data": {
      "text/html": [
       "<div>\n",
       "<style scoped>\n",
       "    .dataframe tbody tr th:only-of-type {\n",
       "        vertical-align: middle;\n",
       "    }\n",
       "\n",
       "    .dataframe tbody tr th {\n",
       "        vertical-align: top;\n",
       "    }\n",
       "\n",
       "    .dataframe thead th {\n",
       "        text-align: right;\n",
       "    }\n",
       "</style>\n",
       "<table border=\"1\" class=\"dataframe\">\n",
       "  <thead>\n",
       "    <tr style=\"text-align: right;\">\n",
       "      <th></th>\n",
       "      <th>HSS</th>\n",
       "    </tr>\n",
       "  </thead>\n",
       "  <tbody>\n",
       "    <tr>\n",
       "      <th>count</th>\n",
       "      <td>10.000000</td>\n",
       "    </tr>\n",
       "    <tr>\n",
       "      <th>mean</th>\n",
       "      <td>0.514049</td>\n",
       "    </tr>\n",
       "    <tr>\n",
       "      <th>std</th>\n",
       "      <td>0.038298</td>\n",
       "    </tr>\n",
       "    <tr>\n",
       "      <th>min</th>\n",
       "      <td>0.454406</td>\n",
       "    </tr>\n",
       "    <tr>\n",
       "      <th>25%</th>\n",
       "      <td>0.498288</td>\n",
       "    </tr>\n",
       "    <tr>\n",
       "      <th>50%</th>\n",
       "      <td>0.509794</td>\n",
       "    </tr>\n",
       "    <tr>\n",
       "      <th>75%</th>\n",
       "      <td>0.539840</td>\n",
       "    </tr>\n",
       "    <tr>\n",
       "      <th>max</th>\n",
       "      <td>0.572255</td>\n",
       "    </tr>\n",
       "  </tbody>\n",
       "</table>\n",
       "</div>"
      ],
      "text/plain": [
       "             HSS\n",
       "count  10.000000\n",
       "mean    0.514049\n",
       "std     0.038298\n",
       "min     0.454406\n",
       "25%     0.498288\n",
       "50%     0.509794\n",
       "75%     0.539840\n",
       "max     0.572255"
      ]
     },
     "execution_count": 99,
     "metadata": {},
     "output_type": "execute_result"
    }
   ],
   "source": [
    "from lightgbm.sklearn import LGBMClassifier\n",
    "from sklearn.ensemble import ExtraTreesClassifier\n",
    "from sklearn.model_selection import train_test_split\n",
    "from imblearn.over_sampling import SMOTE\n",
    "from sklearn.metrics import classification_report\n",
    "\n",
    "#select x variables\n",
    "#x_var = ria_model4k.columns[:-4].to_list()  \n",
    "\n",
    "# X and Y\n",
    "Y=df_all4k.prec_lb\n",
    "X=df_all4k[x_var]\n",
    "\n",
    "# loop ranadom\n",
    "HSS = []\n",
    "for t in range (0,10):\n",
    "  #split variables\n",
    "  X_train, X_test, y_train, y_test = train_test_split(X,Y, test_size=0.15, )\n",
    "\n",
    "  # Resample\n",
    "  X_res, y_res =SMOTE().fit_resample(X_train,y_train)\n",
    "\n",
    "  ml_model= ExtraTreesClassifier(n_estimators=170).fit(X_res,y_res)\n",
    "  #ml_model= LGBMClassifier(n_estimators=170).fit(X_res,y_res)  \n",
    "  #Confussion matrix\n",
    "\n",
    "  print(\"\\nMatriz de Confusión  (Machine Learning)\\n\")\n",
    "\n",
    "  cm = pd.crosstab(y_test, ml_model.predict(X_test),margins=True,)\n",
    "  print(cm)\n",
    "  a = cm.values[0,0]\n",
    "  b = cm.values[1,0]\n",
    "  c = cm.values[0,1]\n",
    "  d = cm.values[1,1]\n",
    "  HSS.append(2*(a*d-b*c)/((a+c)*(c+d)+(a+b)*(b+d)))\n",
    "  print(\"Heidke Skill Score:\",round(HSS[t],2))\n",
    "\n",
    "  #quality report\n",
    "\n",
    "  print(\"\\nInforme de calidad desagregado (Machine Learning)\\n\")\n",
    "  print(pd.DataFrame(classification_report(y_test, ml_model.predict(X_test),output_dict=True)).T)\n",
    "\n",
    "print(\"\\nEstadiísticas HSS\")\n",
    "pd.DataFrame(HSS,columns=[\"HSS\"]).describe()"
   ]
  },
  {
   "cell_type": "markdown",
   "metadata": {
    "id": "b_x_z2VF15X-"
   },
   "source": [
    "**Cross validation**"
   ]
  },
  {
   "cell_type": "code",
   "execution_count": null,
   "metadata": {
    "colab": {
     "base_uri": "https://localhost:8080/"
    },
    "id": "gtGQnaXU19sE",
    "outputId": "c00e83ca-d5a9-4de3-fb80-6b900fe8faee"
   },
   "outputs": [],
   "source": [
    "from sklearn.model_selection import ShuffleSplit\n",
    "from sklearn.model_selection import cross_validate\n",
    "import sklearn\n",
    "\n",
    "splits = 5\n",
    "test_size = 0.15\n",
    "\n",
    "cv = ShuffleSplit(n_splits= splits, test_size=test_size, random_state=100)\n",
    "\n",
    "cros_val_dict=cross_validate(ml_model, X, Y.values.reshape(1, -1)[0], cv=cv,scoring=[\"accuracy\",'f1_macro',\"f1_weighted\"]) \n",
    "\n",
    "cros_val=pd.DataFrame(cros_val_dict) \n",
    "\n",
    "print(\"meteorological model variables selected:\\n\",np.array(x_var))\n",
    "\n",
    "print(\"\\nCross validation:\")\n",
    "print (\"\\nSplits number:\", splits, \"\\nTest size:\",test_size)\n",
    "\n",
    "print(\"\\nf1_weighted: %0.2f (+/- %0.2f)\" % (cros_val_dict['test_f1_weighted'].mean(), cros_val_dict['test_f1_weighted'].std() * 2))\n",
    "print(\"Accuracy: %0.2f (+/- %0.2f)\" % (cros_val_dict['test_accuracy'].mean(), cros_val_dict['test_accuracy'].std() * 2))\n",
    "\n",
    "print(\"\\nAI model:\",ml_model)\n",
    "\n",
    " \n",
    "print(\"\\nLibrary versions\\n\")\n",
    "print('sklearn: {}'. format(sklearn. __version__))\n",
    "print('pandas: {}'. format(pd. __version__))\n",
    "print('numpy: {}'. format(np. __version__))"
   ]
  },
  {
   "cell_type": "markdown",
   "metadata": {},
   "source": [
    "** Extratree **"
   ]
  },
  {
   "cell_type": "code",
   "execution_count": null,
   "metadata": {},
   "outputs": [],
   "source": [
    "from sklearn.ensemble import ExtraTreesClassifier\n",
    "from sklearn.model_selection import train_test_split\n",
    "from imblearn.over_sampling import SMOTE\n",
    "from sklearn.metrics import classification_report\n",
    "\n",
    "#select x variables\n",
    "x_var = ria_model4k.columns[:-4].to_list()  \n",
    "\n",
    "# X and Y\n",
    "Y=df_all4k.prec_lb\n",
    "X=df_all4k[x_var]\n",
    "\n",
    "# loop ranadom\n",
    "HSS = []\n",
    "for t in range (0,10):\n",
    "  #split variables\n",
    "  X_train, X_test, y_train, y_test = train_test_split(X,Y, test_size=0.15, )\n",
    "\n",
    "  # Resample\n",
    "  X_res, y_res =SMOTE().fit_resample(X_train,y_train)\n",
    "\n",
    "  ml_model=ExtraTreesClassifier(n_estimators=150).fit(X_res,y_res)\n",
    "\n",
    "  #Confussion matrix\n",
    "\n",
    "  print(\"\\nMatriz de Confusión  (Machine Learning)\\n\")\n",
    "\n",
    "  cm = pd.crosstab(y_test, ml_model.predict(X_test),margins=True,)\n",
    "  print(cm)\n",
    "  a = cm.values[0,0]\n",
    "  b = cm.values[1,0]\n",
    "  c = cm.values[0,1]\n",
    "  d = cm.values[1,1]\n",
    "  HSS.append(2*(a*d-b*c)/((a+c)*(c+d)+(a+b)*(b+d)))\n",
    "  print(\"Heidke Skill Score:\",round(HSS[t],2))\n",
    "\n",
    "  #quality report\n",
    "\n",
    "  print(\"\\nInforme de calidad desagregado (Machine Learning)\\n\")\n",
    "  print(pd.DataFrame(classification_report(y_test, ml_model.predict(X_test),output_dict=True)).T)\n",
    "\n",
    "print(\"\\nEstadiísticas HSS\")\n",
    "pd.DataFrame(HSS,columns=[\"HSS\"]).describe()"
   ]
  },
  {
   "cell_type": "markdown",
   "metadata": {
    "id": "SKV5xRSi5ybE"
   },
   "source": [
    "**Export model**"
   ]
  },
  {
   "cell_type": "code",
   "execution_count": null,
   "metadata": {
    "colab": {
     "base_uri": "https://localhost:8080/"
    },
    "id": "yBbwNpuQ5Qrs",
    "outputId": "f6e85bcc-a22d-4230-d2f5-6c035ee165cd"
   },
   "outputs": [],
   "source": [
    "import pickle\n",
    "from sklearn.pipeline import Pipeline\n",
    "\n",
    "estimators = [('ml_model', ml_model)]\n",
    "pipe = Pipeline(estimators)\n",
    "print(pipe)\n",
    "al_file={\"x_var\":x_var,\"coor\":coor,\"pipe\":pipe}\n",
    "pickle.dump(al_file, open(\"prec_ENM_d1_plus.al\", 'wb'))"
   ]
  },
  {
   "cell_type": "markdown",
   "metadata": {
    "id": "MwR9aI8hmiAN"
   },
   "source": [
    "**Forecast D0**"
   ]
  },
  {
   "cell_type": "code",
   "execution_count": null,
   "metadata": {
    "colab": {
     "base_uri": "https://localhost:8080/",
     "height": 866
    },
    "id": "iBDx5k8UbOBd",
    "outputId": "22db4a3d-5a1f-4545-e436-4f874fd82b51"
   },
   "outputs": [],
   "source": [
    "#ria forecast d0\n",
    "ria_model4k=pd.read_csv(\"C:\\\\Users\\AEMet\\Desktop\\st_projets\\enm_udra-main\\meteorological_models\\\\lat42.39707lon-8.69362p4R4KmD0.csv\",parse_dates=[\"time\"]).drop(columns=[\"Unnamed: 0\"]).set_index(\"time\")\n",
    "ria_model4k"
   ]
  },
  {
   "cell_type": "code",
   "execution_count": null,
   "metadata": {
    "colab": {
     "base_uri": "https://localhost:8080/"
    },
    "id": "ksuBJUhXIHnz",
    "outputId": "2eecbc8f-2986-4dc3-b8da-0b00089017b7"
   },
   "outputs": [],
   "source": [
    "#label meteorological model prec points 0 , 1, 2 and 3\n",
    "ria_model4k[\"prec0_l\"]=pd.cut(ria_model4k[\"prec0\"], bins=interval,retbins=False,labels=labels).map({a:b for a,b in zip(interval,labels)}).astype(str)\n",
    "ria_model4k[\"prec1_l\"]=pd.cut(ria_model4k[\"prec1\"], bins=interval,retbins=False,labels=labels).map({a:b for a,b in zip(interval,labels)}).astype(str)\n",
    "ria_model4k[\"prec2_l\"]=pd.cut(ria_model4k[\"prec2\"], bins=interval,retbins=False,labels=labels).map({a:b for a,b in zip(interval,labels)}).astype(str)\n",
    "ria_model4k[\"prec3_l\"]=pd.cut(ria_model4k[\"prec3\"], bins=interval,retbins=False,labels=labels).map({a:b for a,b in zip(interval,labels)}).astype(str)\n",
    "df_all4k=pd.concat([station,ria_model4k],axis=1).dropna()\n",
    "\n",
    "df_all4k[[\"prec_lb\",\"prec0_l\",\"prec1_l\",\"prec2_l\",\"prec3_l\"]].sample(20)\n",
    "for l in [\"prec_lb\",\"prec0_l\",\"prec1_l\",\"prec2_l\",\"prec3_l\"]:\n",
    "  print(l)\n",
    "  print(pd.concat([df_all4k[l].value_counts().rename(\"Total\"),\n",
    "           df_all4k[l].value_counts(normalize=True).rename(\"Porcentaje\").map(lambda n: '{:.1%}'.format(n))],axis=1))\n",
    "  print(\"\\n\")"
   ]
  },
  {
   "cell_type": "code",
   "execution_count": null,
   "metadata": {
    "colab": {
     "base_uri": "https://localhost:8080/"
    },
    "id": "OWZVPCSuZB_w",
    "outputId": "3263f595-c458-495d-a65d-9b0f7e174f48"
   },
   "outputs": [],
   "source": [
    "from sklearn.metrics import classification_report\n",
    "\n",
    "print(\"Informe de calidad desagregado (modelo meteorológico)\\n\")\n",
    "for l in [\"prec0_l\",\"prec1_l\",\"prec2_l\",\"prec3_l\"]:\n",
    "  print(l)\n",
    "  print(pd.DataFrame(classification_report(df_all4k.prec_lb, df_all4k[l],output_dict=True)).T)\n",
    "  print(\"\\n\")"
   ]
  },
  {
   "cell_type": "code",
   "execution_count": null,
   "metadata": {
    "colab": {
     "base_uri": "https://localhost:8080/"
    },
    "id": "Sgv9N-z7ZFjB",
    "outputId": "8bd05d4d-23c4-4689-b749-de86d1269e51"
   },
   "outputs": [],
   "source": [
    "print(\"Matriz de Confusión  (modelo meteorológico)\\n\")\n",
    "for l in [\"prec0_l\",\"prec1_l\",\"prec2_l\",\"prec3_l\"]:\n",
    "  cm = pd.crosstab(df_all4k.prec_lb, df_all4k[l],margins=True,)\n",
    "  print(cm)\n",
    "  a = cm.values[0,0]\n",
    "  b = cm.values[1,0]\n",
    "  c = cm.values[0,1]\n",
    "  d = cm.values[1,1]\n",
    "  hss = 2*(a*d-b*c)/((a+c)*(c+d)+(a+b)*(b+d))\n",
    "  print(\"Heidke Skill Score:\",round(hss,2))\n",
    "  print(\"\\n\")\n"
   ]
  },
  {
   "cell_type": "code",
   "execution_count": null,
   "metadata": {
    "colab": {
     "base_uri": "https://localhost:8080/"
    },
    "id": "XpDCJ0AvZV4A",
    "outputId": "eb389dbd-76e6-4c0d-e7cf-8331ade55871"
   },
   "outputs": [],
   "source": [
    "import math\n",
    "from scipy.stats import entropy\n",
    "\n",
    "for l in [\"prec0_l\",\"prec1_l\",\"prec2_l\",\"prec3_l\"]:\n",
    "  column_sc = pd.crosstab(df_all4k.prec_lb, df_all4k[l], margins=True,normalize=\"columns\")\n",
    "  column_sc = column_sc.append(pd.DataFrame(entropy(column_sc,base=2)/(math.log2(column_sc.shape[0])),columns=[\"entropia/entropia.max\"],\n",
    "                    index=column_sc.columns).T).rename(columns={\"All\":\"Climatología\"})\n",
    "  print(column_sc)\n",
    "  print(\"\\n\")\n"
   ]
  },
  {
   "cell_type": "markdown",
   "metadata": {
    "id": "au3uoIOPdCoU"
   },
   "source": [
    "**ML algorithm**"
   ]
  },
  {
   "cell_type": "code",
   "execution_count": null,
   "metadata": {
    "colab": {
     "base_uri": "https://localhost:8080/",
     "height": 1000
    },
    "id": "G5YzBG-Z7Vs-",
    "outputId": "7c88bc41-06dc-4ce8-e1b0-218275dc5cf2"
   },
   "outputs": [],
   "source": [
    "from sklearn.ensemble import ExtraTreesClassifier\n",
    "from sklearn.model_selection import train_test_split\n",
    "from imblearn.over_sampling import SMOTE\n",
    "from sklearn.metrics import classification_report\n",
    "\n",
    "#select x variables\n",
    "x_var = ria_model4k.columns[:-4].to_list()  \n",
    "\n",
    "# X and Y\n",
    "Y=df_all4k.prec_lb\n",
    "X=df_all4k[x_var]\n",
    "\n",
    "# loop ranadom\n",
    "HSS = []\n",
    "for t in range (0,10):\n",
    "  #split variables\n",
    "  X_train, X_test, y_train, y_test = train_test_split(X,Y, test_size=0.15, )\n",
    "\n",
    "  # Resample\n",
    "  X_res, y_res =SMOTE().fit_resample(X_train,y_train)\n",
    "\n",
    "  ml_model = ExtraTreesClassifier(n_estimators=200).fit(X_res,y_res)\n",
    "\n",
    "  #Confussion matrix\n",
    "\n",
    "  print(\"\\nMatriz de Confusión  (Machine Learning)\\n\")\n",
    "\n",
    "  cm = pd.crosstab(y_test, ml_model.predict(X_test),margins=True,)\n",
    "  print(cm)\n",
    "  a = cm.values[0,0]\n",
    "  b = cm.values[1,0]\n",
    "  c = cm.values[0,1]\n",
    "  d = cm.values[1,1]\n",
    "  HSS.append(2*(a*d-b*c)/((a+c)*(c+d)+(a+b)*(b+d)))\n",
    "  print(\"Heidke Skill Score:\",round(HSS[t],2))\n",
    "\n",
    "  #quality report\n",
    "\n",
    "  print(\"\\nInforme de calidad desagregado (Machine Learning)\\n\")\n",
    "  print(pd.DataFrame(classification_report(y_test, ml_model.predict(X_test),output_dict=True)).T)\n",
    "\n",
    "\n",
    "print(\"\\nEstadísticas HSS\")\n",
    "pd.DataFrame(HSS,columns=[\"HSS\"]).describe()\n"
   ]
  },
  {
   "cell_type": "markdown",
   "metadata": {
    "id": "pfw_pFZu9F0O"
   },
   "source": [
    "**Cross validation**"
   ]
  },
  {
   "cell_type": "code",
   "execution_count": null,
   "metadata": {
    "colab": {
     "base_uri": "https://localhost:8080/"
    },
    "id": "w2TAp3ga8oX4",
    "outputId": "60f31017-db7b-4c93-bbae-a05dae5aee65"
   },
   "outputs": [],
   "source": [
    "from sklearn.model_selection import ShuffleSplit\n",
    "from sklearn.model_selection import cross_validate\n",
    "import sklearn\n",
    "\n",
    "splits = 5\n",
    "test_size = 0.15\n",
    "\n",
    "cv = ShuffleSplit(n_splits= splits, test_size=test_size, random_state=100)\n",
    "\n",
    "cros_val_dict=cross_validate(ml_model, X, Y.values.reshape(1, -1)[0], cv=cv,scoring=[\"accuracy\",'f1_macro',\"f1_weighted\"]) \n",
    "\n",
    "cros_val=pd.DataFrame(cros_val_dict) \n",
    "\n",
    "print(\"meteorological model variables selected:\\n\",np.array(x_var))\n",
    "\n",
    "print(\"\\nCross validation:\")\n",
    "print (\"\\nSplits number:\", splits, \"\\nTest size:\",test_size)\n",
    "\n",
    "print(\"\\nf1_weighted: %0.2f (+/- %0.2f)\" % (cros_val_dict['test_f1_weighted'].mean(), cros_val_dict['test_f1_weighted'].std() * 2))\n",
    "print(\"Accuracy: %0.2f (+/- %0.2f)\" % (cros_val_dict['test_accuracy'].mean(), cros_val_dict['test_accuracy'].std() * 2))\n",
    "\n",
    "print(\"\\nAI model:\",ml_model)\n",
    "\n",
    " \n",
    "print(\"\\nLibrary versions\\n\")\n",
    "print('sklearn: {}'. format(sklearn. __version__))\n",
    "print('pandas: {}'. format(pd. __version__))\n",
    "print('numpy: {}'. format(np. __version__))"
   ]
  },
  {
   "cell_type": "markdown",
   "metadata": {
    "id": "nAHncdpM99-d"
   },
   "source": [
    "**Export model**"
   ]
  },
  {
   "cell_type": "code",
   "execution_count": null,
   "metadata": {
    "colab": {
     "base_uri": "https://localhost:8080/"
    },
    "id": "dGMxQ0Ni980R",
    "outputId": "eb0607ef-4387-4fd2-e945-858ad5695bd9"
   },
   "outputs": [],
   "source": [
    "import pickle\n",
    "from sklearn.pipeline import Pipeline\n",
    "\n",
    "estimators = [('ml_model', ml_model)]\n",
    "pipe = Pipeline(estimators)\n",
    "print(pipe)\n",
    "al_file={\"x_var\":x_var,\"coor\":coor,\"pipe\":pipe}\n",
    "pickle.dump(al_file, open(\"prec_ENM_d0_plus.al\", 'wb'))"
   ]
  },
  {
   "cell_type": "markdown",
   "metadata": {
    "id": "wIKzM3tMIcrj"
   },
   "source": [
    "**forecast d2**"
   ]
  },
  {
   "cell_type": "code",
   "execution_count": null,
   "metadata": {
    "colab": {
     "base_uri": "https://localhost:8080/",
     "height": 866
    },
    "id": "ZlulaLsxIgP1",
    "outputId": "e6628067-460a-4d9d-b081-aac555345577"
   },
   "outputs": [],
   "source": [
    "#ria forecast d2\n",
    "ria_model4k=pd.read_csv(\"C:\\\\Users\\AEMet\\Desktop\\st_projets\\enm_udra-main\\meteorological_models\\\\lat42.39707lon-8.69362p4R4KmD2.csv\",parse_dates=[\"time\"]).drop(columns=[\"Unnamed: 0\"]).set_index(\"time\")\n",
    "ria_model4k"
   ]
  },
  {
   "cell_type": "code",
   "execution_count": null,
   "metadata": {
    "colab": {
     "base_uri": "https://localhost:8080/"
    },
    "id": "dDB1ZgHIIo3O",
    "outputId": "9bcf774d-43e9-4b80-a9ef-a81dd4639089"
   },
   "outputs": [],
   "source": [
    "#label meteorological model prec points 0 , 1, 2 and 3\n",
    "ria_model4k[\"prec0_l\"]=pd.cut(ria_model4k[\"prec0\"], bins=interval,retbins=False,labels=labels).map({a:b for a,b in zip(interval,labels)}).astype(str)\n",
    "ria_model4k[\"prec1_l\"]=pd.cut(ria_model4k[\"prec1\"], bins=interval,retbins=False,labels=labels).map({a:b for a,b in zip(interval,labels)}).astype(str)\n",
    "ria_model4k[\"prec2_l\"]=pd.cut(ria_model4k[\"prec2\"], bins=interval,retbins=False,labels=labels).map({a:b for a,b in zip(interval,labels)}).astype(str)\n",
    "ria_model4k[\"prec3_l\"]=pd.cut(ria_model4k[\"prec3\"], bins=interval,retbins=False,labels=labels).map({a:b for a,b in zip(interval,labels)}).astype(str)\n",
    "df_all4k=pd.concat([station,ria_model4k],axis=1).dropna()\n",
    "\n",
    "df_all4k[[\"prec_lb\",\"prec0_l\",\"prec1_l\",\"prec2_l\",\"prec3_l\"]].sample(20)\n",
    "for l in [\"prec_lb\",\"prec0_l\",\"prec1_l\",\"prec2_l\",\"prec3_l\"]:\n",
    "  print(l)\n",
    "  print(pd.concat([df_all4k[l].value_counts().rename(\"Total\"),\n",
    "           df_all4k[l].value_counts(normalize=True).rename(\"Porcentaje\").map(lambda n: '{:.1%}'.format(n))],axis=1))\n",
    "  print(\"\\n\")"
   ]
  },
  {
   "cell_type": "code",
   "execution_count": null,
   "metadata": {
    "colab": {
     "base_uri": "https://localhost:8080/"
    },
    "id": "TVGeUC_II1Qf",
    "outputId": "695c96bd-ab5d-4dbb-a4e6-b40ca3f5bf1b"
   },
   "outputs": [],
   "source": [
    "from sklearn.metrics import classification_report\n",
    "\n",
    "print(\"Informe de calidad desagregado (modelo meteorológico)\\n\")\n",
    "for l in [\"prec0_l\",\"prec1_l\",\"prec2_l\",\"prec3_l\"]:\n",
    "  print(l)\n",
    "  print(pd.DataFrame(classification_report(df_all4k.prec_lb, df_all4k[l],output_dict=True)).T)\n",
    "  print(\"\\n\")"
   ]
  },
  {
   "cell_type": "code",
   "execution_count": null,
   "metadata": {
    "colab": {
     "base_uri": "https://localhost:8080/"
    },
    "id": "T0jC7FMCJCAV",
    "outputId": "38975f69-bf01-477f-e0bf-4dc31337594d"
   },
   "outputs": [],
   "source": [
    "print(\"Matriz de Confusión  (modelo meteorológico)\\n\")\n",
    "for l in [\"prec0_l\",\"prec1_l\",\"prec2_l\",\"prec3_l\"]:\n",
    "  cm = pd.crosstab(df_all4k.prec_lb, df_all4k[l],margins=True,)\n",
    "  print(cm)\n",
    "  a = cm.values[0,0]\n",
    "  b = cm.values[1,0]\n",
    "  c = cm.values[0,1]\n",
    "  d = cm.values[1,1]\n",
    "  hss = 2*(a*d-b*c)/((a+c)*(c+d)+(a+b)*(b+d))\n",
    "  print(\"Heidke Skill Score:\",round(hss,2))\n",
    "  print(\"\\n\")"
   ]
  },
  {
   "cell_type": "markdown",
   "metadata": {
    "id": "Iws36nBPIE17"
   },
   "source": [
    "**ml d2**"
   ]
  },
  {
   "cell_type": "code",
   "execution_count": null,
   "metadata": {
    "colab": {
     "base_uri": "https://localhost:8080/",
     "height": 1000
    },
    "id": "-KryRvnPHnJr",
    "outputId": "8f145d75-a046-4571-f830-c6b5279a5062"
   },
   "outputs": [],
   "source": [
    "from sklearn.ensemble import ExtraTreesClassifier\n",
    "from sklearn.model_selection import train_test_split\n",
    "from imblearn.over_sampling import SMOTE\n",
    "from sklearn.metrics import classification_report\n",
    "\n",
    "#select x variables\n",
    "x_var = ria_model4k.columns[:-4].to_list()  \n",
    "\n",
    "# X and Y\n",
    "Y=df_all4k.prec_lb\n",
    "X=df_all4k[x_var]\n",
    "\n",
    "# loop ranadom\n",
    "HSS = []\n",
    "for t in range (0,10):\n",
    "  #split variables\n",
    "  X_train, X_test, y_train, y_test = train_test_split(X,Y, test_size=0.15, )\n",
    "\n",
    "  # Resample\n",
    "  X_res, y_res = SMOTE().fit_resample(X_train,y_train)\n",
    "\n",
    "  ml_model = ExtraTreesClassifier(n_estimators=200).fit(X_res,y_res)\n",
    "\n",
    "  #Confussion matrix\n",
    "\n",
    "  print(\"\\nMatriz de Confusión  (Machine Learning)\\n\")\n",
    "\n",
    "  cm = pd.crosstab(y_test, ml_model.predict(X_test),margins=True,)\n",
    "  print(cm)\n",
    "  a = cm.values[0,0]\n",
    "  b = cm.values[1,0]\n",
    "  c = cm.values[0,1]\n",
    "  d = cm.values[1,1]\n",
    "  HSS.append(2*(a*d-b*c)/((a+c)*(c+d)+(a+b)*(b+d)))\n",
    "  print(\"Heidke Skill Score:\",round(HSS[t],2))\n",
    "\n",
    "  #quality report\n",
    "\n",
    "  print(\"\\nInforme de calidad desagregado (Machine Learning)\\n\")\n",
    "  print(pd.DataFrame(classification_report(y_test, ml_model.predict(X_test),output_dict=True)).T)\n",
    "\n",
    "\n",
    "print(\"\\nEstadísticas HSS\")\n",
    "pd.DataFrame(HSS,columns=[\"HSS\"]).describe()"
   ]
  },
  {
   "cell_type": "markdown",
   "metadata": {
    "id": "yZ99tFB4I046"
   },
   "source": [
    "**Export algorithm d2**"
   ]
  },
  {
   "cell_type": "code",
   "execution_count": null,
   "metadata": {
    "colab": {
     "base_uri": "https://localhost:8080/"
    },
    "id": "tMCMCRo6I6DT",
    "outputId": "2c7bf038-e85f-4dba-ff11-9ebc0992e764"
   },
   "outputs": [],
   "source": [
    "import pickle\n",
    "from sklearn.pipeline import Pipeline\n",
    "\n",
    "estimators = [('ml_model', ml_model)]\n",
    "pipe = Pipeline(estimators)\n",
    "print(pipe)\n",
    "al_file={\"x_var\":x_var,\"coor\":coor,\"pipe\":pipe}\n",
    "pickle.dump(al_file, open(\"prec_ENM_d2_plus.al\", 'wb'))"
   ]
  },
  {
   "cell_type": "markdown",
   "metadata": {
    "id": "a6yoUqzMdv2c"
   },
   "source": [
    "**Forecast D3**\n"
   ]
  },
  {
   "cell_type": "code",
   "execution_count": null,
   "metadata": {
    "colab": {
     "base_uri": "https://localhost:8080/",
     "height": 866
    },
    "id": "-vJnG8ysd0cC",
    "outputId": "101274b9-6c22-4b29-c1d8-781b32f7396f"
   },
   "outputs": [],
   "source": [
    "#ria forecast d3\n",
    "ria_model4k = pd.read_csv(\"C:\\\\Users\\AEMet\\Desktop\\st_projets\\enm_udra-main\\meteorological_models\\\\lat42.39707lon-8.69362p4R4KmD3.csv\",parse_dates=[\"time\"]).drop(columns=[\"Unnamed: 0\"]).set_index(\"time\")\n",
    "ria_model4k"
   ]
  },
  {
   "cell_type": "code",
   "execution_count": null,
   "metadata": {
    "colab": {
     "base_uri": "https://localhost:8080/"
    },
    "id": "-0HMFjvceppm",
    "outputId": "aed4965c-1ce1-425c-a741-970b18357524"
   },
   "outputs": [],
   "source": [
    "#label meteorological model prec points 0 , 1, 2 and 3\n",
    "ria_model4k[\"prec0_l\"]=pd.cut(ria_model4k[\"prec0\"], bins=interval,retbins=False,labels=labels).map({a:b for a,b in zip(interval,labels)}).astype(str)\n",
    "ria_model4k[\"prec1_l\"]=pd.cut(ria_model4k[\"prec1\"], bins=interval,retbins=False,labels=labels).map({a:b for a,b in zip(interval,labels)}).astype(str)\n",
    "ria_model4k[\"prec2_l\"]=pd.cut(ria_model4k[\"prec2\"], bins=interval,retbins=False,labels=labels).map({a:b for a,b in zip(interval,labels)}).astype(str)\n",
    "ria_model4k[\"prec3_l\"]=pd.cut(ria_model4k[\"prec3\"], bins=interval,retbins=False,labels=labels).map({a:b for a,b in zip(interval,labels)}).astype(str)\n",
    "df_all4k=pd.concat([station,ria_model4k],axis=1).dropna()\n",
    "\n",
    "df_all4k[[\"prec_lb\",\"prec0_l\",\"prec1_l\",\"prec2_l\",\"prec3_l\"]].sample(20)\n",
    "for l in [\"prec_lb\",\"prec0_l\",\"prec1_l\",\"prec2_l\",\"prec3_l\"]:\n",
    "  print(l)\n",
    "  print(pd.concat([df_all4k[l].value_counts().rename(\"Total\"),\n",
    "           df_all4k[l].value_counts(normalize=True).rename(\"Porcentaje\").map(lambda n: '{:.1%}'.format(n))],axis=1))\n",
    "  print(\"\\n\")"
   ]
  },
  {
   "cell_type": "code",
   "execution_count": null,
   "metadata": {
    "colab": {
     "base_uri": "https://localhost:8080/"
    },
    "id": "kgP2eVcRfgpb",
    "outputId": "d64785ea-b2d1-4a7f-e744-f3c808300bd0"
   },
   "outputs": [],
   "source": [
    "from sklearn.metrics import classification_report\n",
    "\n",
    "print(\"Informe de calidad desagregado (modelo meteorológico)\\n\")\n",
    "for l in [\"prec0_l\",\"prec1_l\",\"prec2_l\",\"prec3_l\"]:\n",
    "  print(l)\n",
    "  print(pd.DataFrame(classification_report(df_all4k.prec_lb, df_all4k[l],output_dict=True)).T)\n",
    "  print(\"\\n\")"
   ]
  },
  {
   "cell_type": "code",
   "execution_count": null,
   "metadata": {
    "colab": {
     "base_uri": "https://localhost:8080/"
    },
    "id": "Q1eIBNaCfjNl",
    "outputId": "60fb2e3a-09fd-4653-ec13-14aa2ea1d272"
   },
   "outputs": [],
   "source": [
    "print(\"Matriz de Confusión  (modelo meteorológico)\\n\")\n",
    "for l in [\"prec0_l\",\"prec1_l\",\"prec2_l\",\"prec3_l\"]:\n",
    "  cm = pd.crosstab(df_all4k.prec_lb, df_all4k[l],margins=True,)\n",
    "  print(cm)\n",
    "  a = cm.values[0,0]\n",
    "  b = cm.values[1,0]\n",
    "  c = cm.values[0,1]\n",
    "  d = cm.values[1,1]\n",
    "  hss = 2*(a*d-b*c)/((a+c)*(c+d)+(a+b)*(b+d))\n",
    "  print(\"Heidke Skill Score:\",round(hss,2))\n",
    "  print(\"\\n\")"
   ]
  },
  {
   "cell_type": "code",
   "execution_count": null,
   "metadata": {
    "colab": {
     "base_uri": "https://localhost:8080/",
     "height": 1000
    },
    "id": "ax1CDE9vgTqs",
    "outputId": "5bd538fa-708a-4c62-dbdf-9d63298af36f"
   },
   "outputs": [],
   "source": [
    "from sklearn.ensemble import ExtraTreesClassifier\n",
    "from sklearn.model_selection import train_test_split\n",
    "from imblearn.over_sampling import SMOTE\n",
    "from sklearn.metrics import classification_report\n",
    "\n",
    "#select x variables\n",
    "x_var = ria_model4k.columns[:-4].to_list()  \n",
    "\n",
    "# X and Y\n",
    "Y=df_all4k.prec_lb\n",
    "X=df_all4k[x_var]\n",
    "\n",
    "# loop ranadom\n",
    "HSS = []\n",
    "for t in range (0,10):\n",
    "  #split variables\n",
    "  X_train, X_test, y_train, y_test = train_test_split(X,Y, test_size=0.15, )\n",
    "\n",
    "  # Resample\n",
    "  X_res, y_res = SMOTE().fit_resample(X_train,y_train)\n",
    "\n",
    "  ml_model = ExtraTreesClassifier(n_estimators=200).fit(X_res,y_res)\n",
    "\n",
    "  #Confussion matrix\n",
    "\n",
    "  print(\"\\nMatriz de Confusión  (Machine Learning)\\n\")\n",
    "\n",
    "  cm = pd.crosstab(y_test, ml_model.predict(X_test),margins=True,)\n",
    "  print(cm)\n",
    "  a = cm.values[0,0]\n",
    "  b = cm.values[1,0]\n",
    "  c = cm.values[0,1]\n",
    "  d = cm.values[1,1]\n",
    "  HSS.append(2*(a*d-b*c)/((a+c)*(c+d)+(a+b)*(b+d)))\n",
    "  print(\"Heidke Skill Score:\",round(HSS[t],2))\n",
    "\n",
    "  #quality report\n",
    "\n",
    "  print(\"\\nInforme de calidad desagregado (Machine Learning)\\n\")\n",
    "  print(pd.DataFrame(classification_report(y_test, ml_model.predict(X_test),output_dict=True)).T)\n",
    "\n",
    "\n",
    "print(\"\\nEstadísticas HSS\")\n",
    "pd.DataFrame(HSS,columns=[\"HSS\"]).describe()"
   ]
  },
  {
   "cell_type": "markdown",
   "metadata": {
    "id": "NX8tdoDggsn2"
   },
   "source": [
    "**Export algorithm d3**"
   ]
  },
  {
   "cell_type": "code",
   "execution_count": null,
   "metadata": {
    "colab": {
     "base_uri": "https://localhost:8080/"
    },
    "id": "4O2yOKlyglIn",
    "outputId": "ce485735-b909-4388-d7a5-6fa096d2ca9e"
   },
   "outputs": [],
   "source": [
    "import pickle\n",
    "from sklearn.pipeline import Pipeline\n",
    "\n",
    "estimators = [('ml_model', ml_model)]\n",
    "pipe = Pipeline(estimators)\n",
    "print(pipe)\n",
    "al_file={\"x_var\":x_var,\"coor\":coor,\"pipe\":pipe}\n",
    "pickle.dump(al_file, open(\"prec_ENM_d3_plus.al\", 'wb'))"
   ]
  },
  {
   "cell_type": "markdown",
   "metadata": {
    "id": "1gcr17Ug-UUf"
   },
   "source": [
    "**Pycaret issues**"
   ]
  },
  {
   "cell_type": "code",
   "execution_count": null,
   "metadata": {
    "id": "oa0DpIeBLQax"
   },
   "outputs": [],
   "source": [
    "!pip install pycaret"
   ]
  },
  {
   "cell_type": "code",
   "execution_count": null,
   "metadata": {
    "colab": {
     "base_uri": "https://localhost:8080/"
    },
    "id": "4wYqRmpUagbv",
    "outputId": "730873d7-6905-46bf-83e4-c1769adc62f7"
   },
   "outputs": [],
   "source": [
    "!pip install Jinja2\n"
   ]
  },
  {
   "cell_type": "code",
   "execution_count": null,
   "metadata": {
    "id": "mpx4XWf0bIz_"
   },
   "outputs": [],
   "source": [
    "import Jinja2"
   ]
  },
  {
   "cell_type": "code",
   "execution_count": null,
   "metadata": {
    "id": "-q3HF72AS4nn"
   },
   "outputs": [],
   "source": [
    "from pycaret.classification import *\n",
    "clas = setup(df_all4k.drop(columns=[\"prec0_l\",\"prec1_l\",\"prec2_l\",\"prec3_l\"]),target = 'prec_l',\n",
    "             session_id=20,normalize=False ,train_size=.85,remove_multicollinearity=False,\n",
    "             fix_imbalance=False,ignore_low_variance=True,feature_selection=True,\n",
    "             feature_selection_threshold =.15,pca=False,polynomial_features=False,\n",
    "             trigonometry_features=False,feature_interaction=False)"
   ]
  },
  {
   "cell_type": "code",
   "execution_count": null,
   "metadata": {
    "colab": {
     "base_uri": "https://localhost:8080/",
     "height": 593,
     "referenced_widgets": [
      "d296780029e54a6ea878eeef19391720",
      "8b59320e817544fd854149276142a6df",
      "bfea71aa81024319a4f2b385bca78f15"
     ]
    },
    "id": "XkR-gHRnT_9e",
    "outputId": "75d4b119-204f-46f3-9563-6f98a53a092e"
   },
   "outputs": [],
   "source": [
    "compare_models(fold=5,sort=\"F1\")"
   ]
  },
  {
   "cell_type": "code",
   "execution_count": null,
   "metadata": {
    "colab": {
     "base_uri": "https://localhost:8080/",
     "height": 426,
     "referenced_widgets": [
      "c9d6de1b0fd04563a989edb885206ad6",
      "010ac8557a974c4985e0dcfbe3b0fd90",
      "c7726c1d616e4e95a33d5548fd7289c0"
     ]
    },
    "id": "rpiW8vAzaf2_",
    "outputId": "d69bc54f-30bf-465e-c2ce-bff571097068"
   },
   "outputs": [],
   "source": [
    "model=create_model(\"lightgbm\",n_estimators=250,fold=10)"
   ]
  },
  {
   "cell_type": "code",
   "execution_count": null,
   "metadata": {
    "colab": {
     "base_uri": "https://localhost:8080/",
     "height": 376
    },
    "id": "U8gQNNE7bFA4",
    "outputId": "6270db2c-0932-4cfd-938a-dc9ac685d681"
   },
   "outputs": [],
   "source": [
    "plot_model(model, plot = 'auc')"
   ]
  },
  {
   "cell_type": "code",
   "execution_count": null,
   "metadata": {
    "colab": {
     "base_uri": "https://localhost:8080/",
     "height": 376
    },
    "id": "IVfrNltfd7Yc",
    "outputId": "8f0fce06-f37e-45d0-d7c7-6d66c23323db"
   },
   "outputs": [],
   "source": [
    "plot_model(model, plot = 'pr')"
   ]
  },
  {
   "cell_type": "code",
   "execution_count": null,
   "metadata": {
    "colab": {
     "base_uri": "https://localhost:8080/",
     "height": 401
    },
    "id": "jTZs3VDNerTR",
    "outputId": "24cf6670-708f-490b-863d-1b41d38a90fa"
   },
   "outputs": [],
   "source": [
    "plot_model(model,'confusion_matrix')"
   ]
  },
  {
   "cell_type": "code",
   "execution_count": null,
   "metadata": {
    "colab": {
     "base_uri": "https://localhost:8080/",
     "height": 401
    },
    "id": "gLwiAAZaXLpr",
    "outputId": "a6924c75-35ad-4f5d-b10b-d5fada27d14c"
   },
   "outputs": [],
   "source": [
    "plot_model(model,'class_report')"
   ]
  },
  {
   "cell_type": "code",
   "execution_count": null,
   "metadata": {
    "colab": {
     "base_uri": "https://localhost:8080/",
     "height": 478
    },
    "id": "4d4cA12tm8ai",
    "outputId": "ef423501-321a-4638-df64-c6940be6a1cd"
   },
   "outputs": [],
   "source": [
    "plot_model(model,\"feature\")"
   ]
  },
  {
   "cell_type": "code",
   "execution_count": null,
   "metadata": {
    "colab": {
     "base_uri": "https://localhost:8080/",
     "height": 401
    },
    "id": "0z7cVX4EZvDR",
    "outputId": "03d3910d-2ea4-415f-aa28-ee1f3ba08e60"
   },
   "outputs": [],
   "source": [
    "plot_model(model,\"error\")"
   ]
  }
 ],
 "metadata": {
  "colab": {
   "name": "prec_enm.ipynb",
   "provenance": []
  },
  "kernelspec": {
   "display_name": "Python 3",
   "language": "python",
   "name": "python3"
  },
  "language_info": {
   "codemirror_mode": {
    "name": "ipython",
    "version": 3
   },
   "file_extension": ".py",
   "mimetype": "text/x-python",
   "name": "python",
   "nbconvert_exporter": "python",
   "pygments_lexer": "ipython3",
   "version": "3.6.13"
  },
  "widgets": {
   "application/vnd.jupyter.widget-state+json": {
    "010ac8557a974c4985e0dcfbe3b0fd90": {
     "model_module": "@jupyter-widgets/controls",
     "model_module_version": "1.5.0",
     "model_name": "ProgressStyleModel",
     "state": {
      "_model_module": "@jupyter-widgets/controls",
      "_model_module_version": "1.5.0",
      "_model_name": "ProgressStyleModel",
      "_view_count": null,
      "_view_module": "@jupyter-widgets/base",
      "_view_module_version": "1.2.0",
      "_view_name": "StyleView",
      "bar_color": null,
      "description_width": ""
     }
    },
    "8b59320e817544fd854149276142a6df": {
     "model_module": "@jupyter-widgets/controls",
     "model_module_version": "1.5.0",
     "model_name": "ProgressStyleModel",
     "state": {
      "_model_module": "@jupyter-widgets/controls",
      "_model_module_version": "1.5.0",
      "_model_name": "ProgressStyleModel",
      "_view_count": null,
      "_view_module": "@jupyter-widgets/base",
      "_view_module_version": "1.2.0",
      "_view_name": "StyleView",
      "bar_color": null,
      "description_width": ""
     }
    },
    "bfea71aa81024319a4f2b385bca78f15": {
     "model_module": "@jupyter-widgets/base",
     "model_module_version": "1.2.0",
     "model_name": "LayoutModel",
     "state": {
      "_model_module": "@jupyter-widgets/base",
      "_model_module_version": "1.2.0",
      "_model_name": "LayoutModel",
      "_view_count": null,
      "_view_module": "@jupyter-widgets/base",
      "_view_module_version": "1.2.0",
      "_view_name": "LayoutView",
      "align_content": null,
      "align_items": null,
      "align_self": null,
      "border": null,
      "bottom": null,
      "display": null,
      "flex": null,
      "flex_flow": null,
      "grid_area": null,
      "grid_auto_columns": null,
      "grid_auto_flow": null,
      "grid_auto_rows": null,
      "grid_column": null,
      "grid_gap": null,
      "grid_row": null,
      "grid_template_areas": null,
      "grid_template_columns": null,
      "grid_template_rows": null,
      "height": null,
      "justify_content": null,
      "justify_items": null,
      "left": null,
      "margin": null,
      "max_height": null,
      "max_width": null,
      "min_height": null,
      "min_width": null,
      "object_fit": null,
      "object_position": null,
      "order": null,
      "overflow": null,
      "overflow_x": null,
      "overflow_y": null,
      "padding": null,
      "right": null,
      "top": null,
      "visibility": null,
      "width": null
     }
    },
    "c7726c1d616e4e95a33d5548fd7289c0": {
     "model_module": "@jupyter-widgets/base",
     "model_module_version": "1.2.0",
     "model_name": "LayoutModel",
     "state": {
      "_model_module": "@jupyter-widgets/base",
      "_model_module_version": "1.2.0",
      "_model_name": "LayoutModel",
      "_view_count": null,
      "_view_module": "@jupyter-widgets/base",
      "_view_module_version": "1.2.0",
      "_view_name": "LayoutView",
      "align_content": null,
      "align_items": null,
      "align_self": null,
      "border": null,
      "bottom": null,
      "display": null,
      "flex": null,
      "flex_flow": null,
      "grid_area": null,
      "grid_auto_columns": null,
      "grid_auto_flow": null,
      "grid_auto_rows": null,
      "grid_column": null,
      "grid_gap": null,
      "grid_row": null,
      "grid_template_areas": null,
      "grid_template_columns": null,
      "grid_template_rows": null,
      "height": null,
      "justify_content": null,
      "justify_items": null,
      "left": null,
      "margin": null,
      "max_height": null,
      "max_width": null,
      "min_height": null,
      "min_width": null,
      "object_fit": null,
      "object_position": null,
      "order": null,
      "overflow": null,
      "overflow_x": null,
      "overflow_y": null,
      "padding": null,
      "right": null,
      "top": null,
      "visibility": null,
      "width": null
     }
    },
    "c9d6de1b0fd04563a989edb885206ad6": {
     "model_module": "@jupyter-widgets/controls",
     "model_module_version": "1.5.0",
     "model_name": "IntProgressModel",
     "state": {
      "_dom_classes": [],
      "_model_module": "@jupyter-widgets/controls",
      "_model_module_version": "1.5.0",
      "_model_name": "IntProgressModel",
      "_view_count": null,
      "_view_module": "@jupyter-widgets/controls",
      "_view_module_version": "1.5.0",
      "_view_name": "ProgressView",
      "bar_style": "",
      "description": "Processing: ",
      "description_tooltip": null,
      "layout": "IPY_MODEL_c7726c1d616e4e95a33d5548fd7289c0",
      "max": 4,
      "min": 0,
      "orientation": "horizontal",
      "style": "IPY_MODEL_010ac8557a974c4985e0dcfbe3b0fd90",
      "value": 4
     }
    },
    "d296780029e54a6ea878eeef19391720": {
     "model_module": "@jupyter-widgets/controls",
     "model_module_version": "1.5.0",
     "model_name": "IntProgressModel",
     "state": {
      "_dom_classes": [],
      "_model_module": "@jupyter-widgets/controls",
      "_model_module_version": "1.5.0",
      "_model_name": "IntProgressModel",
      "_view_count": null,
      "_view_module": "@jupyter-widgets/controls",
      "_view_module_version": "1.5.0",
      "_view_name": "ProgressView",
      "bar_style": "",
      "description": "Processing: ",
      "description_tooltip": null,
      "layout": "IPY_MODEL_bfea71aa81024319a4f2b385bca78f15",
      "max": 74,
      "min": 0,
      "orientation": "horizontal",
      "style": "IPY_MODEL_8b59320e817544fd854149276142a6df",
      "value": 74
     }
    }
   }
  }
 },
 "nbformat": 4,
 "nbformat_minor": 4
}
